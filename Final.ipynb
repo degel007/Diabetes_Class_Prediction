{
 "cells": [
  {
   "cell_type": "markdown",
   "id": "a24d31d8",
   "metadata": {},
   "source": [
    "# Data Collection"
   ]
  },
  {
   "cell_type": "code",
   "execution_count": 61,
   "id": "77b139fb",
   "metadata": {
    "scrolled": true
   },
   "outputs": [
    {
     "data": {
      "text/html": [
       "<div>\n",
       "<style scoped>\n",
       "    .dataframe tbody tr th:only-of-type {\n",
       "        vertical-align: middle;\n",
       "    }\n",
       "\n",
       "    .dataframe tbody tr th {\n",
       "        vertical-align: top;\n",
       "    }\n",
       "\n",
       "    .dataframe thead th {\n",
       "        text-align: right;\n",
       "    }\n",
       "</style>\n",
       "<table border=\"1\" class=\"dataframe\">\n",
       "  <thead>\n",
       "    <tr style=\"text-align: right;\">\n",
       "      <th></th>\n",
       "      <th>ID</th>\n",
       "      <th>No_Pation</th>\n",
       "      <th>Gender</th>\n",
       "      <th>AGE</th>\n",
       "      <th>Urea</th>\n",
       "      <th>Cr</th>\n",
       "      <th>HbA1c</th>\n",
       "      <th>Chol</th>\n",
       "      <th>TG</th>\n",
       "      <th>HDL</th>\n",
       "      <th>LDL</th>\n",
       "      <th>VLDL</th>\n",
       "      <th>BMI</th>\n",
       "      <th>CLASS</th>\n",
       "    </tr>\n",
       "  </thead>\n",
       "  <tbody>\n",
       "    <tr>\n",
       "      <th>0</th>\n",
       "      <td>502</td>\n",
       "      <td>17975</td>\n",
       "      <td>F</td>\n",
       "      <td>50</td>\n",
       "      <td>4.7</td>\n",
       "      <td>46</td>\n",
       "      <td>4.9</td>\n",
       "      <td>4.2</td>\n",
       "      <td>0.9</td>\n",
       "      <td>2.4</td>\n",
       "      <td>1.4</td>\n",
       "      <td>0.5</td>\n",
       "      <td>24.0</td>\n",
       "      <td>N</td>\n",
       "    </tr>\n",
       "    <tr>\n",
       "      <th>1</th>\n",
       "      <td>735</td>\n",
       "      <td>34221</td>\n",
       "      <td>M</td>\n",
       "      <td>26</td>\n",
       "      <td>4.5</td>\n",
       "      <td>62</td>\n",
       "      <td>4.9</td>\n",
       "      <td>3.7</td>\n",
       "      <td>1.4</td>\n",
       "      <td>1.1</td>\n",
       "      <td>2.1</td>\n",
       "      <td>0.6</td>\n",
       "      <td>23.0</td>\n",
       "      <td>N</td>\n",
       "    </tr>\n",
       "    <tr>\n",
       "      <th>2</th>\n",
       "      <td>420</td>\n",
       "      <td>47975</td>\n",
       "      <td>F</td>\n",
       "      <td>50</td>\n",
       "      <td>4.7</td>\n",
       "      <td>46</td>\n",
       "      <td>4.9</td>\n",
       "      <td>4.2</td>\n",
       "      <td>0.9</td>\n",
       "      <td>2.4</td>\n",
       "      <td>1.4</td>\n",
       "      <td>0.5</td>\n",
       "      <td>24.0</td>\n",
       "      <td>N</td>\n",
       "    </tr>\n",
       "    <tr>\n",
       "      <th>3</th>\n",
       "      <td>680</td>\n",
       "      <td>87656</td>\n",
       "      <td>F</td>\n",
       "      <td>50</td>\n",
       "      <td>4.7</td>\n",
       "      <td>46</td>\n",
       "      <td>4.9</td>\n",
       "      <td>4.2</td>\n",
       "      <td>0.9</td>\n",
       "      <td>2.4</td>\n",
       "      <td>1.4</td>\n",
       "      <td>0.5</td>\n",
       "      <td>24.0</td>\n",
       "      <td>N</td>\n",
       "    </tr>\n",
       "    <tr>\n",
       "      <th>4</th>\n",
       "      <td>504</td>\n",
       "      <td>34223</td>\n",
       "      <td>M</td>\n",
       "      <td>33</td>\n",
       "      <td>7.1</td>\n",
       "      <td>46</td>\n",
       "      <td>4.9</td>\n",
       "      <td>4.9</td>\n",
       "      <td>1.0</td>\n",
       "      <td>0.8</td>\n",
       "      <td>2.0</td>\n",
       "      <td>0.4</td>\n",
       "      <td>21.0</td>\n",
       "      <td>N</td>\n",
       "    </tr>\n",
       "    <tr>\n",
       "      <th>...</th>\n",
       "      <td>...</td>\n",
       "      <td>...</td>\n",
       "      <td>...</td>\n",
       "      <td>...</td>\n",
       "      <td>...</td>\n",
       "      <td>...</td>\n",
       "      <td>...</td>\n",
       "      <td>...</td>\n",
       "      <td>...</td>\n",
       "      <td>...</td>\n",
       "      <td>...</td>\n",
       "      <td>...</td>\n",
       "      <td>...</td>\n",
       "      <td>...</td>\n",
       "    </tr>\n",
       "    <tr>\n",
       "      <th>995</th>\n",
       "      <td>200</td>\n",
       "      <td>454317</td>\n",
       "      <td>M</td>\n",
       "      <td>71</td>\n",
       "      <td>11.0</td>\n",
       "      <td>97</td>\n",
       "      <td>7.0</td>\n",
       "      <td>7.5</td>\n",
       "      <td>1.7</td>\n",
       "      <td>1.2</td>\n",
       "      <td>1.8</td>\n",
       "      <td>0.6</td>\n",
       "      <td>30.0</td>\n",
       "      <td>Y</td>\n",
       "    </tr>\n",
       "    <tr>\n",
       "      <th>996</th>\n",
       "      <td>671</td>\n",
       "      <td>876534</td>\n",
       "      <td>M</td>\n",
       "      <td>31</td>\n",
       "      <td>3.0</td>\n",
       "      <td>60</td>\n",
       "      <td>12.3</td>\n",
       "      <td>4.1</td>\n",
       "      <td>2.2</td>\n",
       "      <td>0.7</td>\n",
       "      <td>2.4</td>\n",
       "      <td>15.4</td>\n",
       "      <td>37.2</td>\n",
       "      <td>Y</td>\n",
       "    </tr>\n",
       "    <tr>\n",
       "      <th>997</th>\n",
       "      <td>669</td>\n",
       "      <td>87654</td>\n",
       "      <td>M</td>\n",
       "      <td>30</td>\n",
       "      <td>7.1</td>\n",
       "      <td>81</td>\n",
       "      <td>6.7</td>\n",
       "      <td>4.1</td>\n",
       "      <td>1.1</td>\n",
       "      <td>1.2</td>\n",
       "      <td>2.4</td>\n",
       "      <td>8.1</td>\n",
       "      <td>27.4</td>\n",
       "      <td>Y</td>\n",
       "    </tr>\n",
       "    <tr>\n",
       "      <th>998</th>\n",
       "      <td>99</td>\n",
       "      <td>24004</td>\n",
       "      <td>M</td>\n",
       "      <td>38</td>\n",
       "      <td>5.8</td>\n",
       "      <td>59</td>\n",
       "      <td>6.7</td>\n",
       "      <td>5.3</td>\n",
       "      <td>2.0</td>\n",
       "      <td>1.6</td>\n",
       "      <td>2.9</td>\n",
       "      <td>14.0</td>\n",
       "      <td>40.5</td>\n",
       "      <td>Y</td>\n",
       "    </tr>\n",
       "    <tr>\n",
       "      <th>999</th>\n",
       "      <td>248</td>\n",
       "      <td>24054</td>\n",
       "      <td>M</td>\n",
       "      <td>54</td>\n",
       "      <td>5.0</td>\n",
       "      <td>67</td>\n",
       "      <td>6.9</td>\n",
       "      <td>3.8</td>\n",
       "      <td>1.7</td>\n",
       "      <td>1.1</td>\n",
       "      <td>3.0</td>\n",
       "      <td>0.7</td>\n",
       "      <td>33.0</td>\n",
       "      <td>Y</td>\n",
       "    </tr>\n",
       "  </tbody>\n",
       "</table>\n",
       "<p>1000 rows × 14 columns</p>\n",
       "</div>"
      ],
      "text/plain": [
       "      ID  No_Pation Gender  AGE  Urea  Cr  HbA1c  Chol   TG  HDL  LDL  VLDL  \\\n",
       "0    502      17975      F   50   4.7  46    4.9   4.2  0.9  2.4  1.4   0.5   \n",
       "1    735      34221      M   26   4.5  62    4.9   3.7  1.4  1.1  2.1   0.6   \n",
       "2    420      47975      F   50   4.7  46    4.9   4.2  0.9  2.4  1.4   0.5   \n",
       "3    680      87656      F   50   4.7  46    4.9   4.2  0.9  2.4  1.4   0.5   \n",
       "4    504      34223      M   33   7.1  46    4.9   4.9  1.0  0.8  2.0   0.4   \n",
       "..   ...        ...    ...  ...   ...  ..    ...   ...  ...  ...  ...   ...   \n",
       "995  200     454317      M   71  11.0  97    7.0   7.5  1.7  1.2  1.8   0.6   \n",
       "996  671     876534      M   31   3.0  60   12.3   4.1  2.2  0.7  2.4  15.4   \n",
       "997  669      87654      M   30   7.1  81    6.7   4.1  1.1  1.2  2.4   8.1   \n",
       "998   99      24004      M   38   5.8  59    6.7   5.3  2.0  1.6  2.9  14.0   \n",
       "999  248      24054      M   54   5.0  67    6.9   3.8  1.7  1.1  3.0   0.7   \n",
       "\n",
       "      BMI CLASS  \n",
       "0    24.0     N  \n",
       "1    23.0     N  \n",
       "2    24.0     N  \n",
       "3    24.0     N  \n",
       "4    21.0     N  \n",
       "..    ...   ...  \n",
       "995  30.0     Y  \n",
       "996  37.2    Y   \n",
       "997  27.4    Y   \n",
       "998  40.5    Y   \n",
       "999  33.0    Y   \n",
       "\n",
       "[1000 rows x 14 columns]"
      ]
     },
     "execution_count": 61,
     "metadata": {},
     "output_type": "execute_result"
    }
   ],
   "source": [
    "%matplotlib inline\n",
    "import pandas as pd\n",
    "import numpy as np\n",
    "from IPython.display import display\n",
    "import matplotlib.pyplot as plt\n",
    "import seaborn as sns\n",
    "\n",
    "\n",
    "df = pd.read_excel('COM725 Project Dataset.xlsx', sheet_name = 'Sheet 1')\n",
    "\n",
    "df"
   ]
  },
  {
   "cell_type": "code",
   "execution_count": 2,
   "id": "d3c795c1",
   "metadata": {},
   "outputs": [
    {
     "data": {
      "text/plain": [
       "(1000, 14)"
      ]
     },
     "execution_count": 2,
     "metadata": {},
     "output_type": "execute_result"
    }
   ],
   "source": [
    "#Checking for the shape of the data\n",
    "df.shape"
   ]
  },
  {
   "cell_type": "code",
   "execution_count": 3,
   "id": "3aaac65c",
   "metadata": {},
   "outputs": [
    {
     "data": {
      "text/plain": [
       "Index(['ID', 'No_Pation', 'Gender', 'AGE', 'Urea', 'Cr', 'HbA1c', 'Chol', 'TG',\n",
       "       'HDL', 'LDL', 'VLDL', 'BMI', 'CLASS'],\n",
       "      dtype='object')"
      ]
     },
     "execution_count": 3,
     "metadata": {},
     "output_type": "execute_result"
    }
   ],
   "source": [
    "#Checking for column names\n",
    "df.columns"
   ]
  },
  {
   "cell_type": "code",
   "execution_count": 4,
   "id": "e64611d8",
   "metadata": {},
   "outputs": [
    {
     "data": {
      "text/plain": [
       "ID             int64\n",
       "No_Pation      int64\n",
       "Gender        object\n",
       "AGE            int64\n",
       "Urea         float64\n",
       "Cr             int64\n",
       "HbA1c        float64\n",
       "Chol         float64\n",
       "TG           float64\n",
       "HDL          float64\n",
       "LDL          float64\n",
       "VLDL         float64\n",
       "BMI          float64\n",
       "CLASS         object\n",
       "dtype: object"
      ]
     },
     "execution_count": 4,
     "metadata": {},
     "output_type": "execute_result"
    }
   ],
   "source": [
    "#Checking for the formats of the data in each column\n",
    "df.dtypes"
   ]
  },
  {
   "cell_type": "code",
   "execution_count": 5,
   "id": "e8b674d9",
   "metadata": {},
   "outputs": [
    {
     "data": {
      "text/plain": [
       "ID           0\n",
       "No_Pation    0\n",
       "Gender       0\n",
       "AGE          0\n",
       "Urea         0\n",
       "Cr           0\n",
       "HbA1c        0\n",
       "Chol         0\n",
       "TG           0\n",
       "HDL          0\n",
       "LDL          0\n",
       "VLDL         0\n",
       "BMI          0\n",
       "CLASS        0\n",
       "dtype: int64"
      ]
     },
     "execution_count": 5,
     "metadata": {},
     "output_type": "execute_result"
    }
   ],
   "source": [
    "#Checking for null values in each column\n",
    "df.isnull().sum()"
   ]
  },
  {
   "cell_type": "code",
   "execution_count": 6,
   "id": "90dc1fb5",
   "metadata": {},
   "outputs": [
    {
     "data": {
      "text/html": [
       "<div>\n",
       "<style scoped>\n",
       "    .dataframe tbody tr th:only-of-type {\n",
       "        vertical-align: middle;\n",
       "    }\n",
       "\n",
       "    .dataframe tbody tr th {\n",
       "        vertical-align: top;\n",
       "    }\n",
       "\n",
       "    .dataframe thead th {\n",
       "        text-align: right;\n",
       "    }\n",
       "</style>\n",
       "<table border=\"1\" class=\"dataframe\">\n",
       "  <thead>\n",
       "    <tr style=\"text-align: right;\">\n",
       "      <th></th>\n",
       "      <th>ID</th>\n",
       "      <th>No_Pation</th>\n",
       "      <th>AGE</th>\n",
       "      <th>Urea</th>\n",
       "      <th>Cr</th>\n",
       "      <th>HbA1c</th>\n",
       "      <th>Chol</th>\n",
       "      <th>TG</th>\n",
       "      <th>HDL</th>\n",
       "      <th>LDL</th>\n",
       "      <th>VLDL</th>\n",
       "      <th>BMI</th>\n",
       "    </tr>\n",
       "  </thead>\n",
       "  <tbody>\n",
       "    <tr>\n",
       "      <th>count</th>\n",
       "      <td>1000.000000</td>\n",
       "      <td>1.000000e+03</td>\n",
       "      <td>1000.000000</td>\n",
       "      <td>1000.000000</td>\n",
       "      <td>1000.000000</td>\n",
       "      <td>1000.000000</td>\n",
       "      <td>1000.000000</td>\n",
       "      <td>1000.000000</td>\n",
       "      <td>1000.000000</td>\n",
       "      <td>1000.000000</td>\n",
       "      <td>1000.000000</td>\n",
       "      <td>1000.000000</td>\n",
       "    </tr>\n",
       "    <tr>\n",
       "      <th>mean</th>\n",
       "      <td>340.500000</td>\n",
       "      <td>2.705514e+05</td>\n",
       "      <td>53.528000</td>\n",
       "      <td>5.124743</td>\n",
       "      <td>68.943000</td>\n",
       "      <td>8.281160</td>\n",
       "      <td>4.862820</td>\n",
       "      <td>2.349610</td>\n",
       "      <td>1.204750</td>\n",
       "      <td>2.609790</td>\n",
       "      <td>1.854700</td>\n",
       "      <td>29.578020</td>\n",
       "    </tr>\n",
       "    <tr>\n",
       "      <th>std</th>\n",
       "      <td>240.397673</td>\n",
       "      <td>3.380758e+06</td>\n",
       "      <td>8.799241</td>\n",
       "      <td>2.935165</td>\n",
       "      <td>59.984747</td>\n",
       "      <td>2.534003</td>\n",
       "      <td>1.301738</td>\n",
       "      <td>1.401176</td>\n",
       "      <td>0.660414</td>\n",
       "      <td>1.115102</td>\n",
       "      <td>3.663599</td>\n",
       "      <td>4.962388</td>\n",
       "    </tr>\n",
       "    <tr>\n",
       "      <th>min</th>\n",
       "      <td>1.000000</td>\n",
       "      <td>1.230000e+02</td>\n",
       "      <td>20.000000</td>\n",
       "      <td>0.500000</td>\n",
       "      <td>6.000000</td>\n",
       "      <td>0.900000</td>\n",
       "      <td>0.000000</td>\n",
       "      <td>0.300000</td>\n",
       "      <td>0.200000</td>\n",
       "      <td>0.300000</td>\n",
       "      <td>0.100000</td>\n",
       "      <td>19.000000</td>\n",
       "    </tr>\n",
       "    <tr>\n",
       "      <th>25%</th>\n",
       "      <td>125.750000</td>\n",
       "      <td>2.406375e+04</td>\n",
       "      <td>51.000000</td>\n",
       "      <td>3.700000</td>\n",
       "      <td>48.000000</td>\n",
       "      <td>6.500000</td>\n",
       "      <td>4.000000</td>\n",
       "      <td>1.500000</td>\n",
       "      <td>0.900000</td>\n",
       "      <td>1.800000</td>\n",
       "      <td>0.700000</td>\n",
       "      <td>26.000000</td>\n",
       "    </tr>\n",
       "    <tr>\n",
       "      <th>50%</th>\n",
       "      <td>300.500000</td>\n",
       "      <td>3.439550e+04</td>\n",
       "      <td>55.000000</td>\n",
       "      <td>4.600000</td>\n",
       "      <td>60.000000</td>\n",
       "      <td>8.000000</td>\n",
       "      <td>4.800000</td>\n",
       "      <td>2.000000</td>\n",
       "      <td>1.100000</td>\n",
       "      <td>2.500000</td>\n",
       "      <td>0.900000</td>\n",
       "      <td>30.000000</td>\n",
       "    </tr>\n",
       "    <tr>\n",
       "      <th>75%</th>\n",
       "      <td>550.250000</td>\n",
       "      <td>4.538425e+04</td>\n",
       "      <td>59.000000</td>\n",
       "      <td>5.700000</td>\n",
       "      <td>73.000000</td>\n",
       "      <td>10.200000</td>\n",
       "      <td>5.600000</td>\n",
       "      <td>2.900000</td>\n",
       "      <td>1.300000</td>\n",
       "      <td>3.300000</td>\n",
       "      <td>1.500000</td>\n",
       "      <td>33.000000</td>\n",
       "    </tr>\n",
       "    <tr>\n",
       "      <th>max</th>\n",
       "      <td>800.000000</td>\n",
       "      <td>7.543566e+07</td>\n",
       "      <td>79.000000</td>\n",
       "      <td>38.900000</td>\n",
       "      <td>800.000000</td>\n",
       "      <td>16.000000</td>\n",
       "      <td>10.300000</td>\n",
       "      <td>13.800000</td>\n",
       "      <td>9.900000</td>\n",
       "      <td>9.900000</td>\n",
       "      <td>35.000000</td>\n",
       "      <td>47.750000</td>\n",
       "    </tr>\n",
       "  </tbody>\n",
       "</table>\n",
       "</div>"
      ],
      "text/plain": [
       "                ID     No_Pation          AGE         Urea           Cr  \\\n",
       "count  1000.000000  1.000000e+03  1000.000000  1000.000000  1000.000000   \n",
       "mean    340.500000  2.705514e+05    53.528000     5.124743    68.943000   \n",
       "std     240.397673  3.380758e+06     8.799241     2.935165    59.984747   \n",
       "min       1.000000  1.230000e+02    20.000000     0.500000     6.000000   \n",
       "25%     125.750000  2.406375e+04    51.000000     3.700000    48.000000   \n",
       "50%     300.500000  3.439550e+04    55.000000     4.600000    60.000000   \n",
       "75%     550.250000  4.538425e+04    59.000000     5.700000    73.000000   \n",
       "max     800.000000  7.543566e+07    79.000000    38.900000   800.000000   \n",
       "\n",
       "             HbA1c         Chol           TG          HDL          LDL  \\\n",
       "count  1000.000000  1000.000000  1000.000000  1000.000000  1000.000000   \n",
       "mean      8.281160     4.862820     2.349610     1.204750     2.609790   \n",
       "std       2.534003     1.301738     1.401176     0.660414     1.115102   \n",
       "min       0.900000     0.000000     0.300000     0.200000     0.300000   \n",
       "25%       6.500000     4.000000     1.500000     0.900000     1.800000   \n",
       "50%       8.000000     4.800000     2.000000     1.100000     2.500000   \n",
       "75%      10.200000     5.600000     2.900000     1.300000     3.300000   \n",
       "max      16.000000    10.300000    13.800000     9.900000     9.900000   \n",
       "\n",
       "              VLDL          BMI  \n",
       "count  1000.000000  1000.000000  \n",
       "mean      1.854700    29.578020  \n",
       "std       3.663599     4.962388  \n",
       "min       0.100000    19.000000  \n",
       "25%       0.700000    26.000000  \n",
       "50%       0.900000    30.000000  \n",
       "75%       1.500000    33.000000  \n",
       "max      35.000000    47.750000  "
      ]
     },
     "execution_count": 6,
     "metadata": {},
     "output_type": "execute_result"
    }
   ],
   "source": [
    "df.describe()"
   ]
  },
  {
   "cell_type": "code",
   "execution_count": 59,
   "id": "ddb956dd",
   "metadata": {},
   "outputs": [
    {
     "name": "stdout",
     "output_type": "stream",
     "text": [
      "<class 'pandas.core.frame.DataFrame'>\n",
      "RangeIndex: 1000 entries, 0 to 999\n",
      "Data columns (total 14 columns):\n",
      " #   Column     Non-Null Count  Dtype  \n",
      "---  ------     --------------  -----  \n",
      " 0   ID         1000 non-null   int64  \n",
      " 1   No_Pation  1000 non-null   int64  \n",
      " 2   Gender     999 non-null    float64\n",
      " 3   AGE        1000 non-null   int64  \n",
      " 4   Urea       1000 non-null   float64\n",
      " 5   Cr         1000 non-null   int64  \n",
      " 6   HbA1c      1000 non-null   float64\n",
      " 7   Chol       1000 non-null   float64\n",
      " 8   TG         1000 non-null   float64\n",
      " 9   HDL        1000 non-null   float64\n",
      " 10  LDL        1000 non-null   float64\n",
      " 11  VLDL       1000 non-null   float64\n",
      " 12  BMI        1000 non-null   float64\n",
      " 13  CLASS      1000 non-null   object \n",
      "dtypes: float64(9), int64(4), object(1)\n",
      "memory usage: 109.5+ KB\n"
     ]
    }
   ],
   "source": [
    "df.info()"
   ]
  },
  {
   "cell_type": "markdown",
   "id": "c27dbf71",
   "metadata": {},
   "source": [
    "# Data Cleaning"
   ]
  },
  {
   "cell_type": "markdown",
   "id": "d74064a4",
   "metadata": {},
   "source": [
    "Checking for consistency of values in Categorical columns"
   ]
  },
  {
   "cell_type": "code",
   "execution_count": 62,
   "id": "7bced55d",
   "metadata": {},
   "outputs": [
    {
     "name": "stdout",
     "output_type": "stream",
     "text": [
      "['N' 'N ' 'P' 'Y' 'Y ']\n",
      "['N' 'P' 'Y']\n",
      "\n",
      ".......................................\n",
      "\n",
      "\n",
      "['F' 'M' 'f']\n",
      "['F' 'M']\n"
     ]
    }
   ],
   "source": [
    "\n",
    "print(df['CLASS'].unique())\n",
    "\n",
    "#Clean up values in the Class column\n",
    "\n",
    "df['CLASS'] = df['CLASS'].replace({'N ':'N','Y ':'Y'})\n",
    "\n",
    "print(df['CLASS'].unique())\n",
    "\n",
    "print('\\n.......................................\\n\\n')\n",
    "\n",
    "print(df['Gender'].unique())\n",
    "\n",
    "#Clean up values in the Gender Column\n",
    "df['Gender'] = df['Gender'].replace('f', 'F')\n",
    "\n",
    "print(df['Gender'].unique())"
   ]
  },
  {
   "cell_type": "markdown",
   "id": "e971c567",
   "metadata": {},
   "source": [
    "# Exploratory Analysis"
   ]
  },
  {
   "cell_type": "code",
   "execution_count": 9,
   "id": "5e570645",
   "metadata": {},
   "outputs": [
    {
     "data": {
      "text/html": [
       "<div>\n",
       "<style scoped>\n",
       "    .dataframe tbody tr th:only-of-type {\n",
       "        vertical-align: middle;\n",
       "    }\n",
       "\n",
       "    .dataframe tbody tr th {\n",
       "        vertical-align: top;\n",
       "    }\n",
       "\n",
       "    .dataframe thead th {\n",
       "        text-align: right;\n",
       "    }\n",
       "</style>\n",
       "<table border=\"1\" class=\"dataframe\">\n",
       "  <thead>\n",
       "    <tr style=\"text-align: right;\">\n",
       "      <th></th>\n",
       "      <th>AGE</th>\n",
       "      <th>Urea</th>\n",
       "      <th>Cr</th>\n",
       "      <th>HbA1c</th>\n",
       "      <th>Chol</th>\n",
       "      <th>TG</th>\n",
       "      <th>HDL</th>\n",
       "      <th>LDL</th>\n",
       "      <th>VLDL</th>\n",
       "      <th>BMI</th>\n",
       "    </tr>\n",
       "  </thead>\n",
       "  <tbody>\n",
       "    <tr>\n",
       "      <th>count</th>\n",
       "      <td>1000.000000</td>\n",
       "      <td>1000.000000</td>\n",
       "      <td>1000.000000</td>\n",
       "      <td>1000.000000</td>\n",
       "      <td>1000.000000</td>\n",
       "      <td>1000.000000</td>\n",
       "      <td>1000.000000</td>\n",
       "      <td>1000.000000</td>\n",
       "      <td>1000.000000</td>\n",
       "      <td>1000.000000</td>\n",
       "    </tr>\n",
       "    <tr>\n",
       "      <th>mean</th>\n",
       "      <td>53.528000</td>\n",
       "      <td>5.124743</td>\n",
       "      <td>68.943000</td>\n",
       "      <td>8.281160</td>\n",
       "      <td>4.862820</td>\n",
       "      <td>2.349610</td>\n",
       "      <td>1.204750</td>\n",
       "      <td>2.609790</td>\n",
       "      <td>1.854700</td>\n",
       "      <td>29.578020</td>\n",
       "    </tr>\n",
       "    <tr>\n",
       "      <th>std</th>\n",
       "      <td>8.799241</td>\n",
       "      <td>2.935165</td>\n",
       "      <td>59.984747</td>\n",
       "      <td>2.534003</td>\n",
       "      <td>1.301738</td>\n",
       "      <td>1.401176</td>\n",
       "      <td>0.660414</td>\n",
       "      <td>1.115102</td>\n",
       "      <td>3.663599</td>\n",
       "      <td>4.962388</td>\n",
       "    </tr>\n",
       "    <tr>\n",
       "      <th>min</th>\n",
       "      <td>20.000000</td>\n",
       "      <td>0.500000</td>\n",
       "      <td>6.000000</td>\n",
       "      <td>0.900000</td>\n",
       "      <td>0.000000</td>\n",
       "      <td>0.300000</td>\n",
       "      <td>0.200000</td>\n",
       "      <td>0.300000</td>\n",
       "      <td>0.100000</td>\n",
       "      <td>19.000000</td>\n",
       "    </tr>\n",
       "    <tr>\n",
       "      <th>25%</th>\n",
       "      <td>51.000000</td>\n",
       "      <td>3.700000</td>\n",
       "      <td>48.000000</td>\n",
       "      <td>6.500000</td>\n",
       "      <td>4.000000</td>\n",
       "      <td>1.500000</td>\n",
       "      <td>0.900000</td>\n",
       "      <td>1.800000</td>\n",
       "      <td>0.700000</td>\n",
       "      <td>26.000000</td>\n",
       "    </tr>\n",
       "    <tr>\n",
       "      <th>50%</th>\n",
       "      <td>55.000000</td>\n",
       "      <td>4.600000</td>\n",
       "      <td>60.000000</td>\n",
       "      <td>8.000000</td>\n",
       "      <td>4.800000</td>\n",
       "      <td>2.000000</td>\n",
       "      <td>1.100000</td>\n",
       "      <td>2.500000</td>\n",
       "      <td>0.900000</td>\n",
       "      <td>30.000000</td>\n",
       "    </tr>\n",
       "    <tr>\n",
       "      <th>75%</th>\n",
       "      <td>59.000000</td>\n",
       "      <td>5.700000</td>\n",
       "      <td>73.000000</td>\n",
       "      <td>10.200000</td>\n",
       "      <td>5.600000</td>\n",
       "      <td>2.900000</td>\n",
       "      <td>1.300000</td>\n",
       "      <td>3.300000</td>\n",
       "      <td>1.500000</td>\n",
       "      <td>33.000000</td>\n",
       "    </tr>\n",
       "    <tr>\n",
       "      <th>max</th>\n",
       "      <td>79.000000</td>\n",
       "      <td>38.900000</td>\n",
       "      <td>800.000000</td>\n",
       "      <td>16.000000</td>\n",
       "      <td>10.300000</td>\n",
       "      <td>13.800000</td>\n",
       "      <td>9.900000</td>\n",
       "      <td>9.900000</td>\n",
       "      <td>35.000000</td>\n",
       "      <td>47.750000</td>\n",
       "    </tr>\n",
       "  </tbody>\n",
       "</table>\n",
       "</div>"
      ],
      "text/plain": [
       "               AGE         Urea           Cr        HbA1c         Chol  \\\n",
       "count  1000.000000  1000.000000  1000.000000  1000.000000  1000.000000   \n",
       "mean     53.528000     5.124743    68.943000     8.281160     4.862820   \n",
       "std       8.799241     2.935165    59.984747     2.534003     1.301738   \n",
       "min      20.000000     0.500000     6.000000     0.900000     0.000000   \n",
       "25%      51.000000     3.700000    48.000000     6.500000     4.000000   \n",
       "50%      55.000000     4.600000    60.000000     8.000000     4.800000   \n",
       "75%      59.000000     5.700000    73.000000    10.200000     5.600000   \n",
       "max      79.000000    38.900000   800.000000    16.000000    10.300000   \n",
       "\n",
       "                TG          HDL          LDL         VLDL          BMI  \n",
       "count  1000.000000  1000.000000  1000.000000  1000.000000  1000.000000  \n",
       "mean      2.349610     1.204750     2.609790     1.854700    29.578020  \n",
       "std       1.401176     0.660414     1.115102     3.663599     4.962388  \n",
       "min       0.300000     0.200000     0.300000     0.100000    19.000000  \n",
       "25%       1.500000     0.900000     1.800000     0.700000    26.000000  \n",
       "50%       2.000000     1.100000     2.500000     0.900000    30.000000  \n",
       "75%       2.900000     1.300000     3.300000     1.500000    33.000000  \n",
       "max      13.800000     9.900000     9.900000    35.000000    47.750000  "
      ]
     },
     "execution_count": 9,
     "metadata": {},
     "output_type": "execute_result"
    }
   ],
   "source": [
    "#Checking for statistical tendencies of the dataset\n",
    "\n",
    "df_sub = df.drop(columns=['ID', 'No_Pation'])\n",
    "df_sub.describe()"
   ]
  },
  {
   "cell_type": "code",
   "execution_count": 10,
   "id": "8d5501dc",
   "metadata": {},
   "outputs": [
    {
     "data": {
      "text/plain": [
       "AGE     -0.819536\n",
       "Urea     4.298928\n",
       "Cr       8.474151\n",
       "HbA1c    0.221689\n",
       "Chol     0.617123\n",
       "TG       2.298456\n",
       "HDL      6.283201\n",
       "LDL      1.145910\n",
       "VLDL     5.350445\n",
       "BMI      0.125807\n",
       "dtype: float64"
      ]
     },
     "execution_count": 10,
     "metadata": {},
     "output_type": "execute_result"
    }
   ],
   "source": [
    "#Checking for Skewness and Data Distribution\n",
    "\n",
    "\n",
    "\n",
    "df_features = df.drop(columns = ['Gender','No_Pation','ID','CLASS'])\n",
    "\n",
    "df_features.skew()"
   ]
  },
  {
   "cell_type": "code",
   "execution_count": 11,
   "id": "143888dc",
   "metadata": {},
   "outputs": [
    {
     "data": {
      "text/plain": [
       "Index(['AGE', 'Urea', 'Cr', 'HbA1c', 'Chol', 'TG', 'HDL', 'LDL', 'VLDL',\n",
       "       'BMI'],\n",
       "      dtype='object')"
      ]
     },
     "execution_count": 11,
     "metadata": {},
     "output_type": "execute_result"
    }
   ],
   "source": [
    "df_features.columns"
   ]
  },
  {
   "cell_type": "markdown",
   "id": "a81fac56",
   "metadata": {},
   "source": [
    "Check for distribution"
   ]
  },
  {
   "cell_type": "code",
   "execution_count": 12,
   "id": "2d5e091f",
   "metadata": {
    "scrolled": false
   },
   "outputs": [
    {
     "data": {
      "text/plain": [
       "array([[<Axes: title={'center': 'AGE'}>,\n",
       "        <Axes: title={'center': 'Urea'}>, <Axes: title={'center': 'Cr'}>],\n",
       "       [<Axes: title={'center': 'HbA1c'}>,\n",
       "        <Axes: title={'center': 'Chol'}>, <Axes: title={'center': 'TG'}>],\n",
       "       [<Axes: title={'center': 'HDL'}>, <Axes: title={'center': 'LDL'}>,\n",
       "        <Axes: title={'center': 'VLDL'}>],\n",
       "       [<Axes: title={'center': 'BMI'}>, <Axes: >, <Axes: >]],\n",
       "      dtype=object)"
      ]
     },
     "execution_count": 12,
     "metadata": {},
     "output_type": "execute_result"
    },
    {
     "data": {
      "image/png": "[encoded data removed]",
      "text/plain": [
       "<Figure size 800x900 with 12 Axes>"
      ]
     },
     "metadata": {},
     "output_type": "display_data"
    }
   ],
   "source": [
    "df_features.hist(bins = 20, rwidth = 0.8, figsize=(8,9))"
   ]
  },
  {
   "cell_type": "markdown",
   "id": "8c649a61",
   "metadata": {},
   "source": [
    "Check for Outliers"
   ]
  },
  {
   "cell_type": "code",
   "execution_count": 13,
   "id": "d8167cdd",
   "metadata": {},
   "outputs": [
    {
     "data": {
      "text/plain": [
       "AGE       1.435639\n",
       "Urea     30.427642\n",
       "Cr       91.714882\n",
       "HbA1c    -0.250869\n",
       "Chol      1.924345\n",
       "TG       10.263660\n",
       "HDL      62.629947\n",
       "LDL       4.275760\n",
       "VLDL     33.511470\n",
       "BMI      -0.296144\n",
       "dtype: float64"
      ]
     },
     "execution_count": 13,
     "metadata": {},
     "output_type": "execute_result"
    }
   ],
   "source": [
    "df_features.kurtosis()"
   ]
  },
  {
   "cell_type": "code",
   "execution_count": 14,
   "id": "545c0461",
   "metadata": {},
   "outputs": [
    {
     "data": {
      "text/plain": [
       "<Axes: >"
      ]
     },
     "execution_count": 14,
     "metadata": {},
     "output_type": "execute_result"
    },
    {
     "data": {
      "image/png": "[encoded data removed]",
      "text/plain": [
       "<Figure size 640x480 with 1 Axes>"
      ]
     },
     "metadata": {},
     "output_type": "display_data"
    }
   ],
   "source": [
    "df_features.boxplot()"
   ]
  },
  {
   "cell_type": "markdown",
   "id": "ab3f2779",
   "metadata": {},
   "source": [
    "Check Correlation of values"
   ]
  },
  {
   "cell_type": "code",
   "execution_count": 15,
   "id": "d068de19",
   "metadata": {},
   "outputs": [
    {
     "data": {
      "text/html": [
       "<div>\n",
       "<style scoped>\n",
       "    .dataframe tbody tr th:only-of-type {\n",
       "        vertical-align: middle;\n",
       "    }\n",
       "\n",
       "    .dataframe tbody tr th {\n",
       "        vertical-align: top;\n",
       "    }\n",
       "\n",
       "    .dataframe thead th {\n",
       "        text-align: right;\n",
       "    }\n",
       "</style>\n",
       "<table border=\"1\" class=\"dataframe\">\n",
       "  <thead>\n",
       "    <tr style=\"text-align: right;\">\n",
       "      <th></th>\n",
       "      <th>AGE</th>\n",
       "      <th>Urea</th>\n",
       "      <th>Cr</th>\n",
       "      <th>HbA1c</th>\n",
       "      <th>Chol</th>\n",
       "      <th>TG</th>\n",
       "      <th>HDL</th>\n",
       "      <th>LDL</th>\n",
       "      <th>VLDL</th>\n",
       "      <th>BMI</th>\n",
       "    </tr>\n",
       "  </thead>\n",
       "  <tbody>\n",
       "    <tr>\n",
       "      <th>AGE</th>\n",
       "      <td>1.000000</td>\n",
       "      <td>0.105092</td>\n",
       "      <td>0.054941</td>\n",
       "      <td>0.379136</td>\n",
       "      <td>0.036649</td>\n",
       "      <td>0.148204</td>\n",
       "      <td>-0.020038</td>\n",
       "      <td>0.016105</td>\n",
       "      <td>-0.087903</td>\n",
       "      <td>0.375956</td>\n",
       "    </tr>\n",
       "    <tr>\n",
       "      <th>Urea</th>\n",
       "      <td>0.105092</td>\n",
       "      <td>1.000000</td>\n",
       "      <td>0.624134</td>\n",
       "      <td>-0.023603</td>\n",
       "      <td>0.001852</td>\n",
       "      <td>0.040980</td>\n",
       "      <td>-0.036994</td>\n",
       "      <td>-0.007301</td>\n",
       "      <td>-0.011191</td>\n",
       "      <td>0.045618</td>\n",
       "    </tr>\n",
       "    <tr>\n",
       "      <th>Cr</th>\n",
       "      <td>0.054941</td>\n",
       "      <td>0.624134</td>\n",
       "      <td>1.000000</td>\n",
       "      <td>-0.037412</td>\n",
       "      <td>-0.007097</td>\n",
       "      <td>0.056579</td>\n",
       "      <td>-0.023804</td>\n",
       "      <td>0.039479</td>\n",
       "      <td>0.009615</td>\n",
       "      <td>0.054746</td>\n",
       "    </tr>\n",
       "    <tr>\n",
       "      <th>HbA1c</th>\n",
       "      <td>0.379136</td>\n",
       "      <td>-0.023603</td>\n",
       "      <td>-0.037412</td>\n",
       "      <td>1.000000</td>\n",
       "      <td>0.177489</td>\n",
       "      <td>0.218556</td>\n",
       "      <td>0.028933</td>\n",
       "      <td>0.011057</td>\n",
       "      <td>0.073462</td>\n",
       "      <td>0.413350</td>\n",
       "    </tr>\n",
       "    <tr>\n",
       "      <th>Chol</th>\n",
       "      <td>0.036649</td>\n",
       "      <td>0.001852</td>\n",
       "      <td>-0.007097</td>\n",
       "      <td>0.177489</td>\n",
       "      <td>1.000000</td>\n",
       "      <td>0.321789</td>\n",
       "      <td>0.103814</td>\n",
       "      <td>0.416665</td>\n",
       "      <td>0.076294</td>\n",
       "      <td>0.013678</td>\n",
       "    </tr>\n",
       "    <tr>\n",
       "      <th>TG</th>\n",
       "      <td>0.148204</td>\n",
       "      <td>0.040980</td>\n",
       "      <td>0.056579</td>\n",
       "      <td>0.218556</td>\n",
       "      <td>0.321789</td>\n",
       "      <td>1.000000</td>\n",
       "      <td>-0.083001</td>\n",
       "      <td>0.015378</td>\n",
       "      <td>0.144570</td>\n",
       "      <td>0.110757</td>\n",
       "    </tr>\n",
       "    <tr>\n",
       "      <th>HDL</th>\n",
       "      <td>-0.020038</td>\n",
       "      <td>-0.036994</td>\n",
       "      <td>-0.023804</td>\n",
       "      <td>0.028933</td>\n",
       "      <td>0.103814</td>\n",
       "      <td>-0.083001</td>\n",
       "      <td>1.000000</td>\n",
       "      <td>-0.142079</td>\n",
       "      <td>-0.059275</td>\n",
       "      <td>0.072409</td>\n",
       "    </tr>\n",
       "    <tr>\n",
       "      <th>LDL</th>\n",
       "      <td>0.016105</td>\n",
       "      <td>-0.007301</td>\n",
       "      <td>0.039479</td>\n",
       "      <td>0.011057</td>\n",
       "      <td>0.416665</td>\n",
       "      <td>0.015378</td>\n",
       "      <td>-0.142079</td>\n",
       "      <td>1.000000</td>\n",
       "      <td>0.062795</td>\n",
       "      <td>-0.067322</td>\n",
       "    </tr>\n",
       "    <tr>\n",
       "      <th>VLDL</th>\n",
       "      <td>-0.087903</td>\n",
       "      <td>-0.011191</td>\n",
       "      <td>0.009615</td>\n",
       "      <td>0.073462</td>\n",
       "      <td>0.076294</td>\n",
       "      <td>0.144570</td>\n",
       "      <td>-0.059275</td>\n",
       "      <td>0.062795</td>\n",
       "      <td>1.000000</td>\n",
       "      <td>0.198133</td>\n",
       "    </tr>\n",
       "    <tr>\n",
       "      <th>BMI</th>\n",
       "      <td>0.375956</td>\n",
       "      <td>0.045618</td>\n",
       "      <td>0.054746</td>\n",
       "      <td>0.413350</td>\n",
       "      <td>0.013678</td>\n",
       "      <td>0.110757</td>\n",
       "      <td>0.072409</td>\n",
       "      <td>-0.067322</td>\n",
       "      <td>0.198133</td>\n",
       "      <td>1.000000</td>\n",
       "    </tr>\n",
       "  </tbody>\n",
       "</table>\n",
       "</div>"
      ],
      "text/plain": [
       "            AGE      Urea        Cr     HbA1c      Chol        TG       HDL  \\\n",
       "AGE    1.000000  0.105092  0.054941  0.379136  0.036649  0.148204 -0.020038   \n",
       "Urea   0.105092  1.000000  0.624134 -0.023603  0.001852  0.040980 -0.036994   \n",
       "Cr     0.054941  0.624134  1.000000 -0.037412 -0.007097  0.056579 -0.023804   \n",
       "HbA1c  0.379136 -0.023603 -0.037412  1.000000  0.177489  0.218556  0.028933   \n",
       "Chol   0.036649  0.001852 -0.007097  0.177489  1.000000  0.321789  0.103814   \n",
       "TG     0.148204  0.040980  0.056579  0.218556  0.321789  1.000000 -0.083001   \n",
       "HDL   -0.020038 -0.036994 -0.023804  0.028933  0.103814 -0.083001  1.000000   \n",
       "LDL    0.016105 -0.007301  0.039479  0.011057  0.416665  0.015378 -0.142079   \n",
       "VLDL  -0.087903 -0.011191  0.009615  0.073462  0.076294  0.144570 -0.059275   \n",
       "BMI    0.375956  0.045618  0.054746  0.413350  0.013678  0.110757  0.072409   \n",
       "\n",
       "            LDL      VLDL       BMI  \n",
       "AGE    0.016105 -0.087903  0.375956  \n",
       "Urea  -0.007301 -0.011191  0.045618  \n",
       "Cr     0.039479  0.009615  0.054746  \n",
       "HbA1c  0.011057  0.073462  0.413350  \n",
       "Chol   0.416665  0.076294  0.013678  \n",
       "TG     0.015378  0.144570  0.110757  \n",
       "HDL   -0.142079 -0.059275  0.072409  \n",
       "LDL    1.000000  0.062795 -0.067322  \n",
       "VLDL   0.062795  1.000000  0.198133  \n",
       "BMI   -0.067322  0.198133  1.000000  "
      ]
     },
     "execution_count": 15,
     "metadata": {},
     "output_type": "execute_result"
    }
   ],
   "source": [
    "#Checking for correlation between numerical columns\n",
    "\n",
    "df_features.corr()"
   ]
  },
  {
   "cell_type": "code",
   "execution_count": 16,
   "id": "17d3edce",
   "metadata": {},
   "outputs": [
    {
     "data": {
      "text/plain": [
       "<Axes: >"
      ]
     },
     "execution_count": 16,
     "metadata": {},
     "output_type": "execute_result"
    },
    {
     "data": {
      "image/png": "[encoded data removed]",
      "text/plain": [
       "<Figure size 640x480 with 2 Axes>"
      ]
     },
     "metadata": {},
     "output_type": "display_data"
    }
   ],
   "source": [
    "#Visualize Correlation\n",
    "\n",
    "%matplotlib inline\n",
    "\n",
    "import seaborn as sns\n",
    "\n",
    "\n",
    "sns.heatmap(df_features.corr(), annot = True, fmt='.2f', cmap='coolwarm', linewidths=0.5, \n",
    "            annot_kws={\"fontsize\":7.5})\n"
   ]
  },
  {
   "cell_type": "code",
   "execution_count": 17,
   "id": "0515a72d",
   "metadata": {},
   "outputs": [
    {
     "data": {
      "image/png": "[encoded data removed]",
      "text/plain": [
       "<Figure size 640x480 with 1 Axes>"
      ]
     },
     "metadata": {},
     "output_type": "display_data"
    }
   ],
   "source": [
    "#Visualizing the strongest correlating features\n",
    "\n",
    "plt.scatter(df_features['Urea'], df_features['Cr'])\n",
    "plt.title('UREA - CREATININE')\n",
    "plt.xlabel('Urea')\n",
    "plt.ylabel('Cr')\n",
    "plt.show()"
   ]
  },
  {
   "cell_type": "code",
   "execution_count": 63,
   "id": "be391526",
   "metadata": {},
   "outputs": [
    {
     "name": "stdout",
     "output_type": "stream",
     "text": [
      "['F' 'M']\n",
      "['N' 'P' 'Y']\n"
     ]
    }
   ],
   "source": [
    "print(df['Gender'].unique())\n",
    "print(df['CLASS'].unique())\n"
   ]
  },
  {
   "cell_type": "code",
   "execution_count": 69,
   "id": "b67ae19a",
   "metadata": {},
   "outputs": [
    {
     "data": {
      "text/plain": [
       "0      0\n",
       "1      1\n",
       "2      0\n",
       "3      0\n",
       "4      1\n",
       "      ..\n",
       "995    1\n",
       "996    1\n",
       "997    1\n",
       "998    1\n",
       "999    1\n",
       "Name: Gender, Length: 1000, dtype: int64"
      ]
     },
     "metadata": {},
     "output_type": "display_data"
    }
   ],
   "source": [
    "#Encoding of Gender Column using mapping method\n",
    "\n",
    "df['Gender'] = df['Gender'].map({'M': 1, 'F':0})\n",
    "\n",
    "display(df['Gender'])\n",
    "\n",
    "\n"
   ]
  },
  {
   "cell_type": "code",
   "execution_count": 48,
   "id": "5c417335",
   "metadata": {},
   "outputs": [
    {
     "name": "stdout",
     "output_type": "stream",
     "text": [
      "[64 38]\n",
      "[36 17]\n",
      "[486 353]\n"
     ]
    }
   ],
   "source": [
    "dfgc = df[['Gender', 'CLASS']]\n",
    "\n",
    "g = dfgc.groupby('CLASS')\n",
    "\n",
    "n = g.get_group('N')\n",
    "p = g.get_group('P')\n",
    "y = g.get_group('Y') \n",
    "\n",
    "n1 = np.array(n.value_counts())\n",
    "p1 = np.array(p.value_counts())\n",
    "y1 = np.array(y.value_counts())\n",
    "\n",
    "print(n1)\n",
    "print(p1)\n",
    "print(y1)"
   ]
  },
  {
   "cell_type": "markdown",
   "id": "754bab45",
   "metadata": {},
   "source": [
    "# MORE ANALYSIS"
   ]
  },
  {
   "cell_type": "code",
   "execution_count": 64,
   "id": "e02c0d4b",
   "metadata": {},
   "outputs": [
    {
     "data": {
      "image/png": "[encoded data removed]",
      "text/plain": [
       "<Figure size 1200x500 with 1 Axes>"
      ]
     },
     "metadata": {},
     "output_type": "display_data"
    }
   ],
   "source": [
    "# Checking for patterns between HDL, LDL, VLDL, Chol using first 20 points\n",
    "HDL = df_features['HDL'][0:20]\n",
    "LDL = df_features['LDL'][0:20]\n",
    "VLDL = df_features['VLDL'][0:20]\n",
    "Chol = df_features['Chol'][0:20]\n",
    "\n",
    "plt.figure(figsize=(12,5))\n",
    "\n",
    "# Create a line plot of the four columns\n",
    "plt.plot(HDL, label='HDL')\n",
    "plt.plot(LDL, label='LDL')\n",
    "plt.plot(VLDL, label='VLDL')\n",
    "plt.plot(Chol, label = 'Chol')\n",
    "\n",
    "# Set the title\n",
    "plt.title('Comparing HDL, LDL, VLDL, and Cholestorel')\n",
    "\n",
    "# Add a legend to the plot\n",
    "plt.legend()\n",
    "\n",
    "# Display the plot\n",
    "plt.show()\n"
   ]
  },
  {
   "cell_type": "code",
   "execution_count": 50,
   "id": "8489c95e",
   "metadata": {},
   "outputs": [
    {
     "data": {
      "text/plain": [
       "Templates configuration\n",
       "-----------------------\n",
       "    Default template: 'plotly'\n",
       "    Available templates:\n",
       "        ['ggplot2', 'seaborn', 'simple_white', 'plotly',\n",
       "         'plotly_white', 'plotly_dark', 'presentation', 'xgridoff',\n",
       "         'ygridoff', 'gridon', 'none']"
      ]
     },
     "execution_count": 50,
     "metadata": {},
     "output_type": "execute_result"
    }
   ],
   "source": [
    "import plotly.io as pio\n",
    "import plotly.express as px\n",
    "\n",
    "pio.templates"
   ]
  },
  {
   "cell_type": "code",
   "execution_count": 55,
   "id": "488a765a",
   "metadata": {},
   "outputs": [
    {
     "name": "stdout",
     "output_type": "stream",
     "text": [
      "Requirement already satisfied: squarify in c:\\users\\jude\\anaconda3\\lib\\site-packages (0.4.3)\n",
      "Note: you may need to restart the kernel to use updated packages.\n"
     ]
    }
   ],
   "source": [
    "pip install squarify"
   ]
  },
  {
   "cell_type": "code",
   "execution_count": 51,
   "id": "5ee0c8e9",
   "metadata": {
    "scrolled": true
   },
   "outputs": [
    {
     "data": {
      "application/vnd.plotly.v1+json": {
       "config": {
        "plotlyServerURL": "https://plot.ly"
       },
       "data": [
        {
         "hovertemplate": "Chol=%{x}<br>HbA1c=%{y}<br>BMI=%{marker.size}<br>Gender=%{marker.color}<extra></extra>",
         "legendgroup": "",
         "marker": {
          "color": [
           0,
           1,
           0,
           0,
           1,
           0,
           0,
           1,
           1,
           0,
           0,
           0,
           0,
           0,
           0,
           1,
           0,
           0,
           0,
           0,
           0,
           0,
           0,
           1,
           0,
           0,
           1,
           1,
           1,
           0,
           0,
           1,
           1,
           0,
           0,
           0,
           0,
           1,
           1,
           0,
           0,
           0,
           1,
           1,
           0,
           1,
           1,
           1,
           0,
           0,
           1,
           0,
           1,
           0,
           0,
           0,
           0,
           0,
           0,
           0,
           0,
           1,
           1,
           1,
           0,
           1,
           0,
           0,
           1,
           0,
           1,
           1,
           0,
           0,
           0,
           1,
           0,
           1,
           0,
           0,
           0,
           0,
           0,
           1,
           1,
           1,
           0,
           0,
           0,
           1,
           1,
           1,
           0,
           0,
           0,
           1,
           0,
           0,
           1,
           1,
           0,
           0,
           1,
           1,
           1,
           1,
           1,
           1,
           0,
           1,
           1,
           1,
           1,
           1,
           1,
           0,
           1,
           0,
           1,
           1,
           0,
           0,
           1,
           0,
           1,
           0,
           1,
           1,
           1,
           0,
           0,
           0,
           1,
           1,
           1,
           0,
           0,
           0,
           0,
           1,
           1,
           1,
           1,
           1,
           1,
           1,
           0,
           1,
           0,
           1,
           1,
           1,
           1,
           1,
           1,
           0,
           1,
           1,
           1,
           1,
           1,
           1,
           1,
           1,
           1,
           1,
           1,
           1,
           1,
           1,
           0,
           0,
           0,
           1,
           0,
           1,
           0,
           0,
           1,
           1,
           0,
           0,
           0,
           1,
           0,
           1,
           1,
           1,
           1,
           1,
           1,
           0,
           1,
           1,
           1,
           1,
           1,
           1,
           1,
           0,
           0,
           0,
           0,
           1,
           0,
           0,
           0,
           0,
           1,
           0,
           0,
           0,
           1,
           0,
           0,
           0,
           1,
           1,
           0,
           1,
           1,
           1,
           0,
           0,
           1,
           0,
           1,
           1,
           1,
           0,
           1,
           0,
           1,
           1,
           0,
           0,
           1,
           0,
           1,
           1,
           1,
           1,
           1,
           1,
           1,
           1,
           1,
           0,
           0,
           1,
           0,
           1,
           0,
           1,
           0,
           1,
           1,
           0,
           1,
           0,
           1,
           1,
           0,
           0,
           0,
           0,
           1,
           1,
           0,
           1,
           0,
           1,
           0,
           1,
           0,
           1,
           1,
           1,
           1,
           1,
           1,
           1,
           0,
           1,
           1,
           1,
           0,
           1,
           1,
           0,
           0,
           0,
           0,
           0,
           0,
           1,
           1,
           1,
           1,
           1,
           1,
           0,
           1,
           0,
           0,
           1,
           0,
           1,
           0,
           1,
           0,
           0,
           0,
           1,
           1,
           1,
           1,
           0,
           1,
           1,
           1,
           1,
           1,
           0,
           0,
           0,
           1,
           1,
           1,
           0,
           0,
           0,
           0,
           0,
           1,
           0,
           1,
           1,
           0,
           0,
           1,
           1,
           1,
           0,
           1,
           1,
           1,
           1,
           1,
           0,
           1,
           1,
           1,
           1,
           1,
           1,
           0,
           0,
           1,
           1,
           0,
           0,
           0,
           0,
           0,
           1,
           1,
           0,
           1,
           1,
           0,
           1,
           0,
           1,
           1,
           0,
           1,
           0,
           0,
           1,
           1,
           1,
           1,
           0,
           1,
           1,
           0,
           1,
           1,
           1,
           0,
           0,
           0,
           1,
           1,
           0,
           1,
           1,
           1,
           1,
           1,
           1,
           1,
           1,
           1,
           1,
           0,
           0,
           0,
           0,
           1,
           0,
           0,
           1,
           0,
           0,
           1,
           1,
           1,
           1,
           0,
           1,
           0,
           0,
           1,
           1,
           1,
           1,
           1,
           1,
           0,
           1,
           1,
           1,
           1,
           0,
           0,
           1,
           1,
           1,
           1,
           0,
           0,
           1,
           1,
           0,
           0,
           1,
           0,
           1,
           0,
           0,
           1,
           1,
           1,
           0,
           0,
           0,
           0,
           1,
           0,
           0,
           1,
           0,
           1,
           1,
           1,
           1,
           1,
           1,
           0,
           1,
           1,
           0,
           0,
           0,
           1,
           1,
           1,
           1,
           0,
           1,
           1,
           1,
           1,
           0,
           1,
           1,
           0,
           0,
           1,
           0,
           0,
           1,
           1,
           0,
           1,
           0,
           1,
           1,
           1,
           1,
           0,
           1,
           1,
           1,
           1,
           0,
           1,
           0,
           1,
           1,
           1,
           0,
           0,
           0,
           1,
           1,
           0,
           0,
           0,
           0,
           0,
           1,
           1,
           1,
           1,
           1,
           0,
           1,
           0,
           0,
           1,
           1,
           1,
           1,
           1,
           1,
           1,
           0,
           1,
           1,
           1,
           1,
           1,
           0,
           0,
           0,
           1,
           1,
           0,
           0,
           0,
           1,
           1,
           0,
           1,
           1,
           0,
           1,
           1,
           0,
           1,
           1,
           0,
           1,
           1,
           0,
           1,
           1,
           1,
           0,
           0,
           0,
           1,
           1,
           0,
           0,
           0,
           0,
           0,
           1,
           0,
           1,
           1,
           0,
           0,
           0,
           1,
           0,
           0,
           1,
           0,
           1,
           1,
           1,
           1,
           0,
           0,
           1,
           0,
           0,
           1,
           0,
           1,
           1,
           1,
           0,
           0,
           1,
           0,
           0,
           1,
           0,
           0,
           0,
           0,
           0,
           0,
           0,
           0,
           1,
           0,
           0,
           1,
           1,
           1,
           0,
           1,
           1,
           1,
           0,
           1,
           1,
           0,
           1,
           1,
           0,
           0,
           1,
           1,
           0,
           1,
           1,
           1,
           1,
           1,
           1,
           1,
           1,
           1,
           1,
           0,
           1,
           1,
           1,
           0,
           1,
           0,
           0,
           0,
           0,
           1,
           0,
           1,
           1,
           0,
           0,
           0,
           1,
           0,
           1,
           0,
           1,
           1,
           0,
           1,
           0,
           0,
           1,
           1,
           1,
           0,
           1,
           1,
           1,
           1,
           1,
           1,
           1,
           0,
           0,
           0,
           0,
           1,
           1,
           0,
           1,
           1,
           1,
           1,
           0,
           0,
           1,
           1,
           0,
           1,
           1,
           0,
           1,
           1,
           0,
           1,
           0,
           1,
           1,
           1,
           1,
           1,
           0,
           0,
           1,
           0,
           1,
           1,
           1,
           0,
           0,
           0,
           1,
           1,
           1,
           1,
           0,
           1,
           0,
           0,
           0,
           0,
           0,
           0,
           1,
           1,
           0,
           0,
           1,
           0,
           1,
           1,
           1,
           1,
           0,
           0,
           0,
           0,
           0,
           1,
           1,
           0,
           0,
           0,
           1,
           1,
           1,
           0,
           1,
           0,
           1,
           1,
           0,
           0,
           1,
           1,
           1,
           1,
           0,
           1,
           0,
           1,
           1,
           0,
           0,
           0,
           1,
           1,
           0,
           0,
           0,
           0,
           1,
           1,
           0,
           1,
           1,
           1,
           1,
           0,
           0,
           0,
           1,
           1,
           1,
           1,
           1,
           0,
           1,
           1,
           1,
           0,
           1,
           0,
           1,
           0,
           1,
           0,
           0,
           0,
           1,
           0,
           1,
           1,
           1,
           1,
           1,
           1,
           1,
           0,
           1,
           1,
           1,
           0,
           0,
           0,
           1,
           1,
           1,
           0,
           1,
           0,
           1,
           0,
           0,
           0,
           1,
           1,
           1,
           1,
           1,
           1,
           1,
           1,
           0,
           1,
           0,
           1,
           1,
           0,
           0,
           1,
           1,
           1,
           0,
           1,
           0,
           0,
           0,
           1,
           0,
           0,
           1,
           1,
           1,
           1,
           0,
           0,
           0,
           0,
           1,
           1,
           1,
           0,
           0,
           1,
           0,
           1,
           0,
           1,
           1,
           1,
           1,
           1,
           0,
           1,
           0,
           1,
           1,
           1,
           0,
           1,
           0,
           1,
           0,
           1,
           1,
           0,
           0,
           1,
           0,
           0,
           0,
           1,
           1,
           1,
           0,
           0,
           0,
           0,
           0,
           0,
           0,
           0,
           1,
           0,
           1,
           1,
           1,
           1,
           1,
           1,
           1,
           0,
           0,
           0,
           1,
           1,
           1,
           0,
           1,
           0,
           1,
           0,
           1,
           0,
           0,
           0,
           1,
           0,
           1,
           0,
           1,
           1,
           0,
           1,
           1,
           0,
           0,
           1,
           0,
           0,
           0,
           0,
           1,
           0,
           0,
           1,
           1,
           1,
           1,
           1,
           1,
           0,
           1,
           1,
           1,
           1,
           1,
           0,
           1,
           1,
           0,
           1,
           1,
           0,
           1,
           0,
           0,
           1,
           1,
           1,
           1,
           0,
           null,
           1,
           1,
           1,
           1,
           1,
           1,
           1,
           1
          ],
          "coloraxis": "coloraxis",
          "size": [
           24,
           23,
           24,
           24,
           21,
           21,
           24,
           24,
           21,
           24,
           23,
           21,
           22,
           23,
           24,
           21,
           21,
           22,
           24,
           23,
           24,
           24,
           24,
           23,
           21,
           22,
           19,
           22,
           22,
           22,
           23,
           24,
           22,
           24,
           23,
           22,
           21,
           21,
           24,
           23,
           24,
           21,
           22,
           21,
           24,
           21,
           23,
           24,
           21,
           22,
           24,
           22,
           21,
           20,
           24,
           23,
           22,
           22,
           21,
           21,
           23.5,
           23,
           24,
           21,
           22,
           23,
           20,
           21,
           23,
           22,
           22,
           21,
           21,
           24.5,
           21,
           24,
           23,
           20,
           24,
           21,
           22,
           22,
           24,
           20,
           20,
           21,
           22,
           24,
           22,
           21,
           24.5,
           22,
           24,
           24,
           21,
           24,
           20,
           24,
           24,
           19,
           22.5,
           22,
           24.6,
           23,
           23,
           23,
           24,
           24,
           25,
           23,
           23,
           24,
           25,
           25,
           24,
           21,
           24,
           23,
           23,
           24,
           23,
           22,
           24,
           24,
           24,
           22,
           25,
           25,
           25,
           22,
           24,
           22,
           19,
           25,
           25,
           25,
           25,
           19,
           25,
           19,
           24,
           24,
           25,
           25,
           24,
           24,
           30,
           31,
           32,
           21,
           29,
           21,
           28,
           19,
           19.5,
           27,
           37.2,
           27.4,
           34.3,
           34.3,
           29.5,
           24,
           29.5,
           34.6,
           34.6,
           27.3,
           27.3,
           31.2,
           31.2,
           22,
           29,
           29,
           23,
           40.5,
           24,
           25,
           22,
           22,
           21,
           24,
           25,
           24,
           23,
           47,
           25,
           25,
           25,
           24,
           47,
           25,
           24,
           25,
           21.17,
           40,
           28.3,
           23,
           21.17,
           28.3,
           40,
           32,
           32,
           23,
           25,
           22,
           25,
           31.5,
           25,
           25,
           37,
           23,
           25,
           31.5,
           37,
           24,
           25,
           23,
           21,
           23,
           24,
           22,
           24,
           20,
           25,
           23,
           24,
           35,
           31,
           33,
           39,
           38,
           33,
           35,
           39,
           31,
           38,
           37,
           33,
           37,
           26,
           32,
           33,
           33,
           33.9,
           33,
           32,
           33.9,
           26,
           27,
           27,
           27,
           28,
           32,
           28,
           31.4,
           30,
           27,
           28,
           29,
           32,
           29,
           28,
           31.4,
           30,
           31,
           30,
           36,
           34,
           31.5,
           30,
           34,
           31,
           31.5,
           36,
           33,
           26,
           26,
           38,
           34,
           35,
           26,
           35,
           37,
           39,
           33,
           34,
           33,
           39,
           38,
           37,
           33,
           26,
           26,
           33,
           33,
           29,
           29,
           32,
           30,
           32,
           30,
           29,
           30,
           30,
           33,
           36.6,
           30,
           26,
           30,
           26,
           27,
           33,
           30,
           36.6,
           30,
           28,
           29,
           27,
           30,
           28,
           29,
           30,
           28,
           31,
           29,
           36,
           33,
           33,
           33,
           31,
           35,
           39,
           29,
           36,
           33,
           33,
           35,
           33,
           28,
           39,
           26,
           30,
           30.1,
           38,
           37,
           33,
           38,
           33,
           30.1,
           30,
           37,
           30,
           30,
           32,
           30,
           30,
           32,
           29,
           30,
           26,
           26,
           30,
           36.6,
           27,
           27,
           36.6,
           28,
           29,
           26,
           28,
           30,
           36.6,
           29.36,
           26,
           29,
           30,
           36.6,
           29.36,
           31,
           30,
           28,
           29,
           36,
           29,
           33,
           29,
           31,
           31,
           36,
           32.9,
           35,
           33,
           27.3,
           30,
           29,
           29,
           27.3,
           31,
           29,
           35,
           32.9,
           43.25,
           33,
           39.18,
           39.18,
           43.25,
           33,
           39,
           39,
           38,
           38,
           30,
           37,
           33,
           30,
           37,
           33,
           27,
           30,
           27,
           30,
           32,
           28,
           26,
           29,
           29,
           34.5,
           30,
           27,
           28,
           33,
           27,
           29,
           28,
           30,
           31,
           36,
           33,
           34,
           30,
           30,
           33.6,
           26,
           35,
           28,
           33,
           39,
           38,
           37,
           26,
           33,
           32,
           29,
           26,
           27,
           28,
           29,
           30,
           31,
           36,
           28,
           31,
           28,
           33,
           35,
           29,
           33,
           27,
           39,
           38,
           30,
           37,
           32,
           34.05,
           33,
           33,
           32,
           26,
           30.1,
           27,
           27,
           28,
           29,
           30,
           30,
           33,
           30,
           31,
           28,
           26,
           27,
           33,
           36,
           33,
           30,
           30,
           35,
           33,
           39,
           29,
           38,
           28,
           30,
           32,
           37,
           30,
           33,
           32,
           33,
           27,
           26,
           26,
           30.1,
           27,
           33,
           26,
           28,
           29,
           30,
           31,
           36,
           33,
           33,
           29,
           31,
           35,
           33,
           27.75,
           39,
           38,
           35.2,
           37,
           26,
           36.11,
           33,
           32,
           26,
           31,
           27,
           33,
           28,
           29,
           36.6,
           36.6,
           38.62,
           30,
           28,
           30,
           31,
           36,
           35,
           33,
           35,
           37,
           34,
           33,
           39,
           38,
           30.2,
           37,
           36,
           33,
           32,
           26,
           30,
           27,
           29,
           28,
           31,
           35,
           28,
           29,
           30,
           30,
           29,
           29.63,
           31,
           27,
           36,
           33,
           35,
           33,
           39,
           38,
           37,
           33,
           29,
           32,
           26,
           27,
           30,
           28,
           29,
           36.6,
           28,
           30,
           30,
           28,
           26,
           26,
           28,
           29,
           26,
           31,
           36,
           30,
           34,
           33,
           35,
           33,
           30,
           37,
           26,
           30,
           34,
           30.1,
           39,
           30,
           30,
           27,
           30,
           38,
           29,
           37,
           26,
           33,
           32,
           30,
           29,
           30,
           30,
           26,
           27,
           33,
           30,
           37,
           31,
           27,
           28,
           29,
           30,
           29,
           31,
           26,
           31,
           36,
           28,
           28,
           28,
           26,
           33,
           31,
           28,
           26,
           35,
           35,
           36.6,
           29,
           33,
           30,
           39,
           38,
           30,
           30.1,
           37,
           28,
           28,
           26,
           33,
           32,
           30,
           30,
           29,
           29,
           31,
           27,
           26,
           26,
           29,
           27,
           28,
           29,
           30,
           31,
           33,
           34,
           36,
           33,
           30,
           27,
           35,
           33,
           28.36,
           30,
           37,
           26,
           33,
           26,
           30,
           47.75,
           39,
           30,
           38,
           37,
           33,
           37.62,
           36.6,
           31,
           32,
           26,
           27,
           29,
           28,
           29,
           30,
           31,
           29,
           31,
           31,
           28,
           31,
           31,
           36,
           33,
           35,
           33,
           32,
           29,
           26,
           39,
           35.16,
           38,
           37,
           27.33,
           31,
           33,
           32,
           34,
           30,
           31,
           26,
           26,
           27,
           28,
           26,
           29,
           30,
           31,
           36,
           33,
           35,
           30,
           36.6,
           33,
           30,
           39,
           30,
           38,
           37,
           33,
           32,
           26,
           30,
           32,
           27.17,
           26,
           37,
           27,
           28,
           32,
           26,
           29,
           27.4,
           30,
           31,
           31,
           36,
           33,
           35,
           33,
           39,
           38,
           29,
           37,
           30,
           33,
           32,
           30,
           26,
           28,
           32,
           30,
           27,
           27,
           26,
           28,
           29,
           30,
           31,
           36,
           33,
           34,
           35,
           31.5,
           33,
           39,
           38,
           37,
           33,
           32,
           32,
           26,
           27,
           32,
           32.65,
           28,
           29,
           31,
           30,
           31,
           29,
           33,
           36,
           33,
           31,
           35,
           33,
           39,
           38,
           25.6,
           37,
           26,
           34,
           29,
           33,
           32,
           26,
           27,
           28,
           29,
           29,
           30,
           36.6,
           31,
           30,
           36,
           33,
           35,
           28,
           30,
           28,
           29,
           24,
           30,
           24,
           29,
           32,
           38,
           22,
           27,
           30,
           33,
           23,
           27,
           21,
           30,
           28,
           30,
           28,
           32,
           35,
           26,
           19,
           29,
           27,
           31,
           28,
           29,
           31,
           35,
           33,
           30,
           36.6,
           37,
           30,
           33,
           27,
           30,
           33,
           30,
           30,
           30,
           26,
           27,
           21,
           26,
           31,
           31,
           26,
           29,
           29,
           28,
           26,
           31,
           33,
           30,
           33,
           22,
           33,
           35,
           29,
           31,
           30,
           31,
           33,
           21,
           30,
           23,
           34,
           24,
           24,
           30,
           37,
           30,
           28,
           26,
           28,
           34,
           30,
           31,
           32,
           33,
           32,
           33,
           35,
           30,
           35,
           35,
           29,
           29,
           31,
           26,
           38,
           32,
           33,
           32,
           32,
           33,
           30,
           35,
           29,
           32,
           33,
           21,
           28,
           23,
           22,
           33,
           34,
           26,
           20,
           20,
           26,
           27,
           26,
           23,
           32,
           22,
           23,
           30,
           21,
           29,
           24,
           30,
           20,
           21,
           34,
           22,
           33,
           30,
           30,
           33,
           27,
           30,
           32,
           27,
           32,
           35,
           30.1,
           30,
           30.1,
           29,
           33,
           27,
           37,
           37,
           30,
           37.2,
           27.4,
           40.5,
           33
          ],
          "sizemode": "area",
          "sizeref": 0.01326388888888889,
          "symbol": "circle"
         },
         "mode": "markers",
         "name": "",
         "orientation": "v",
         "showlegend": false,
         "type": "scatter",
         "x": [
          4.2,
          3.7,
          4.2,
          4.2,
          4.9,
          2.9,
          3.6,
          2.9,
          3.8,
          3.8,
          3.6,
          4,
          4.9,
          4.2,
          4,
          3.6,
          5.3,
          4.9,
          5,
          4.4,
          0.5,
          6.2,
          4.2,
          4.8,
          4.6,
          4.9,
          5.5,
          2.8,
          3.7,
          5.6,
          3.2,
          4.6,
          3.6,
          6.2,
          6.5,
          4,
          3,
          3.7,
          3.7,
          4.4,
          3.8,
          9.5,
          3.7,
          4.7,
          4.2,
          5.2,
          4.3,
          4.7,
          9.5,
          4.7,
          4.9,
          4.3,
          4.8,
          4.1,
          3.9,
          3.2,
          3.1,
          3.4,
          4.2,
          5.2,
          3.6,
          4,
          4.3,
          4.9,
          3.8,
          4.8,
          4.7,
          3,
          4.9,
          4.4,
          7.6,
          3.2,
          3.4,
          4.1,
          3.4,
          6.3,
          4.1,
          4.1,
          6.5,
          4.4,
          3.2,
          4.5,
          4.3,
          4.8,
          4.9,
          2,
          4.3,
          4.6,
          4.3,
          3.2,
          3.9,
          3.8,
          3.4,
          3.9,
          5.2,
          3.1,
          4.3,
          3.7,
          3.4,
          0,
          4.5,
          3.2,
          4.5,
          6.2,
          6.2,
          6.2,
          4.9,
          4.9,
          4.7,
          5.9,
          3.7,
          4,
          2,
          4.2,
          4,
          5.6,
          2,
          5.6,
          5.9,
          4,
          5.6,
          4.7,
          4,
          4.7,
          3.6,
          4.7,
          2,
          4.8,
          5.3,
          5.4,
          4.2,
          5.4,
          5.3,
          4.8,
          5.3,
          5.4,
          4.8,
          4.2,
          5.4,
          5.3,
          4.8,
          4.2,
          4,
          4,
          4.2,
          3.6,
          2.1,
          6.5,
          4,
          4.7,
          4.3,
          4.9,
          4.4,
          4.2,
          3.7,
          4.2,
          4.1,
          4.1,
          4.8,
          4.8,
          3.9,
          4.9,
          3.9,
          4.5,
          4.5,
          3.7,
          3.7,
          4.7,
          4.7,
          6.1,
          4.4,
          4.4,
          4.4,
          5.3,
          5.7,
          4.4,
          9.5,
          9.5,
          5.9,
          5.1,
          6,
          5.9,
          6.3,
          5.2,
          4.7,
          6.7,
          5.5,
          5,
          5.2,
          5.5,
          6.8,
          2.5,
          2.4,
          4,
          4.4,
          5.2,
          2.4,
          4.4,
          4,
          5.8,
          5.8,
          6.2,
          4.2,
          5.6,
          5.3,
          3.7,
          4.4,
          4.4,
          4,
          5.3,
          4.4,
          3.7,
          6.1,
          6.2,
          4.4,
          6.8,
          5.1,
          6.2,
          5.3,
          5.6,
          7,
          7.1,
          4.4,
          6.6,
          6.3,
          4.8,
          3.8,
          3.8,
          4.1,
          4.2,
          3.8,
          4.8,
          4.1,
          3.8,
          4.2,
          3.1,
          5.4,
          3.1,
          4.7,
          5.4,
          5.4,
          5.5,
          5.6,
          5.5,
          5.4,
          5.6,
          4.7,
          7.2,
          7.2,
          5.3,
          4.1,
          3.5,
          4.1,
          4.5,
          4.6,
          5.3,
          5.3,
          5.9,
          3.5,
          5.9,
          5.3,
          4.5,
          4.6,
          2.7,
          4.1,
          4.1,
          4.5,
          4.5,
          4.1,
          4.5,
          2.7,
          4.5,
          4.1,
          6.6,
          4.4,
          4.7,
          2.6,
          4.2,
          4.3,
          4.7,
          4.3,
          4.7,
          5.4,
          6.6,
          4.2,
          3.8,
          5.4,
          2.6,
          4.7,
          2,
          4.2,
          4.2,
          6,
          6,
          4.4,
          4.1,
          4.9,
          5.2,
          4.9,
          5.2,
          4.1,
          4.1,
          3.6,
          5.8,
          5.8,
          3.2,
          3.4,
          3.2,
          3.4,
          5.2,
          5.8,
          5.8,
          5.8,
          5.9,
          6.1,
          6.3,
          5.2,
          5.8,
          6.1,
          6.3,
          5.9,
          4.9,
          4,
          5.2,
          5.8,
          2.8,
          3.5,
          3.6,
          4,
          4,
          4.5,
          5.2,
          5.8,
          2.8,
          3.6,
          4,
          3.5,
          4.9,
          4.5,
          4.4,
          6,
          3.4,
          0.6,
          4,
          2.4,
          0.6,
          2.4,
          3.4,
          3.4,
          4,
          6,
          6,
          7.2,
          6,
          3.4,
          7.2,
          4.4,
          4.8,
          4.4,
          4.4,
          4.8,
          4.8,
          5.8,
          5.8,
          4.8,
          4,
          7.2,
          7,
          4,
          4.6,
          5,
          5.3,
          7,
          7.2,
          4.6,
          5,
          5.3,
          3.4,
          5.4,
          4.9,
          5.5,
          3.7,
          3.2,
          4.8,
          3.2,
          3.2,
          3.4,
          3.7,
          4.7,
          4.8,
          4.8,
          5.4,
          5.4,
          5.5,
          5.5,
          5.4,
          3.2,
          5.5,
          4.8,
          4.7,
          3.5,
          5.5,
          5.6,
          5.6,
          3.5,
          5.5,
          3.8,
          3.8,
          7.1,
          7.1,
          3.7,
          4.6,
          8.5,
          3.7,
          4.6,
          8.5,
          3.7,
          4,
          3.7,
          4,
          4.1,
          4.9,
          4.1,
          4.4,
          2.3,
          6.5,
          3.6,
          4.3,
          5.3,
          3.3,
          5.2,
          8.8,
          4.9,
          3.9,
          4.5,
          4.2,
          5.5,
          2.3,
          3.6,
          3.6,
          4.1,
          4.4,
          6.3,
          4.9,
          5.2,
          5.1,
          4.8,
          4.5,
          4.4,
          4.1,
          7.3,
          4.1,
          4.2,
          4.9,
          5.9,
          4,
          4.8,
          4.6,
          4.6,
          4.9,
          5.8,
          4.8,
          6.4,
          4.8,
          3.6,
          4.2,
          4.4,
          3.4,
          4.4,
          5.3,
          5.9,
          4.4,
          4.8,
          5.2,
          2,
          3.3,
          4.5,
          6.1,
          4.4,
          4.4,
          5.1,
          6.8,
          3.6,
          4.8,
          4.2,
          6.9,
          3.9,
          6,
          4.4,
          6.3,
          5,
          5.2,
          2.9,
          4.9,
          3.9,
          5.5,
          4.9,
          5.6,
          4.3,
          5.4,
          4.9,
          3,
          5.3,
          5.8,
          3,
          5,
          3.5,
          4.6,
          5.3,
          4,
          5.1,
          5.3,
          5.3,
          5.3,
          4.4,
          4.7,
          4.2,
          6.1,
          2.6,
          5.9,
          4.2,
          6.3,
          4.4,
          9.9,
          9.8,
          4.8,
          9.3,
          5.9,
          7.2,
          4.7,
          5,
          4.2,
          7.3,
          6.7,
          2.9,
          4.8,
          3.7,
          6,
          4.9,
          2.8,
          6.8,
          3.3,
          3.9,
          4,
          4.9,
          4.8,
          3,
          3.1,
          3.8,
          4.4,
          5.9,
          4.4,
          5.1,
          4.6,
          5.2,
          5.2,
          4.5,
          4.6,
          3.9,
          5.1,
          5.1,
          3.1,
          2.6,
          5.1,
          4.4,
          2.5,
          2.7,
          3.5,
          4.4,
          4.9,
          5.2,
          6.2,
          4.1,
          3.4,
          2.7,
          4.9,
          6.1,
          5.8,
          3.4,
          5.6,
          5.5,
          5.1,
          4.5,
          5,
          5.1,
          4.4,
          4.3,
          6.6,
          4,
          4.3,
          4.3,
          5.3,
          4.3,
          4.9,
          4.2,
          3.6,
          4.9,
          4.4,
          4.4,
          4.9,
          4.4,
          6.1,
          4.5,
          5.6,
          3.6,
          4.5,
          5.1,
          7.2,
          4.7,
          3.6,
          4.4,
          4.4,
          3.6,
          6.1,
          6.1,
          6.1,
          5.9,
          6.4,
          5.7,
          5.2,
          5.7,
          8.8,
          7.9,
          5.9,
          4.5,
          5.7,
          3.6,
          4.4,
          3.6,
          3.6,
          3.9,
          3.4,
          4.6,
          3.6,
          5.1,
          4.6,
          4.8,
          6.7,
          7,
          4.6,
          3.6,
          4.9,
          5,
          5,
          6,
          4.9,
          4.9,
          4.9,
          4.8,
          4.8,
          4.8,
          4.9,
          4.4,
          6.2,
          6.2,
          6.2,
          5.3,
          4.1,
          5,
          4.4,
          4.7,
          6.3,
          10.3,
          5.2,
          4.9,
          4.9,
          4.4,
          9.7,
          6.9,
          5.9,
          5.2,
          5.9,
          4.4,
          5.4,
          5.4,
          4.4,
          4.7,
          5.2,
          5.8,
          5.7,
          4.1,
          5.2,
          4,
          3.3,
          4.5,
          4.5,
          4.5,
          3.6,
          3,
          4.5,
          4.7,
          4.7,
          4.8,
          4.4,
          3.5,
          4.9,
          4.4,
          3.6,
          7.3,
          3.5,
          3.6,
          4.7,
          4.7,
          4.8,
          4.1,
          6.5,
          5.9,
          5.3,
          5,
          9.1,
          4.9,
          7.2,
          4.1,
          4.6,
          4,
          4,
          4.2,
          4.2,
          4.9,
          5.6,
          5.8,
          5.5,
          4,
          6.3,
          1.2,
          5.7,
          4.4,
          4.4,
          4.6,
          5.7,
          6.1,
          6.5,
          6.12,
          5.3,
          4.7,
          5.3,
          5.1,
          6.3,
          5.1,
          5.1,
          5.1,
          3.5,
          8.4,
          3,
          6.4,
          5.7,
          5.7,
          2.9,
          4.6,
          3,
          5.2,
          4.8,
          3.9,
          4,
          4,
          6.7,
          5.3,
          3.1,
          6.7,
          2.4,
          5.3,
          5.1,
          5.8,
          6,
          2.4,
          6,
          5.3,
          5.9,
          5.6,
          4.5,
          4.3,
          5.6,
          5.7,
          5.6,
          5.4,
          4.2,
          9.7,
          3.7,
          5.2,
          5.1,
          4.6,
          4.4,
          5.4,
          4.6,
          3.4,
          6.3,
          6.8,
          6.2,
          5.3,
          3.9,
          6,
          5.2,
          3.9,
          6,
          4.3,
          3.9,
          6.2,
          6.6,
          4.2,
          3.2,
          3.9,
          3.9,
          5.8,
          3.2,
          5.4,
          4.2,
          4.4,
          5.9,
          3.1,
          5.5,
          6.8,
          7,
          7.7,
          5.7,
          7.7,
          6.1,
          6.3,
          5,
          5.5,
          7.3,
          3.8,
          9.2,
          4.1,
          4.3,
          3.8,
          3.7,
          8.1,
          5.7,
          5.7,
          5.7,
          8,
          8,
          6.6,
          6.7,
          4.8,
          6.9,
          5.5,
          5.1,
          6.1,
          4.9,
          5,
          5,
          5.8,
          3.6,
          3.6,
          6.5,
          4.6,
          6.3,
          5,
          5.6,
          5.2,
          5.7,
          4.6,
          5.2,
          6.6,
          4.2,
          5.8,
          3.4,
          4.8,
          3.8,
          2.3,
          5.4,
          5.4,
          5.9,
          4.1,
          3.6,
          5.4,
          5,
          3.3,
          2.8,
          5.6,
          5.6,
          5.6,
          4.8,
          4,
          3.6,
          4.1,
          3.3,
          4.3,
          4,
          6.4,
          3.6,
          4.9,
          5,
          5.9,
          3.5,
          6.7,
          5,
          5.3,
          6.8,
          2.5,
          6.1,
          4.1,
          5.3,
          4.8,
          3.6,
          6.4,
          7.7,
          5.4,
          5,
          5.6,
          5.6,
          5,
          3,
          3.8,
          6.5,
          5.2,
          6.5,
          5.4,
          5.3,
          3.8,
          4.6,
          5.2,
          5.5,
          7.2,
          2.1,
          6.8,
          3.8,
          5.5,
          6.2,
          3.9,
          9.8,
          3.8,
          3.4,
          6.9,
          4,
          4.2,
          5.7,
          4.3,
          5.4,
          5.4,
          5.9,
          6.5,
          6.3,
          2.5,
          6,
          7.9,
          7.3,
          4.1,
          4.1,
          3.9,
          5.8,
          3.4,
          3.9,
          7.1,
          6.7,
          3.7,
          3.5,
          3.5,
          6.6,
          3.5,
          4,
          7.3,
          3.5,
          6.2,
          7.4,
          5.5,
          3.1,
          5.6,
          5.6,
          5.7,
          4.6,
          6.2,
          3.4,
          5.5,
          6.7,
          5.5,
          6.8,
          3.8,
          5.4,
          8.6,
          5.5,
          4.5,
          5.2,
          5,
          6.1,
          7.4,
          4.6,
          7.5,
          4.1,
          6.4,
          4.3,
          5.1,
          5.9,
          5.2,
          4.2,
          4.9,
          5.3,
          5.7,
          5.3,
          5.3,
          5.4,
          5,
          4.5,
          4.9,
          7.5,
          4.1,
          4.1,
          5.3,
          3.8
         ],
         "xaxis": "x",
         "y": [
          4.9,
          4.9,
          4.9,
          4.9,
          4.9,
          4,
          4,
          4,
          4,
          4,
          4.2,
          4,
          4.1,
          5.1,
          4,
          5,
          5.4,
          4.1,
          4.1,
          4,
          5.1,
          4.5,
          5,
          5.3,
          5,
          4.1,
          5.5,
          4,
          5.4,
          4,
          5.4,
          4.3,
          5,
          4.5,
          5.1,
          4,
          5.1,
          5.4,
          5,
          4,
          4.8,
          5.5,
          5.4,
          4.3,
          5,
          4.7,
          3.7,
          5,
          5.5,
          5,
          4,
          4,
          5,
          5.4,
          5,
          4.5,
          5,
          4.5,
          5,
          4.1,
          5,
          4.2,
          4.3,
          4.9,
          5.4,
          4,
          5,
          4.9,
          5.4,
          5.4,
          5.6,
          4.3,
          4,
          4.3,
          4.2,
          4.1,
          5,
          4,
          5.4,
          5,
          0.9,
          4,
          5.3,
          4.3,
          4.2,
          4,
          4,
          4.5,
          4.9,
          5.4,
          5.6,
          5.4,
          0.9,
          5.4,
          4.3,
          5.4,
          5.6,
          4.9,
          0.9,
          5.4,
          4.1,
          0.9,
          5.4,
          6,
          6,
          6,
          5.7,
          5.7,
          5.7,
          5.8,
          6.2,
          6.1,
          6.2,
          6.1,
          6,
          6,
          6.2,
          6,
          5.8,
          6.1,
          6,
          6.4,
          6.1,
          6.4,
          6,
          6.4,
          6.2,
          5.8,
          5.9,
          6,
          6,
          6,
          5.9,
          5.8,
          5.9,
          6,
          6.1,
          6,
          6,
          5.9,
          5.8,
          6.1,
          6,
          6,
          6.1,
          6,
          5.9,
          5.7,
          5.8,
          5.9,
          6.3,
          6,
          5.7,
          5.8,
          6.4,
          6.3,
          12.3,
          6.7,
          10.2,
          10.2,
          11.2,
          6.5,
          11.2,
          6.9,
          6.9,
          7.7,
          7.7,
          7.2,
          7.2,
          5,
          13.7,
          13.7,
          6.5,
          6.7,
          5.1,
          5.1,
          7.2,
          7.2,
          4.1,
          5.2,
          5.1,
          4,
          5,
          10.2,
          4.6,
          5.1,
          5.5,
          4,
          10.2,
          5.5,
          5.2,
          5.3,
          9.7,
          7,
          7.5,
          4,
          9.7,
          7.5,
          7,
          8.9,
          8.9,
          4,
          4.2,
          4.5,
          4.3,
          7.4,
          6.8,
          6.8,
          6.8,
          4,
          6.8,
          7.4,
          6.8,
          5,
          6.8,
          4,
          5.5,
          4,
          4.9,
          4.5,
          4,
          5.1,
          5,
          4,
          4,
          5.7,
          7,
          7,
          4.8,
          6,
          7,
          5.7,
          4.8,
          7,
          6,
          6.7,
          10.4,
          6.7,
          7.8,
          10.4,
          10.4,
          7,
          10.2,
          7,
          10.4,
          10.2,
          7.8,
          6.8,
          6.8,
          6,
          9.9,
          7.3,
          9.9,
          8.1,
          8,
          6,
          6.9,
          9,
          7.3,
          9,
          6.9,
          8.1,
          8,
          6.5,
          5.9,
          5.9,
          7.3,
          11.8,
          5.9,
          7.3,
          6.5,
          11.8,
          5.9,
          9.1,
          10.7,
          7.6,
          6.2,
          10.3,
          6,
          7.6,
          6,
          7.6,
          6.9,
          9.1,
          10.3,
          6.9,
          6.9,
          6.2,
          7.6,
          7.9,
          8.5,
          8.5,
          5.8,
          5.8,
          12.1,
          9.8,
          6.8,
          9.7,
          6.8,
          9.7,
          9.8,
          9.2,
          10.1,
          8.7,
          9.3,
          7.2,
          7,
          7.2,
          7,
          8.8,
          8.7,
          9.3,
          9.3,
          9,
          8,
          11,
          8.8,
          9.3,
          8,
          11,
          9,
          10.5,
          6.4,
          9.6,
          7.2,
          6.1,
          7.7,
          7.8,
          6.4,
          10.6,
          7,
          9.6,
          7.2,
          6.1,
          7.8,
          10.6,
          7.7,
          7.9,
          7,
          11.5,
          6.5,
          5.7,
          5.5,
          7.1,
          6.5,
          5.5,
          6.5,
          5.7,
          6.7,
          7.1,
          6.5,
          6.5,
          9.5,
          6.5,
          6.7,
          9.5,
          9.1,
          10.2,
          6.4,
          6.4,
          10.2,
          10.2,
          6.2,
          6.2,
          10.2,
          11,
          9,
          10.7,
          11,
          6.2,
          7,
          7,
          10.7,
          9,
          6.2,
          7,
          7,
          11,
          7.6,
          10.9,
          6.8,
          7.9,
          7.2,
          8,
          7.2,
          7.2,
          11,
          7.9,
          7.7,
          4.8,
          8,
          7.6,
          7.6,
          6.8,
          6.8,
          7.6,
          7.2,
          6.8,
          4.8,
          7.7,
          10.9,
          6.8,
          7,
          7,
          10.9,
          6.8,
          8.2,
          8.2,
          7.4,
          7.4,
          9.1,
          4.3,
          8.5,
          9.1,
          4.3,
          8.5,
          9.1,
          8,
          9.1,
          8,
          6.5,
          8.2,
          11.4,
          9.9,
          8.2,
          7.6,
          9.5,
          8,
          9.3,
          7.3,
          8.7,
          9,
          7.9,
          9,
          11,
          8.1,
          11.7,
          8.2,
          12,
          7.5,
          9.7,
          11,
          8,
          8.2,
          10.1,
          9.4,
          7.9,
          9,
          11,
          9.4,
          10.3,
          7.3,
          9,
          6.8,
          9,
          8.3,
          7.3,
          8,
          8.9,
          8,
          9.3,
          8.9,
          8,
          8.5,
          7.3,
          7.7,
          7.7,
          11,
          7.7,
          8.9,
          7.6,
          7.7,
          6.9,
          8,
          7.9,
          8.6,
          8,
          7.3,
          9,
          9,
          6.8,
          8.9,
          9.7,
          6.4,
          7.8,
          11.3,
          10.2,
          8.1,
          9.3,
          10.2,
          8.6,
          10.1,
          6.8,
          10,
          11.7,
          9,
          10,
          10.7,
          8,
          5.8,
          7.9,
          7.7,
          10.5,
          7.2,
          7.7,
          8.7,
          8.8,
          10,
          8.9,
          9,
          8,
          9.9,
          8.9,
          7.9,
          8.1,
          10.2,
          6.3,
          9.5,
          7.4,
          8.3,
          8,
          7.7,
          13.1,
          10.4,
          11.3,
          8.3,
          10.9,
          10.2,
          7.2,
          6.5,
          9.7,
          10.8,
          7.5,
          8,
          6,
          8.8,
          9.4,
          8,
          7.8,
          6.6,
          8.3,
          7.6,
          10.8,
          7.2,
          7.8,
          8.9,
          8,
          11.8,
          9.3,
          7.4,
          10.6,
          12,
          12.8,
          6.7,
          2,
          6.3,
          7.5,
          6.7,
          9.8,
          11.8,
          11.8,
          9,
          14.7,
          11.8,
          11.9,
          6.7,
          7.1,
          7.3,
          7.4,
          7.9,
          8.1,
          8.6,
          9.2,
          7.7,
          7.1,
          10.9,
          9.8,
          9,
          7.7,
          9.1,
          8.1,
          7.5,
          9,
          8,
          9,
          13.1,
          8.3,
          8,
          9.4,
          7,
          6.3,
          8.8,
          7,
          8.5,
          7.1,
          7.5,
          7.8,
          11.2,
          11.5,
          10.5,
          13.1,
          3.7,
          9,
          9.3,
          12,
          8.8,
          7.3,
          10.9,
          12.4,
          12.2,
          13.7,
          11.2,
          7.1,
          3.7,
          11.9,
          11.9,
          8.7,
          9.2,
          9,
          5.7,
          9,
          12.9,
          12.6,
          9.5,
          8.9,
          8.7,
          12.1,
          9.9,
          9.5,
          9.7,
          9,
          10.8,
          10.9,
          12.1,
          12.8,
          10.9,
          6.7,
          10.6,
          9.4,
          10.9,
          10.9,
          7.6,
          12.4,
          12.4,
          11.7,
          10,
          10,
          8.5,
          10.8,
          10.8,
          10.8,
          8,
          10.7,
          9,
          9,
          10.6,
          10.7,
          10.2,
          8.7,
          8.5,
          11.6,
          8.4,
          10.2,
          11.5,
          10,
          10.9,
          8.1,
          11.6,
          13,
          5.5,
          10.6,
          7.5,
          12.1,
          9.7,
          9.7,
          9.3,
          10.2,
          7.4,
          10.2,
          12.5,
          10.7,
          6.3,
          8.1,
          7.3,
          8.8,
          12.7,
          10,
          12.2,
          7.1,
          9,
          8,
          10.4,
          12.2,
          13.7,
          11,
          11.5,
          7.5,
          10.1,
          10.8,
          9,
          7.1,
          11.1,
          10.4,
          10.9,
          7.7,
          13.6,
          11.5,
          9.7,
          13.8,
          11.6,
          6.4,
          10.6,
          11.5,
          9,
          12.3,
          12.3,
          6.9,
          6.9,
          10,
          8,
          9.3,
          8,
          14.6,
          13,
          3,
          9.6,
          9.1,
          7.5,
          10.5,
          3.7,
          12.3,
          9.2,
          6.8,
          9.3,
          7.4,
          9.3,
          9.9,
          10.1,
          9.9,
          9.9,
          9.9,
          13.7,
          9.7,
          9.6,
          9.4,
          9.2,
          8,
          9,
          7.6,
          10.5,
          9.8,
          12.8,
          11.8,
          11.9,
          11.9,
          11.8,
          11.3,
          12.3,
          11.8,
          11.2,
          14.5,
          11.2,
          8.5,
          13.9,
          11.2,
          12.3,
          14.5,
          10.1,
          10.5,
          8.8,
          12.4,
          10.5,
          10.5,
          10.5,
          11.9,
          10.7,
          10.3,
          10.8,
          9.9,
          10.1,
          12.3,
          13.1,
          10,
          10.5,
          10.8,
          11.6,
          13.7,
          13.7,
          12.3,
          10.2,
          11.2,
          8.9,
          10.2,
          11.2,
          10.5,
          10.2,
          12.3,
          13.6,
          11.2,
          9.7,
          13.2,
          13.2,
          9.8,
          12.5,
          10.6,
          15.9,
          10,
          11,
          14.8,
          9.2,
          14.4,
          11.7,
          15,
          10.5,
          15,
          14.6,
          12.2,
          10.3,
          10.2,
          10.3,
          7.8,
          13.2,
          14.1,
          10.2,
          11,
          9.4,
          11.6,
          8.3,
          12.2,
          12.2,
          8.2,
          8.2,
          10.6,
          11,
          11.2,
          12.2,
          12.4,
          10.9,
          10,
          13.2,
          12,
          12,
          14.7,
          10.7,
          10.7,
          9.1,
          9,
          7.2,
          8,
          8.5,
          9.9,
          6.9,
          9,
          7,
          9.1,
          9.7,
          8.8,
          8.9,
          7.9,
          9.4,
          9,
          9.1,
          7,
          7.3,
          9.6,
          6.9,
          8.8,
          9.7,
          7.6,
          7.2,
          8.5,
          7.2,
          9.7,
          6.7,
          7.4,
          7,
          6.5,
          7,
          10,
          6.9,
          6.5,
          6.8,
          10.4,
          8,
          6.8,
          8,
          6.9,
          12,
          10.3,
          8.9,
          8,
          7.7,
          7.1,
          7,
          7,
          10.7,
          10.3,
          16,
          13.3,
          11.7,
          8.5,
          13.8,
          10.7,
          10.6,
          9.4,
          9.1,
          6.5,
          7.2,
          10.8,
          11.3,
          10.4,
          9.2,
          11,
          6.5,
          8.5,
          6.8,
          9.4,
          8.1,
          7.9,
          8.6,
          11.8,
          11.3,
          7,
          6.8,
          6.5,
          7.8,
          6.8,
          11.1,
          6.5,
          9.2,
          13.9,
          8.5,
          7.2,
          13,
          8,
          10.4,
          12.6,
          9.8,
          9.96,
          10.2,
          9.2,
          8.8,
          10.3,
          9.1,
          12.4,
          6.8,
          11.8,
          7.6,
          14.7,
          9.1,
          13.7,
          7,
          6.9,
          8.8,
          7.8,
          8.1,
          6.5,
          8.1,
          8.5,
          7.2,
          7.3,
          7.1,
          7.3,
          7,
          8.6,
          6.8,
          6.8,
          8.1,
          8.2,
          6.7,
          8.1,
          7.7,
          8.5,
          8,
          8.1,
          11.3,
          8.2,
          7.6,
          7,
          9.6,
          9.4,
          7,
          6.8,
          8.5,
          8.1,
          8.6,
          7.9,
          6.8,
          11.1,
          6.7,
          9.3,
          13.9,
          8.5,
          8.5,
          7.7,
          7,
          12.3,
          6.7,
          6.7,
          6.9
         ],
         "yaxis": "y"
        }
       ],
       "layout": {
        "coloraxis": {
         "colorbar": {
          "title": {
           "text": "Gender"
          }
         },
         "colorscale": [
          [
           0,
           "#440154"
          ],
          [
           0.1111111111111111,
           "#482878"
          ],
          [
           0.2222222222222222,
           "#3e4989"
          ],
          [
           0.3333333333333333,
           "#31688e"
          ],
          [
           0.4444444444444444,
           "#26828e"
          ],
          [
           0.5555555555555556,
           "#1f9e89"
          ],
          [
           0.6666666666666666,
           "#35b779"
          ],
          [
           0.7777777777777778,
           "#6ece58"
          ],
          [
           0.8888888888888888,
           "#b5de2b"
          ],
          [
           1,
           "#fde725"
          ]
         ]
        },
        "legend": {
         "itemsizing": "constant",
         "tracegroupgap": 0
        },
        "template": {
         "data": {
          "pie": [
           {
            "automargin": true,
            "type": "pie"
           }
          ],
          "scatter": [
           {
            "line": {
             "width": 3
            },
            "marker": {
             "size": 9
            },
            "type": "scatter"
           }
          ],
          "scatter3d": [
           {
            "line": {
             "width": 3
            },
            "marker": {
             "size": 9
            },
            "type": "scatter3d"
           }
          ],
          "scattergeo": [
           {
            "line": {
             "width": 3
            },
            "marker": {
             "size": 9
            },
            "type": "scattergeo"
           }
          ],
          "scattergl": [
           {
            "line": {
             "width": 3
            },
            "marker": {
             "size": 9
            },
            "type": "scattergl"
           }
          ],
          "scatterpolar": [
           {
            "line": {
             "width": 3
            },
            "marker": {
             "size": 9
            },
            "type": "scatterpolar"
           }
          ],
          "scatterpolargl": [
           {
            "line": {
             "width": 3
            },
            "marker": {
             "size": 9
            },
            "type": "scatterpolargl"
           }
          ],
          "scatterternary": [
           {
            "line": {
             "width": 3
            },
            "marker": {
             "size": 9
            },
            "type": "scatterternary"
           }
          ],
          "table": [
           {
            "cells": {
             "height": 30
            },
            "header": {
             "height": 36
            },
            "type": "table"
           }
          ]
         },
         "layout": {
          "font": {
           "size": 18
          },
          "xaxis": {
           "title": {
            "standoff": 15
           }
          },
          "yaxis": {
           "title": {
            "standoff": 15
           }
          }
         }
        },
        "title": {
         "text": "HbA1c Per BMI & LDL "
        },
        "xaxis": {
         "anchor": "y",
         "domain": [
          0,
          1
         ],
         "title": {
          "text": "Chol"
         },
         "type": "log"
        },
        "yaxis": {
         "anchor": "x",
         "domain": [
          0,
          1
         ],
         "title": {
          "text": "HbA1c"
         }
        }
       }
      },
      "text/html": [
       "<div>                            <div id=\"64669035-9380-459e-83e0-62a6605acf86\" class=\"plotly-graph-div\" style=\"height:525px; width:100%;\"></div>            <script type=\"text/javascript\">                require([\"plotly\"], function(Plotly) {                    window.PLOTLYENV=window.PLOTLYENV || {};                                    if (document.getElementById(\"64669035-9380-459e-83e0-62a6605acf86\")) {                    Plotly.newPlot(                        \"64669035-9380-459e-83e0-62a6605acf86\",                        [{\"hovertemplate\":\"Chol=%{x}<br>HbA1c=%{y}<br>BMI=%{marker.size}<br>Gender=%{marker.color}<extra></extra>\",\"legendgroup\":\"\",\"marker\":{\"color\":[0.0,1.0,0.0,0.0,1.0,0.0,0.0,1.0,1.0,0.0,0.0,0.0,0.0,0.0,0.0,1.0,0.0,0.0,0.0,0.0,0.0,0.0,0.0,1.0,0.0,0.0,1.0,1.0,1.0,0.0,0.0,1.0,1.0,0.0,0.0,0.0,0.0,1.0,1.0,0.0,0.0,0.0,1.0,1.0,0.0,1.0,1.0,1.0,0.0,0.0,1.0,0.0,1.0,0.0,0.0,0.0,0.0,0.0,0.0,0.0,0.0,1.0,1.0,1.0,0.0,1.0,0.0,0.0,1.0,0.0,1.0,1.0,0.0,0.0,0.0,1.0,0.0,1.0,0.0,0.0,0.0,0.0,0.0,1.0,1.0,1.0,0.0,0.0,0.0,1.0,1.0,1.0,0.0,0.0,0.0,1.0,0.0,0.0,1.0,1.0,0.0,0.0,1.0,1.0,1.0,1.0,1.0,1.0,0.0,1.0,1.0,1.0,1.0,1.0,1.0,0.0,1.0,0.0,1.0,1.0,0.0,0.0,1.0,0.0,1.0,0.0,1.0,1.0,1.0,0.0,0.0,0.0,1.0,1.0,1.0,0.0,0.0,0.0,0.0,1.0,1.0,1.0,1.0,1.0,1.0,1.0,0.0,1.0,0.0,1.0,1.0,1.0,1.0,1.0,1.0,0.0,1.0,1.0,1.0,1.0,1.0,1.0,1.0,1.0,1.0,1.0,1.0,1.0,1.0,1.0,0.0,0.0,0.0,1.0,0.0,1.0,0.0,0.0,1.0,1.0,0.0,0.0,0.0,1.0,0.0,1.0,1.0,1.0,1.0,1.0,1.0,0.0,1.0,1.0,1.0,1.0,1.0,1.0,1.0,0.0,0.0,0.0,0.0,1.0,0.0,0.0,0.0,0.0,1.0,0.0,0.0,0.0,1.0,0.0,0.0,0.0,1.0,1.0,0.0,1.0,1.0,1.0,0.0,0.0,1.0,0.0,1.0,1.0,1.0,0.0,1.0,0.0,1.0,1.0,0.0,0.0,1.0,0.0,1.0,1.0,1.0,1.0,1.0,1.0,1.0,1.0,1.0,0.0,0.0,1.0,0.0,1.0,0.0,1.0,0.0,1.0,1.0,0.0,1.0,0.0,1.0,1.0,0.0,0.0,0.0,0.0,1.0,1.0,0.0,1.0,0.0,1.0,0.0,1.0,0.0,1.0,1.0,1.0,1.0,1.0,1.0,1.0,0.0,1.0,1.0,1.0,0.0,1.0,1.0,0.0,0.0,0.0,0.0,0.0,0.0,1.0,1.0,1.0,1.0,1.0,1.0,0.0,1.0,0.0,0.0,1.0,0.0,1.0,0.0,1.0,0.0,0.0,0.0,1.0,1.0,1.0,1.0,0.0,1.0,1.0,1.0,1.0,1.0,0.0,0.0,0.0,1.0,1.0,1.0,0.0,0.0,0.0,0.0,0.0,1.0,0.0,1.0,1.0,0.0,0.0,1.0,1.0,1.0,0.0,1.0,1.0,1.0,1.0,1.0,0.0,1.0,1.0,1.0,1.0,1.0,1.0,0.0,0.0,1.0,1.0,0.0,0.0,0.0,0.0,0.0,1.0,1.0,0.0,1.0,1.0,0.0,1.0,0.0,1.0,1.0,0.0,1.0,0.0,0.0,1.0,1.0,1.0,1.0,0.0,1.0,1.0,0.0,1.0,1.0,1.0,0.0,0.0,0.0,1.0,1.0,0.0,1.0,1.0,1.0,1.0,1.0,1.0,1.0,1.0,1.0,1.0,0.0,0.0,0.0,0.0,1.0,0.0,0.0,1.0,0.0,0.0,1.0,1.0,1.0,1.0,0.0,1.0,0.0,0.0,1.0,1.0,1.0,1.0,1.0,1.0,0.0,1.0,1.0,1.0,1.0,0.0,0.0,1.0,1.0,1.0,1.0,0.0,0.0,1.0,1.0,0.0,0.0,1.0,0.0,1.0,0.0,0.0,1.0,1.0,1.0,0.0,0.0,0.0,0.0,1.0,0.0,0.0,1.0,0.0,1.0,1.0,1.0,1.0,1.0,1.0,0.0,1.0,1.0,0.0,0.0,0.0,1.0,1.0,1.0,1.0,0.0,1.0,1.0,1.0,1.0,0.0,1.0,1.0,0.0,0.0,1.0,0.0,0.0,1.0,1.0,0.0,1.0,0.0,1.0,1.0,1.0,1.0,0.0,1.0,1.0,1.0,1.0,0.0,1.0,0.0,1.0,1.0,1.0,0.0,0.0,0.0,1.0,1.0,0.0,0.0,0.0,0.0,0.0,1.0,1.0,1.0,1.0,1.0,0.0,1.0,0.0,0.0,1.0,1.0,1.0,1.0,1.0,1.0,1.0,0.0,1.0,1.0,1.0,1.0,1.0,0.0,0.0,0.0,1.0,1.0,0.0,0.0,0.0,1.0,1.0,0.0,1.0,1.0,0.0,1.0,1.0,0.0,1.0,1.0,0.0,1.0,1.0,0.0,1.0,1.0,1.0,0.0,0.0,0.0,1.0,1.0,0.0,0.0,0.0,0.0,0.0,1.0,0.0,1.0,1.0,0.0,0.0,0.0,1.0,0.0,0.0,1.0,0.0,1.0,1.0,1.0,1.0,0.0,0.0,1.0,0.0,0.0,1.0,0.0,1.0,1.0,1.0,0.0,0.0,1.0,0.0,0.0,1.0,0.0,0.0,0.0,0.0,0.0,0.0,0.0,0.0,1.0,0.0,0.0,1.0,1.0,1.0,0.0,1.0,1.0,1.0,0.0,1.0,1.0,0.0,1.0,1.0,0.0,0.0,1.0,1.0,0.0,1.0,1.0,1.0,1.0,1.0,1.0,1.0,1.0,1.0,1.0,0.0,1.0,1.0,1.0,0.0,1.0,0.0,0.0,0.0,0.0,1.0,0.0,1.0,1.0,0.0,0.0,0.0,1.0,0.0,1.0,0.0,1.0,1.0,0.0,1.0,0.0,0.0,1.0,1.0,1.0,0.0,1.0,1.0,1.0,1.0,1.0,1.0,1.0,0.0,0.0,0.0,0.0,1.0,1.0,0.0,1.0,1.0,1.0,1.0,0.0,0.0,1.0,1.0,0.0,1.0,1.0,0.0,1.0,1.0,0.0,1.0,0.0,1.0,1.0,1.0,1.0,1.0,0.0,0.0,1.0,0.0,1.0,1.0,1.0,0.0,0.0,0.0,1.0,1.0,1.0,1.0,0.0,1.0,0.0,0.0,0.0,0.0,0.0,0.0,1.0,1.0,0.0,0.0,1.0,0.0,1.0,1.0,1.0,1.0,0.0,0.0,0.0,0.0,0.0,1.0,1.0,0.0,0.0,0.0,1.0,1.0,1.0,0.0,1.0,0.0,1.0,1.0,0.0,0.0,1.0,1.0,1.0,1.0,0.0,1.0,0.0,1.0,1.0,0.0,0.0,0.0,1.0,1.0,0.0,0.0,0.0,0.0,1.0,1.0,0.0,1.0,1.0,1.0,1.0,0.0,0.0,0.0,1.0,1.0,1.0,1.0,1.0,0.0,1.0,1.0,1.0,0.0,1.0,0.0,1.0,0.0,1.0,0.0,0.0,0.0,1.0,0.0,1.0,1.0,1.0,1.0,1.0,1.0,1.0,0.0,1.0,1.0,1.0,0.0,0.0,0.0,1.0,1.0,1.0,0.0,1.0,0.0,1.0,0.0,0.0,0.0,1.0,1.0,1.0,1.0,1.0,1.0,1.0,1.0,0.0,1.0,0.0,1.0,1.0,0.0,0.0,1.0,1.0,1.0,0.0,1.0,0.0,0.0,0.0,1.0,0.0,0.0,1.0,1.0,1.0,1.0,0.0,0.0,0.0,0.0,1.0,1.0,1.0,0.0,0.0,1.0,0.0,1.0,0.0,1.0,1.0,1.0,1.0,1.0,0.0,1.0,0.0,1.0,1.0,1.0,0.0,1.0,0.0,1.0,0.0,1.0,1.0,0.0,0.0,1.0,0.0,0.0,0.0,1.0,1.0,1.0,0.0,0.0,0.0,0.0,0.0,0.0,0.0,0.0,1.0,0.0,1.0,1.0,1.0,1.0,1.0,1.0,1.0,0.0,0.0,0.0,1.0,1.0,1.0,0.0,1.0,0.0,1.0,0.0,1.0,0.0,0.0,0.0,1.0,0.0,1.0,0.0,1.0,1.0,0.0,1.0,1.0,0.0,0.0,1.0,0.0,0.0,0.0,0.0,1.0,0.0,0.0,1.0,1.0,1.0,1.0,1.0,1.0,0.0,1.0,1.0,1.0,1.0,1.0,0.0,1.0,1.0,0.0,1.0,1.0,0.0,1.0,0.0,0.0,1.0,1.0,1.0,1.0,0.0,null,1.0,1.0,1.0,1.0,1.0,1.0,1.0,1.0],\"coloraxis\":\"coloraxis\",\"size\":[24.0,23.0,24.0,24.0,21.0,21.0,24.0,24.0,21.0,24.0,23.0,21.0,22.0,23.0,24.0,21.0,21.0,22.0,24.0,23.0,24.0,24.0,24.0,23.0,21.0,22.0,19.0,22.0,22.0,22.0,23.0,24.0,22.0,24.0,23.0,22.0,21.0,21.0,24.0,23.0,24.0,21.0,22.0,21.0,24.0,21.0,23.0,24.0,21.0,22.0,24.0,22.0,21.0,20.0,24.0,23.0,22.0,22.0,21.0,21.0,23.5,23.0,24.0,21.0,22.0,23.0,20.0,21.0,23.0,22.0,22.0,21.0,21.0,24.5,21.0,24.0,23.0,20.0,24.0,21.0,22.0,22.0,24.0,20.0,20.0,21.0,22.0,24.0,22.0,21.0,24.5,22.0,24.0,24.0,21.0,24.0,20.0,24.0,24.0,19.0,22.5,22.0,24.6,23.0,23.0,23.0,24.0,24.0,25.0,23.0,23.0,24.0,25.0,25.0,24.0,21.0,24.0,23.0,23.0,24.0,23.0,22.0,24.0,24.0,24.0,22.0,25.0,25.0,25.0,22.0,24.0,22.0,19.0,25.0,25.0,25.0,25.0,19.0,25.0,19.0,24.0,24.0,25.0,25.0,24.0,24.0,30.0,31.0,32.0,21.0,29.0,21.0,28.0,19.0,19.5,27.0,37.2,27.4,34.3,34.3,29.5,24.0,29.5,34.6,34.6,27.3,27.3,31.2,31.2,22.0,29.0,29.0,23.0,40.5,24.0,25.0,22.0,22.0,21.0,24.0,25.0,24.0,23.0,47.0,25.0,25.0,25.0,24.0,47.0,25.0,24.0,25.0,21.17,40.0,28.3,23.0,21.17,28.3,40.0,32.0,32.0,23.0,25.0,22.0,25.0,31.5,25.0,25.0,37.0,23.0,25.0,31.5,37.0,24.0,25.0,23.0,21.0,23.0,24.0,22.0,24.0,20.0,25.0,23.0,24.0,35.0,31.0,33.0,39.0,38.0,33.0,35.0,39.0,31.0,38.0,37.0,33.0,37.0,26.0,32.0,33.0,33.0,33.9,33.0,32.0,33.9,26.0,27.0,27.0,27.0,28.0,32.0,28.0,31.4,30.0,27.0,28.0,29.0,32.0,29.0,28.0,31.4,30.0,31.0,30.0,36.0,34.0,31.5,30.0,34.0,31.0,31.5,36.0,33.0,26.0,26.0,38.0,34.0,35.0,26.0,35.0,37.0,39.0,33.0,34.0,33.0,39.0,38.0,37.0,33.0,26.0,26.0,33.0,33.0,29.0,29.0,32.0,30.0,32.0,30.0,29.0,30.0,30.0,33.0,36.6,30.0,26.0,30.0,26.0,27.0,33.0,30.0,36.6,30.0,28.0,29.0,27.0,30.0,28.0,29.0,30.0,28.0,31.0,29.0,36.0,33.0,33.0,33.0,31.0,35.0,39.0,29.0,36.0,33.0,33.0,35.0,33.0,28.0,39.0,26.0,30.0,30.1,38.0,37.0,33.0,38.0,33.0,30.1,30.0,37.0,30.0,30.0,32.0,30.0,30.0,32.0,29.0,30.0,26.0,26.0,30.0,36.6,27.0,27.0,36.6,28.0,29.0,26.0,28.0,30.0,36.6,29.36,26.0,29.0,30.0,36.6,29.36,31.0,30.0,28.0,29.0,36.0,29.0,33.0,29.0,31.0,31.0,36.0,32.9,35.0,33.0,27.3,30.0,29.0,29.0,27.3,31.0,29.0,35.0,32.9,43.25,33.0,39.18,39.18,43.25,33.0,39.0,39.0,38.0,38.0,30.0,37.0,33.0,30.0,37.0,33.0,27.0,30.0,27.0,30.0,32.0,28.0,26.0,29.0,29.0,34.5,30.0,27.0,28.0,33.0,27.0,29.0,28.0,30.0,31.0,36.0,33.0,34.0,30.0,30.0,33.6,26.0,35.0,28.0,33.0,39.0,38.0,37.0,26.0,33.0,32.0,29.0,26.0,27.0,28.0,29.0,30.0,31.0,36.0,28.0,31.0,28.0,33.0,35.0,29.0,33.0,27.0,39.0,38.0,30.0,37.0,32.0,34.05,33.0,33.0,32.0,26.0,30.1,27.0,27.0,28.0,29.0,30.0,30.0,33.0,30.0,31.0,28.0,26.0,27.0,33.0,36.0,33.0,30.0,30.0,35.0,33.0,39.0,29.0,38.0,28.0,30.0,32.0,37.0,30.0,33.0,32.0,33.0,27.0,26.0,26.0,30.1,27.0,33.0,26.0,28.0,29.0,30.0,31.0,36.0,33.0,33.0,29.0,31.0,35.0,33.0,27.75,39.0,38.0,35.2,37.0,26.0,36.11,33.0,32.0,26.0,31.0,27.0,33.0,28.0,29.0,36.6,36.6,38.62,30.0,28.0,30.0,31.0,36.0,35.0,33.0,35.0,37.0,34.0,33.0,39.0,38.0,30.2,37.0,36.0,33.0,32.0,26.0,30.0,27.0,29.0,28.0,31.0,35.0,28.0,29.0,30.0,30.0,29.0,29.63,31.0,27.0,36.0,33.0,35.0,33.0,39.0,38.0,37.0,33.0,29.0,32.0,26.0,27.0,30.0,28.0,29.0,36.6,28.0,30.0,30.0,28.0,26.0,26.0,28.0,29.0,26.0,31.0,36.0,30.0,34.0,33.0,35.0,33.0,30.0,37.0,26.0,30.0,34.0,30.1,39.0,30.0,30.0,27.0,30.0,38.0,29.0,37.0,26.0,33.0,32.0,30.0,29.0,30.0,30.0,26.0,27.0,33.0,30.0,37.0,31.0,27.0,28.0,29.0,30.0,29.0,31.0,26.0,31.0,36.0,28.0,28.0,28.0,26.0,33.0,31.0,28.0,26.0,35.0,35.0,36.6,29.0,33.0,30.0,39.0,38.0,30.0,30.1,37.0,28.0,28.0,26.0,33.0,32.0,30.0,30.0,29.0,29.0,31.0,27.0,26.0,26.0,29.0,27.0,28.0,29.0,30.0,31.0,33.0,34.0,36.0,33.0,30.0,27.0,35.0,33.0,28.36,30.0,37.0,26.0,33.0,26.0,30.0,47.75,39.0,30.0,38.0,37.0,33.0,37.62,36.6,31.0,32.0,26.0,27.0,29.0,28.0,29.0,30.0,31.0,29.0,31.0,31.0,28.0,31.0,31.0,36.0,33.0,35.0,33.0,32.0,29.0,26.0,39.0,35.16,38.0,37.0,27.33,31.0,33.0,32.0,34.0,30.0,31.0,26.0,26.0,27.0,28.0,26.0,29.0,30.0,31.0,36.0,33.0,35.0,30.0,36.6,33.0,30.0,39.0,30.0,38.0,37.0,33.0,32.0,26.0,30.0,32.0,27.17,26.0,37.0,27.0,28.0,32.0,26.0,29.0,27.4,30.0,31.0,31.0,36.0,33.0,35.0,33.0,39.0,38.0,29.0,37.0,30.0,33.0,32.0,30.0,26.0,28.0,32.0,30.0,27.0,27.0,26.0,28.0,29.0,30.0,31.0,36.0,33.0,34.0,35.0,31.5,33.0,39.0,38.0,37.0,33.0,32.0,32.0,26.0,27.0,32.0,32.65,28.0,29.0,31.0,30.0,31.0,29.0,33.0,36.0,33.0,31.0,35.0,33.0,39.0,38.0,25.6,37.0,26.0,34.0,29.0,33.0,32.0,26.0,27.0,28.0,29.0,29.0,30.0,36.6,31.0,30.0,36.0,33.0,35.0,28.0,30.0,28.0,29.0,24.0,30.0,24.0,29.0,32.0,38.0,22.0,27.0,30.0,33.0,23.0,27.0,21.0,30.0,28.0,30.0,28.0,32.0,35.0,26.0,19.0,29.0,27.0,31.0,28.0,29.0,31.0,35.0,33.0,30.0,36.6,37.0,30.0,33.0,27.0,30.0,33.0,30.0,30.0,30.0,26.0,27.0,21.0,26.0,31.0,31.0,26.0,29.0,29.0,28.0,26.0,31.0,33.0,30.0,33.0,22.0,33.0,35.0,29.0,31.0,30.0,31.0,33.0,21.0,30.0,23.0,34.0,24.0,24.0,30.0,37.0,30.0,28.0,26.0,28.0,34.0,30.0,31.0,32.0,33.0,32.0,33.0,35.0,30.0,35.0,35.0,29.0,29.0,31.0,26.0,38.0,32.0,33.0,32.0,32.0,33.0,30.0,35.0,29.0,32.0,33.0,21.0,28.0,23.0,22.0,33.0,34.0,26.0,20.0,20.0,26.0,27.0,26.0,23.0,32.0,22.0,23.0,30.0,21.0,29.0,24.0,30.0,20.0,21.0,34.0,22.0,33.0,30.0,30.0,33.0,27.0,30.0,32.0,27.0,32.0,35.0,30.1,30.0,30.1,29.0,33.0,27.0,37.0,37.0,30.0,37.2,27.4,40.5,33.0],\"sizemode\":\"area\",\"sizeref\":0.01326388888888889,\"symbol\":\"circle\"},\"mode\":\"markers\",\"name\":\"\",\"orientation\":\"v\",\"showlegend\":false,\"x\":[4.2,3.7,4.2,4.2,4.9,2.9,3.6,2.9,3.8,3.8,3.6,4.0,4.9,4.2,4.0,3.6,5.3,4.9,5.0,4.4,0.5,6.2,4.2,4.8,4.6,4.9,5.5,2.8,3.7,5.6,3.2,4.6,3.6,6.2,6.5,4.0,3.0,3.7,3.7,4.4,3.8,9.5,3.7,4.7,4.2,5.2,4.3,4.7,9.5,4.7,4.9,4.3,4.8,4.1,3.9,3.2,3.1,3.4,4.2,5.2,3.6,4.0,4.3,4.9,3.8,4.8,4.7,3.0,4.9,4.4,7.6,3.2,3.4,4.1,3.4,6.3,4.1,4.1,6.5,4.4,3.2,4.5,4.3,4.8,4.9,2.0,4.3,4.6,4.3,3.2,3.9,3.8,3.4,3.9,5.2,3.1,4.3,3.7,3.4,0.0,4.5,3.2,4.5,6.2,6.2,6.2,4.9,4.9,4.7,5.9,3.7,4.0,2.0,4.2,4.0,5.6,2.0,5.6,5.9,4.0,5.6,4.7,4.0,4.7,3.6,4.7,2.0,4.8,5.3,5.4,4.2,5.4,5.3,4.8,5.3,5.4,4.8,4.2,5.4,5.3,4.8,4.2,4.0,4.0,4.2,3.6,2.1,6.5,4.0,4.7,4.3,4.9,4.4,4.2,3.7,4.2,4.1,4.1,4.8,4.8,3.9,4.9,3.9,4.5,4.5,3.7,3.7,4.7,4.7,6.1,4.4,4.4,4.4,5.3,5.7,4.4,9.5,9.5,5.9,5.1,6.0,5.9,6.3,5.2,4.7,6.7,5.5,5.0,5.2,5.5,6.8,2.5,2.4,4.0,4.4,5.2,2.4,4.4,4.0,5.8,5.8,6.2,4.2,5.6,5.3,3.7,4.4,4.4,4.0,5.3,4.4,3.7,6.1,6.2,4.4,6.8,5.1,6.2,5.3,5.6,7.0,7.1,4.4,6.6,6.3,4.8,3.8,3.8,4.1,4.2,3.8,4.8,4.1,3.8,4.2,3.1,5.4,3.1,4.7,5.4,5.4,5.5,5.6,5.5,5.4,5.6,4.7,7.2,7.2,5.3,4.1,3.5,4.1,4.5,4.6,5.3,5.3,5.9,3.5,5.9,5.3,4.5,4.6,2.7,4.1,4.1,4.5,4.5,4.1,4.5,2.7,4.5,4.1,6.6,4.4,4.7,2.6,4.2,4.3,4.7,4.3,4.7,5.4,6.6,4.2,3.8,5.4,2.6,4.7,2.0,4.2,4.2,6.0,6.0,4.4,4.1,4.9,5.2,4.9,5.2,4.1,4.1,3.6,5.8,5.8,3.2,3.4,3.2,3.4,5.2,5.8,5.8,5.8,5.9,6.1,6.3,5.2,5.8,6.1,6.3,5.9,4.9,4.0,5.2,5.8,2.8,3.5,3.6,4.0,4.0,4.5,5.2,5.8,2.8,3.6,4.0,3.5,4.9,4.5,4.4,6.0,3.4,0.6,4.0,2.4,0.6,2.4,3.4,3.4,4.0,6.0,6.0,7.2,6.0,3.4,7.2,4.4,4.8,4.4,4.4,4.8,4.8,5.8,5.8,4.8,4.0,7.2,7.0,4.0,4.6,5.0,5.3,7.0,7.2,4.6,5.0,5.3,3.4,5.4,4.9,5.5,3.7,3.2,4.8,3.2,3.2,3.4,3.7,4.7,4.8,4.8,5.4,5.4,5.5,5.5,5.4,3.2,5.5,4.8,4.7,3.5,5.5,5.6,5.6,3.5,5.5,3.8,3.8,7.1,7.1,3.7,4.6,8.5,3.7,4.6,8.5,3.7,4.0,3.7,4.0,4.1,4.9,4.1,4.4,2.3,6.5,3.6,4.3,5.3,3.3,5.2,8.8,4.9,3.9,4.5,4.2,5.5,2.3,3.6,3.6,4.1,4.4,6.3,4.9,5.2,5.1,4.8,4.5,4.4,4.1,7.3,4.1,4.2,4.9,5.9,4.0,4.8,4.6,4.6,4.9,5.8,4.8,6.4,4.8,3.6,4.2,4.4,3.4,4.4,5.3,5.9,4.4,4.8,5.2,2.0,3.3,4.5,6.1,4.4,4.4,5.1,6.8,3.6,4.8,4.2,6.9,3.9,6.0,4.4,6.3,5.0,5.2,2.9,4.9,3.9,5.5,4.9,5.6,4.3,5.4,4.9,3.0,5.3,5.8,3.0,5.0,3.5,4.6,5.3,4.0,5.1,5.3,5.3,5.3,4.4,4.7,4.2,6.1,2.6,5.9,4.2,6.3,4.4,9.9,9.8,4.8,9.3,5.9,7.2,4.7,5.0,4.2,7.3,6.7,2.9,4.8,3.7,6.0,4.9,2.8,6.8,3.3,3.9,4.0,4.9,4.8,3.0,3.1,3.8,4.4,5.9,4.4,5.1,4.6,5.2,5.2,4.5,4.6,3.9,5.1,5.1,3.1,2.6,5.1,4.4,2.5,2.7,3.5,4.4,4.9,5.2,6.2,4.1,3.4,2.7,4.9,6.1,5.8,3.4,5.6,5.5,5.1,4.5,5.0,5.1,4.4,4.3,6.6,4.0,4.3,4.3,5.3,4.3,4.9,4.2,3.6,4.9,4.4,4.4,4.9,4.4,6.1,4.5,5.6,3.6,4.5,5.1,7.2,4.7,3.6,4.4,4.4,3.6,6.1,6.1,6.1,5.9,6.4,5.7,5.2,5.7,8.8,7.9,5.9,4.5,5.7,3.6,4.4,3.6,3.6,3.9,3.4,4.6,3.6,5.1,4.6,4.8,6.7,7.0,4.6,3.6,4.9,5.0,5.0,6.0,4.9,4.9,4.9,4.8,4.8,4.8,4.9,4.4,6.2,6.2,6.2,5.3,4.1,5.0,4.4,4.7,6.3,10.3,5.2,4.9,4.9,4.4,9.7,6.9,5.9,5.2,5.9,4.4,5.4,5.4,4.4,4.7,5.2,5.8,5.7,4.1,5.2,4.0,3.3,4.5,4.5,4.5,3.6,3.0,4.5,4.7,4.7,4.8,4.4,3.5,4.9,4.4,3.6,7.3,3.5,3.6,4.7,4.7,4.8,4.1,6.5,5.9,5.3,5.0,9.1,4.9,7.2,4.1,4.6,4.0,4.0,4.2,4.2,4.9,5.6,5.8,5.5,4.0,6.3,1.2,5.7,4.4,4.4,4.6,5.7,6.1,6.5,6.12,5.3,4.7,5.3,5.1,6.3,5.1,5.1,5.1,3.5,8.4,3.0,6.4,5.7,5.7,2.9,4.6,3.0,5.2,4.8,3.9,4.0,4.0,6.7,5.3,3.1,6.7,2.4,5.3,5.1,5.8,6.0,2.4,6.0,5.3,5.9,5.6,4.5,4.3,5.6,5.7,5.6,5.4,4.2,9.7,3.7,5.2,5.1,4.6,4.4,5.4,4.6,3.4,6.3,6.8,6.2,5.3,3.9,6.0,5.2,3.9,6.0,4.3,3.9,6.2,6.6,4.2,3.2,3.9,3.9,5.8,3.2,5.4,4.2,4.4,5.9,3.1,5.5,6.8,7.0,7.7,5.7,7.7,6.1,6.3,5.0,5.5,7.3,3.8,9.2,4.1,4.3,3.8,3.7,8.1,5.7,5.7,5.7,8.0,8.0,6.6,6.7,4.8,6.9,5.5,5.1,6.1,4.9,5.0,5.0,5.8,3.6,3.6,6.5,4.6,6.3,5.0,5.6,5.2,5.7,4.6,5.2,6.6,4.2,5.8,3.4,4.8,3.8,2.3,5.4,5.4,5.9,4.1,3.6,5.4,5.0,3.3,2.8,5.6,5.6,5.6,4.8,4.0,3.6,4.1,3.3,4.3,4.0,6.4,3.6,4.9,5.0,5.9,3.5,6.7,5.0,5.3,6.8,2.5,6.1,4.1,5.3,4.8,3.6,6.4,7.7,5.4,5.0,5.6,5.6,5.0,3.0,3.8,6.5,5.2,6.5,5.4,5.3,3.8,4.6,5.2,5.5,7.2,2.1,6.8,3.8,5.5,6.2,3.9,9.8,3.8,3.4,6.9,4.0,4.2,5.7,4.3,5.4,5.4,5.9,6.5,6.3,2.5,6.0,7.9,7.3,4.1,4.1,3.9,5.8,3.4,3.9,7.1,6.7,3.7,3.5,3.5,6.6,3.5,4.0,7.3,3.5,6.2,7.4,5.5,3.1,5.6,5.6,5.7,4.6,6.2,3.4,5.5,6.7,5.5,6.8,3.8,5.4,8.6,5.5,4.5,5.2,5.0,6.1,7.4,4.6,7.5,4.1,6.4,4.3,5.1,5.9,5.2,4.2,4.9,5.3,5.7,5.3,5.3,5.4,5.0,4.5,4.9,7.5,4.1,4.1,5.3,3.8],\"xaxis\":\"x\",\"y\":[4.9,4.9,4.9,4.9,4.9,4.0,4.0,4.0,4.0,4.0,4.2,4.0,4.1,5.1,4.0,5.0,5.4,4.1,4.1,4.0,5.1,4.5,5.0,5.3,5.0,4.1,5.5,4.0,5.4,4.0,5.4,4.3,5.0,4.5,5.1,4.0,5.1,5.4,5.0,4.0,4.8,5.5,5.4,4.3,5.0,4.7,3.7,5.0,5.5,5.0,4.0,4.0,5.0,5.4,5.0,4.5,5.0,4.5,5.0,4.1,5.0,4.2,4.3,4.9,5.4,4.0,5.0,4.9,5.4,5.4,5.6,4.3,4.0,4.3,4.2,4.1,5.0,4.0,5.4,5.0,0.9,4.0,5.3,4.3,4.2,4.0,4.0,4.5,4.9,5.4,5.6,5.4,0.9,5.4,4.3,5.4,5.6,4.9,0.9,5.4,4.1,0.9,5.4,6.0,6.0,6.0,5.7,5.7,5.7,5.8,6.2,6.1,6.2,6.1,6.0,6.0,6.2,6.0,5.8,6.1,6.0,6.4,6.1,6.4,6.0,6.4,6.2,5.8,5.9,6.0,6.0,6.0,5.9,5.8,5.9,6.0,6.1,6.0,6.0,5.9,5.8,6.1,6.0,6.0,6.1,6.0,5.9,5.7,5.8,5.9,6.3,6.0,5.7,5.8,6.4,6.3,12.3,6.7,10.2,10.2,11.2,6.5,11.2,6.9,6.9,7.7,7.7,7.2,7.2,5.0,13.7,13.7,6.5,6.7,5.1,5.1,7.2,7.2,4.1,5.2,5.1,4.0,5.0,10.2,4.6,5.1,5.5,4.0,10.2,5.5,5.2,5.3,9.7,7.0,7.5,4.0,9.7,7.5,7.0,8.9,8.9,4.0,4.2,4.5,4.3,7.4,6.8,6.8,6.8,4.0,6.8,7.4,6.8,5.0,6.8,4.0,5.5,4.0,4.9,4.5,4.0,5.1,5.0,4.0,4.0,5.7,7.0,7.0,4.8,6.0,7.0,5.7,4.8,7.0,6.0,6.7,10.4,6.7,7.8,10.4,10.4,7.0,10.2,7.0,10.4,10.2,7.8,6.8,6.8,6.0,9.9,7.3,9.9,8.1,8.0,6.0,6.9,9.0,7.3,9.0,6.9,8.1,8.0,6.5,5.9,5.9,7.3,11.8,5.9,7.3,6.5,11.8,5.9,9.1,10.7,7.6,6.2,10.3,6.0,7.6,6.0,7.6,6.9,9.1,10.3,6.9,6.9,6.2,7.6,7.9,8.5,8.5,5.8,5.8,12.1,9.8,6.8,9.7,6.8,9.7,9.8,9.2,10.1,8.7,9.3,7.2,7.0,7.2,7.0,8.8,8.7,9.3,9.3,9.0,8.0,11.0,8.8,9.3,8.0,11.0,9.0,10.5,6.4,9.6,7.2,6.1,7.7,7.8,6.4,10.6,7.0,9.6,7.2,6.1,7.8,10.6,7.7,7.9,7.0,11.5,6.5,5.7,5.5,7.1,6.5,5.5,6.5,5.7,6.7,7.1,6.5,6.5,9.5,6.5,6.7,9.5,9.1,10.2,6.4,6.4,10.2,10.2,6.2,6.2,10.2,11.0,9.0,10.7,11.0,6.2,7.0,7.0,10.7,9.0,6.2,7.0,7.0,11.0,7.6,10.9,6.8,7.9,7.2,8.0,7.2,7.2,11.0,7.9,7.7,4.8,8.0,7.6,7.6,6.8,6.8,7.6,7.2,6.8,4.8,7.7,10.9,6.8,7.0,7.0,10.9,6.8,8.2,8.2,7.4,7.4,9.1,4.3,8.5,9.1,4.3,8.5,9.1,8.0,9.1,8.0,6.5,8.2,11.4,9.9,8.2,7.6,9.5,8.0,9.3,7.3,8.7,9.0,7.9,9.0,11.0,8.1,11.7,8.2,12.0,7.5,9.7,11.0,8.0,8.2,10.1,9.4,7.9,9.0,11.0,9.4,10.3,7.3,9.0,6.8,9.0,8.3,7.3,8.0,8.9,8.0,9.3,8.9,8.0,8.5,7.3,7.7,7.7,11.0,7.7,8.9,7.6,7.7,6.9,8.0,7.9,8.6,8.0,7.3,9.0,9.0,6.8,8.9,9.7,6.4,7.8,11.3,10.2,8.1,9.3,10.2,8.6,10.1,6.8,10.0,11.7,9.0,10.0,10.7,8.0,5.8,7.9,7.7,10.5,7.2,7.7,8.7,8.8,10.0,8.9,9.0,8.0,9.9,8.9,7.9,8.1,10.2,6.3,9.5,7.4,8.3,8.0,7.7,13.1,10.4,11.3,8.3,10.9,10.2,7.2,6.5,9.7,10.8,7.5,8.0,6.0,8.8,9.4,8.0,7.8,6.6,8.3,7.6,10.8,7.2,7.8,8.9,8.0,11.8,9.3,7.4,10.6,12.0,12.8,6.7,2.0,6.3,7.5,6.7,9.8,11.8,11.8,9.0,14.7,11.8,11.9,6.7,7.1,7.3,7.4,7.9,8.1,8.6,9.2,7.7,7.1,10.9,9.8,9.0,7.7,9.1,8.1,7.5,9.0,8.0,9.0,13.1,8.3,8.0,9.4,7.0,6.3,8.8,7.0,8.5,7.1,7.5,7.8,11.2,11.5,10.5,13.1,3.7,9.0,9.3,12.0,8.8,7.3,10.9,12.4,12.2,13.7,11.2,7.1,3.7,11.9,11.9,8.7,9.2,9.0,5.7,9.0,12.9,12.6,9.5,8.9,8.7,12.1,9.9,9.5,9.7,9.0,10.8,10.9,12.1,12.8,10.9,6.7,10.6,9.4,10.9,10.9,7.6,12.4,12.4,11.7,10.0,10.0,8.5,10.8,10.8,10.8,8.0,10.7,9.0,9.0,10.6,10.7,10.2,8.7,8.5,11.6,8.4,10.2,11.5,10.0,10.9,8.1,11.6,13.0,5.5,10.6,7.5,12.1,9.7,9.7,9.3,10.2,7.4,10.2,12.5,10.7,6.3,8.1,7.3,8.8,12.7,10.0,12.2,7.1,9.0,8.0,10.4,12.2,13.7,11.0,11.5,7.5,10.1,10.8,9.0,7.1,11.1,10.4,10.9,7.7,13.6,11.5,9.7,13.8,11.6,6.4,10.6,11.5,9.0,12.3,12.3,6.9,6.9,10.0,8.0,9.3,8.0,14.6,13.0,3.0,9.6,9.1,7.5,10.5,3.7,12.3,9.2,6.8,9.3,7.4,9.3,9.9,10.1,9.9,9.9,9.9,13.7,9.7,9.6,9.4,9.2,8.0,9.0,7.6,10.5,9.8,12.8,11.8,11.9,11.9,11.8,11.3,12.3,11.8,11.2,14.5,11.2,8.5,13.9,11.2,12.3,14.5,10.1,10.5,8.8,12.4,10.5,10.5,10.5,11.9,10.7,10.3,10.8,9.9,10.1,12.3,13.1,10.0,10.5,10.8,11.6,13.7,13.7,12.3,10.2,11.2,8.9,10.2,11.2,10.5,10.2,12.3,13.6,11.2,9.7,13.2,13.2,9.8,12.5,10.6,15.9,10.0,11.0,14.8,9.2,14.4,11.7,15.0,10.5,15.0,14.6,12.2,10.3,10.2,10.3,7.8,13.2,14.1,10.2,11.0,9.4,11.6,8.3,12.2,12.2,8.2,8.2,10.6,11.0,11.2,12.2,12.4,10.9,10.0,13.2,12.0,12.0,14.7,10.7,10.7,9.1,9.0,7.2,8.0,8.5,9.9,6.9,9.0,7.0,9.1,9.7,8.8,8.9,7.9,9.4,9.0,9.1,7.0,7.3,9.6,6.9,8.8,9.7,7.6,7.2,8.5,7.2,9.7,6.7,7.4,7.0,6.5,7.0,10.0,6.9,6.5,6.8,10.4,8.0,6.8,8.0,6.9,12.0,10.3,8.9,8.0,7.7,7.1,7.0,7.0,10.7,10.3,16.0,13.3,11.7,8.5,13.8,10.7,10.6,9.4,9.1,6.5,7.2,10.8,11.3,10.4,9.2,11.0,6.5,8.5,6.8,9.4,8.1,7.9,8.6,11.8,11.3,7.0,6.8,6.5,7.8,6.8,11.1,6.5,9.2,13.9,8.5,7.2,13.0,8.0,10.4,12.6,9.8,9.96,10.2,9.2,8.8,10.3,9.1,12.4,6.8,11.8,7.6,14.7,9.1,13.7,7.0,6.9,8.8,7.8,8.1,6.5,8.1,8.5,7.2,7.3,7.1,7.3,7.0,8.6,6.8,6.8,8.1,8.2,6.7,8.1,7.7,8.5,8.0,8.1,11.3,8.2,7.6,7.0,9.6,9.4,7.0,6.8,8.5,8.1,8.6,7.9,6.8,11.1,6.7,9.3,13.9,8.5,8.5,7.7,7.0,12.3,6.7,6.7,6.9],\"yaxis\":\"y\",\"type\":\"scatter\"}],                        {\"template\":{\"data\":{\"pie\":[{\"automargin\":true,\"type\":\"pie\"}],\"scatter3d\":[{\"line\":{\"width\":3},\"marker\":{\"size\":9},\"type\":\"scatter3d\"}],\"scattergeo\":[{\"line\":{\"width\":3},\"marker\":{\"size\":9},\"type\":\"scattergeo\"}],\"scattergl\":[{\"line\":{\"width\":3},\"marker\":{\"size\":9},\"type\":\"scattergl\"}],\"scatterpolargl\":[{\"line\":{\"width\":3},\"marker\":{\"size\":9},\"type\":\"scatterpolargl\"}],\"scatterpolar\":[{\"line\":{\"width\":3},\"marker\":{\"size\":9},\"type\":\"scatterpolar\"}],\"scatter\":[{\"line\":{\"width\":3},\"marker\":{\"size\":9},\"type\":\"scatter\"}],\"scatterternary\":[{\"line\":{\"width\":3},\"marker\":{\"size\":9},\"type\":\"scatterternary\"}],\"table\":[{\"cells\":{\"height\":30},\"header\":{\"height\":36},\"type\":\"table\"}]},\"layout\":{\"font\":{\"size\":18},\"xaxis\":{\"title\":{\"standoff\":15}},\"yaxis\":{\"title\":{\"standoff\":15}}}},\"xaxis\":{\"anchor\":\"y\",\"domain\":[0.0,1.0],\"title\":{\"text\":\"Chol\"},\"type\":\"log\"},\"yaxis\":{\"anchor\":\"x\",\"domain\":[0.0,1.0],\"title\":{\"text\":\"HbA1c\"}},\"coloraxis\":{\"colorbar\":{\"title\":{\"text\":\"Gender\"}},\"colorscale\":[[0.0,\"#440154\"],[0.1111111111111111,\"#482878\"],[0.2222222222222222,\"#3e4989\"],[0.3333333333333333,\"#31688e\"],[0.4444444444444444,\"#26828e\"],[0.5555555555555556,\"#1f9e89\"],[0.6666666666666666,\"#35b779\"],[0.7777777777777778,\"#6ece58\"],[0.8888888888888888,\"#b5de2b\"],[1.0,\"#fde725\"]]},\"legend\":{\"tracegroupgap\":0,\"itemsizing\":\"constant\"},\"title\":{\"text\":\"HbA1c Per BMI & LDL \"}},                        {\"responsive\": true}                    ).then(function(){\n",
       "                            \n",
       "var gd = document.getElementById('64669035-9380-459e-83e0-62a6605acf86');\n",
       "var x = new MutationObserver(function (mutations, observer) {{\n",
       "        var display = window.getComputedStyle(gd).display;\n",
       "        if (!display || display === 'none') {{\n",
       "            console.log([gd, 'removed!']);\n",
       "            Plotly.purge(gd);\n",
       "            observer.disconnect();\n",
       "        }}\n",
       "}});\n",
       "\n",
       "// Listen for the removal of the full notebook cells\n",
       "var notebookContainer = gd.closest('#notebook-container');\n",
       "if (notebookContainer) {{\n",
       "    x.observe(notebookContainer, {childList: true});\n",
       "}}\n",
       "\n",
       "// Listen for the clearing of the current output cell\n",
       "var outputEl = gd.closest('.output');\n",
       "if (outputEl) {{\n",
       "    x.observe(outputEl, {childList: true});\n",
       "}}\n",
       "\n",
       "                        })                };                });            </script>        </div>"
      ]
     },
     "metadata": {},
     "output_type": "display_data"
    }
   ],
   "source": [
    "%matplotlib inline\n",
    "\n",
    "for template in [\"presentation\"]:\n",
    "    fig = px.scatter(df,\n",
    "                     x=\"Chol\", y=\"HbA1c\", size=\"BMI\", color=\"Gender\",\n",
    "                     log_x=True, size_max=60,\n",
    "                     template=template, title=\"HbA1c Per BMI & LDL \")\n",
    "    fig.show()"
   ]
  },
  {
   "cell_type": "code",
   "execution_count": 52,
   "id": "e3558490",
   "metadata": {},
   "outputs": [
    {
     "data": {
      "application/vnd.plotly.v1+json": {
       "config": {
        "plotlyServerURL": "https://plot.ly"
       },
       "data": [
        {
         "marker": {
          "color": "blue"
         },
         "name": "Negative",
         "type": "bar",
         "x": [
          0,
          1,
          null
         ],
         "y": [
          64,
          38
         ]
        },
        {
         "marker": {
          "color": "green"
         },
         "name": "Pred_Positive",
         "type": "bar",
         "x": [
          0,
          1,
          null
         ],
         "y": [
          36,
          17
         ]
        },
        {
         "marker": {
          "color": "orange"
         },
         "name": "Positive",
         "type": "bar",
         "x": [
          0,
          1,
          null
         ],
         "y": [
          486,
          353
         ]
        }
       ],
       "layout": {
        "template": {
         "data": {
          "bar": [
           {
            "error_x": {
             "color": "#2a3f5f"
            },
            "error_y": {
             "color": "#2a3f5f"
            },
            "marker": {
             "line": {
              "color": "#E5ECF6",
              "width": 0.5
             },
             "pattern": {
              "fillmode": "overlay",
              "size": 10,
              "solidity": 0.2
             }
            },
            "type": "bar"
           }
          ],
          "barpolar": [
           {
            "marker": {
             "line": {
              "color": "#E5ECF6",
              "width": 0.5
             },
             "pattern": {
              "fillmode": "overlay",
              "size": 10,
              "solidity": 0.2
             }
            },
            "type": "barpolar"
           }
          ],
          "carpet": [
           {
            "aaxis": {
             "endlinecolor": "#2a3f5f",
             "gridcolor": "white",
             "linecolor": "white",
             "minorgridcolor": "white",
             "startlinecolor": "#2a3f5f"
            },
            "baxis": {
             "endlinecolor": "#2a3f5f",
             "gridcolor": "white",
             "linecolor": "white",
             "minorgridcolor": "white",
             "startlinecolor": "#2a3f5f"
            },
            "type": "carpet"
           }
          ],
          "choropleth": [
           {
            "colorbar": {
             "outlinewidth": 0,
             "ticks": ""
            },
            "type": "choropleth"
           }
          ],
          "contour": [
           {
            "colorbar": {
             "outlinewidth": 0,
             "ticks": ""
            },
            "colorscale": [
             [
              0,
              "#0d0887"
             ],
             [
              0.1111111111111111,
              "#46039f"
             ],
             [
              0.2222222222222222,
              "#7201a8"
             ],
             [
              0.3333333333333333,
              "#9c179e"
             ],
             [
              0.4444444444444444,
              "#bd3786"
             ],
             [
              0.5555555555555556,
              "#d8576b"
             ],
             [
              0.6666666666666666,
              "#ed7953"
             ],
             [
              0.7777777777777778,
              "#fb9f3a"
             ],
             [
              0.8888888888888888,
              "#fdca26"
             ],
             [
              1,
              "#f0f921"
             ]
            ],
            "type": "contour"
           }
          ],
          "contourcarpet": [
           {
            "colorbar": {
             "outlinewidth": 0,
             "ticks": ""
            },
            "type": "contourcarpet"
           }
          ],
          "heatmap": [
           {
            "colorbar": {
             "outlinewidth": 0,
             "ticks": ""
            },
            "colorscale": [
             [
              0,
              "#0d0887"
             ],
             [
              0.1111111111111111,
              "#46039f"
             ],
             [
              0.2222222222222222,
              "#7201a8"
             ],
             [
              0.3333333333333333,
              "#9c179e"
             ],
             [
              0.4444444444444444,
              "#bd3786"
             ],
             [
              0.5555555555555556,
              "#d8576b"
             ],
             [
              0.6666666666666666,
              "#ed7953"
             ],
             [
              0.7777777777777778,
              "#fb9f3a"
             ],
             [
              0.8888888888888888,
              "#fdca26"
             ],
             [
              1,
              "#f0f921"
             ]
            ],
            "type": "heatmap"
           }
          ],
          "heatmapgl": [
           {
            "colorbar": {
             "outlinewidth": 0,
             "ticks": ""
            },
            "colorscale": [
             [
              0,
              "#0d0887"
             ],
             [
              0.1111111111111111,
              "#46039f"
             ],
             [
              0.2222222222222222,
              "#7201a8"
             ],
             [
              0.3333333333333333,
              "#9c179e"
             ],
             [
              0.4444444444444444,
              "#bd3786"
             ],
             [
              0.5555555555555556,
              "#d8576b"
             ],
             [
              0.6666666666666666,
              "#ed7953"
             ],
             [
              0.7777777777777778,
              "#fb9f3a"
             ],
             [
              0.8888888888888888,
              "#fdca26"
             ],
             [
              1,
              "#f0f921"
             ]
            ],
            "type": "heatmapgl"
           }
          ],
          "histogram": [
           {
            "marker": {
             "pattern": {
              "fillmode": "overlay",
              "size": 10,
              "solidity": 0.2
             }
            },
            "type": "histogram"
           }
          ],
          "histogram2d": [
           {
            "colorbar": {
             "outlinewidth": 0,
             "ticks": ""
            },
            "colorscale": [
             [
              0,
              "#0d0887"
             ],
             [
              0.1111111111111111,
              "#46039f"
             ],
             [
              0.2222222222222222,
              "#7201a8"
             ],
             [
              0.3333333333333333,
              "#9c179e"
             ],
             [
              0.4444444444444444,
              "#bd3786"
             ],
             [
              0.5555555555555556,
              "#d8576b"
             ],
             [
              0.6666666666666666,
              "#ed7953"
             ],
             [
              0.7777777777777778,
              "#fb9f3a"
             ],
             [
              0.8888888888888888,
              "#fdca26"
             ],
             [
              1,
              "#f0f921"
             ]
            ],
            "type": "histogram2d"
           }
          ],
          "histogram2dcontour": [
           {
            "colorbar": {
             "outlinewidth": 0,
             "ticks": ""
            },
            "colorscale": [
             [
              0,
              "#0d0887"
             ],
             [
              0.1111111111111111,
              "#46039f"
             ],
             [
              0.2222222222222222,
              "#7201a8"
             ],
             [
              0.3333333333333333,
              "#9c179e"
             ],
             [
              0.4444444444444444,
              "#bd3786"
             ],
             [
              0.5555555555555556,
              "#d8576b"
             ],
             [
              0.6666666666666666,
              "#ed7953"
             ],
             [
              0.7777777777777778,
              "#fb9f3a"
             ],
             [
              0.8888888888888888,
              "#fdca26"
             ],
             [
              1,
              "#f0f921"
             ]
            ],
            "type": "histogram2dcontour"
           }
          ],
          "mesh3d": [
           {
            "colorbar": {
             "outlinewidth": 0,
             "ticks": ""
            },
            "type": "mesh3d"
           }
          ],
          "parcoords": [
           {
            "line": {
             "colorbar": {
              "outlinewidth": 0,
              "ticks": ""
             }
            },
            "type": "parcoords"
           }
          ],
          "pie": [
           {
            "automargin": true,
            "type": "pie"
           }
          ],
          "scatter": [
           {
            "fillpattern": {
             "fillmode": "overlay",
             "size": 10,
             "solidity": 0.2
            },
            "type": "scatter"
           }
          ],
          "scatter3d": [
           {
            "line": {
             "colorbar": {
              "outlinewidth": 0,
              "ticks": ""
             }
            },
            "marker": {
             "colorbar": {
              "outlinewidth": 0,
              "ticks": ""
             }
            },
            "type": "scatter3d"
           }
          ],
          "scattercarpet": [
           {
            "marker": {
             "colorbar": {
              "outlinewidth": 0,
              "ticks": ""
             }
            },
            "type": "scattercarpet"
           }
          ],
          "scattergeo": [
           {
            "marker": {
             "colorbar": {
              "outlinewidth": 0,
              "ticks": ""
             }
            },
            "type": "scattergeo"
           }
          ],
          "scattergl": [
           {
            "marker": {
             "colorbar": {
              "outlinewidth": 0,
              "ticks": ""
             }
            },
            "type": "scattergl"
           }
          ],
          "scattermapbox": [
           {
            "marker": {
             "colorbar": {
              "outlinewidth": 0,
              "ticks": ""
             }
            },
            "type": "scattermapbox"
           }
          ],
          "scatterpolar": [
           {
            "marker": {
             "colorbar": {
              "outlinewidth": 0,
              "ticks": ""
             }
            },
            "type": "scatterpolar"
           }
          ],
          "scatterpolargl": [
           {
            "marker": {
             "colorbar": {
              "outlinewidth": 0,
              "ticks": ""
             }
            },
            "type": "scatterpolargl"
           }
          ],
          "scatterternary": [
           {
            "marker": {
             "colorbar": {
              "outlinewidth": 0,
              "ticks": ""
             }
            },
            "type": "scatterternary"
           }
          ],
          "surface": [
           {
            "colorbar": {
             "outlinewidth": 0,
             "ticks": ""
            },
            "colorscale": [
             [
              0,
              "#0d0887"
             ],
             [
              0.1111111111111111,
              "#46039f"
             ],
             [
              0.2222222222222222,
              "#7201a8"
             ],
             [
              0.3333333333333333,
              "#9c179e"
             ],
             [
              0.4444444444444444,
              "#bd3786"
             ],
             [
              0.5555555555555556,
              "#d8576b"
             ],
             [
              0.6666666666666666,
              "#ed7953"
             ],
             [
              0.7777777777777778,
              "#fb9f3a"
             ],
             [
              0.8888888888888888,
              "#fdca26"
             ],
             [
              1,
              "#f0f921"
             ]
            ],
            "type": "surface"
           }
          ],
          "table": [
           {
            "cells": {
             "fill": {
              "color": "#EBF0F8"
             },
             "line": {
              "color": "white"
             }
            },
            "header": {
             "fill": {
              "color": "#C8D4E3"
             },
             "line": {
              "color": "white"
             }
            },
            "type": "table"
           }
          ]
         },
         "layout": {
          "annotationdefaults": {
           "arrowcolor": "#2a3f5f",
           "arrowhead": 0,
           "arrowwidth": 1
          },
          "autotypenumbers": "strict",
          "coloraxis": {
           "colorbar": {
            "outlinewidth": 0,
            "ticks": ""
           }
          },
          "colorscale": {
           "diverging": [
            [
             0,
             "#8e0152"
            ],
            [
             0.1,
             "#c51b7d"
            ],
            [
             0.2,
             "#de77ae"
            ],
            [
             0.3,
             "#f1b6da"
            ],
            [
             0.4,
             "#fde0ef"
            ],
            [
             0.5,
             "#f7f7f7"
            ],
            [
             0.6,
             "#e6f5d0"
            ],
            [
             0.7,
             "#b8e186"
            ],
            [
             0.8,
             "#7fbc41"
            ],
            [
             0.9,
             "#4d9221"
            ],
            [
             1,
             "#276419"
            ]
           ],
           "sequential": [
            [
             0,
             "#0d0887"
            ],
            [
             0.1111111111111111,
             "#46039f"
            ],
            [
             0.2222222222222222,
             "#7201a8"
            ],
            [
             0.3333333333333333,
             "#9c179e"
            ],
            [
             0.4444444444444444,
             "#bd3786"
            ],
            [
             0.5555555555555556,
             "#d8576b"
            ],
            [
             0.6666666666666666,
             "#ed7953"
            ],
            [
             0.7777777777777778,
             "#fb9f3a"
            ],
            [
             0.8888888888888888,
             "#fdca26"
            ],
            [
             1,
             "#f0f921"
            ]
           ],
           "sequentialminus": [
            [
             0,
             "#0d0887"
            ],
            [
             0.1111111111111111,
             "#46039f"
            ],
            [
             0.2222222222222222,
             "#7201a8"
            ],
            [
             0.3333333333333333,
             "#9c179e"
            ],
            [
             0.4444444444444444,
             "#bd3786"
            ],
            [
             0.5555555555555556,
             "#d8576b"
            ],
            [
             0.6666666666666666,
             "#ed7953"
            ],
            [
             0.7777777777777778,
             "#fb9f3a"
            ],
            [
             0.8888888888888888,
             "#fdca26"
            ],
            [
             1,
             "#f0f921"
            ]
           ]
          },
          "colorway": [
           "#636efa",
           "#EF553B",
           "#00cc96",
           "#ab63fa",
           "#FFA15A",
           "#19d3f3",
           "#FF6692",
           "#B6E880",
           "#FF97FF",
           "#FECB52"
          ],
          "font": {
           "color": "#2a3f5f"
          },
          "geo": {
           "bgcolor": "white",
           "lakecolor": "white",
           "landcolor": "#E5ECF6",
           "showlakes": true,
           "showland": true,
           "subunitcolor": "white"
          },
          "hoverlabel": {
           "align": "left"
          },
          "hovermode": "closest",
          "mapbox": {
           "style": "light"
          },
          "paper_bgcolor": "white",
          "plot_bgcolor": "#E5ECF6",
          "polar": {
           "angularaxis": {
            "gridcolor": "white",
            "linecolor": "white",
            "ticks": ""
           },
           "bgcolor": "#E5ECF6",
           "radialaxis": {
            "gridcolor": "white",
            "linecolor": "white",
            "ticks": ""
           }
          },
          "scene": {
           "xaxis": {
            "backgroundcolor": "#E5ECF6",
            "gridcolor": "white",
            "gridwidth": 2,
            "linecolor": "white",
            "showbackground": true,
            "ticks": "",
            "zerolinecolor": "white"
           },
           "yaxis": {
            "backgroundcolor": "#E5ECF6",
            "gridcolor": "white",
            "gridwidth": 2,
            "linecolor": "white",
            "showbackground": true,
            "ticks": "",
            "zerolinecolor": "white"
           },
           "zaxis": {
            "backgroundcolor": "#E5ECF6",
            "gridcolor": "white",
            "gridwidth": 2,
            "linecolor": "white",
            "showbackground": true,
            "ticks": "",
            "zerolinecolor": "white"
           }
          },
          "shapedefaults": {
           "line": {
            "color": "#2a3f5f"
           }
          },
          "ternary": {
           "aaxis": {
            "gridcolor": "white",
            "linecolor": "white",
            "ticks": ""
           },
           "baxis": {
            "gridcolor": "white",
            "linecolor": "white",
            "ticks": ""
           },
           "bgcolor": "#E5ECF6",
           "caxis": {
            "gridcolor": "white",
            "linecolor": "white",
            "ticks": ""
           }
          },
          "title": {
           "x": 0.05
          },
          "xaxis": {
           "automargin": true,
           "gridcolor": "white",
           "linecolor": "white",
           "ticks": "",
           "title": {
            "standoff": 15
           },
           "zerolinecolor": "white",
           "zerolinewidth": 2
          },
          "yaxis": {
           "automargin": true,
           "gridcolor": "white",
           "linecolor": "white",
           "ticks": "",
           "title": {
            "standoff": 15
           },
           "zerolinecolor": "white",
           "zerolinewidth": 2
          }
         }
        },
        "title": {
         "text": "Classification Per Gender"
        },
        "xaxis": {
         "title": {
          "text": "GENDER"
         }
        },
        "yaxis": {
         "title": {
          "text": "NUMBER OF PREDICTIONS"
         }
        }
       }
      },
      "text/html": [
       "<div>                            <div id=\"b66fc240-4dd5-45f4-9e34-2f709c6c79e4\" class=\"plotly-graph-div\" style=\"height:525px; width:100%;\"></div>            <script type=\"text/javascript\">                require([\"plotly\"], function(Plotly) {                    window.PLOTLYENV=window.PLOTLYENV || {};                                    if (document.getElementById(\"b66fc240-4dd5-45f4-9e34-2f709c6c79e4\")) {                    Plotly.newPlot(                        \"b66fc240-4dd5-45f4-9e34-2f709c6c79e4\",                        [{\"marker\":{\"color\":\"blue\"},\"name\":\"Negative\",\"x\":[0.0,1.0,null],\"y\":[64,38],\"type\":\"bar\"},{\"marker\":{\"color\":\"green\"},\"name\":\"Pred_Positive\",\"x\":[0.0,1.0,null],\"y\":[36,17],\"type\":\"bar\"},{\"marker\":{\"color\":\"orange\"},\"name\":\"Positive\",\"x\":[0.0,1.0,null],\"y\":[486,353],\"type\":\"bar\"}],                        {\"template\":{\"data\":{\"histogram2dcontour\":[{\"type\":\"histogram2dcontour\",\"colorbar\":{\"outlinewidth\":0,\"ticks\":\"\"},\"colorscale\":[[0.0,\"#0d0887\"],[0.1111111111111111,\"#46039f\"],[0.2222222222222222,\"#7201a8\"],[0.3333333333333333,\"#9c179e\"],[0.4444444444444444,\"#bd3786\"],[0.5555555555555556,\"#d8576b\"],[0.6666666666666666,\"#ed7953\"],[0.7777777777777778,\"#fb9f3a\"],[0.8888888888888888,\"#fdca26\"],[1.0,\"#f0f921\"]]}],\"choropleth\":[{\"type\":\"choropleth\",\"colorbar\":{\"outlinewidth\":0,\"ticks\":\"\"}}],\"histogram2d\":[{\"type\":\"histogram2d\",\"colorbar\":{\"outlinewidth\":0,\"ticks\":\"\"},\"colorscale\":[[0.0,\"#0d0887\"],[0.1111111111111111,\"#46039f\"],[0.2222222222222222,\"#7201a8\"],[0.3333333333333333,\"#9c179e\"],[0.4444444444444444,\"#bd3786\"],[0.5555555555555556,\"#d8576b\"],[0.6666666666666666,\"#ed7953\"],[0.7777777777777778,\"#fb9f3a\"],[0.8888888888888888,\"#fdca26\"],[1.0,\"#f0f921\"]]}],\"heatmap\":[{\"type\":\"heatmap\",\"colorbar\":{\"outlinewidth\":0,\"ticks\":\"\"},\"colorscale\":[[0.0,\"#0d0887\"],[0.1111111111111111,\"#46039f\"],[0.2222222222222222,\"#7201a8\"],[0.3333333333333333,\"#9c179e\"],[0.4444444444444444,\"#bd3786\"],[0.5555555555555556,\"#d8576b\"],[0.6666666666666666,\"#ed7953\"],[0.7777777777777778,\"#fb9f3a\"],[0.8888888888888888,\"#fdca26\"],[1.0,\"#f0f921\"]]}],\"heatmapgl\":[{\"type\":\"heatmapgl\",\"colorbar\":{\"outlinewidth\":0,\"ticks\":\"\"},\"colorscale\":[[0.0,\"#0d0887\"],[0.1111111111111111,\"#46039f\"],[0.2222222222222222,\"#7201a8\"],[0.3333333333333333,\"#9c179e\"],[0.4444444444444444,\"#bd3786\"],[0.5555555555555556,\"#d8576b\"],[0.6666666666666666,\"#ed7953\"],[0.7777777777777778,\"#fb9f3a\"],[0.8888888888888888,\"#fdca26\"],[1.0,\"#f0f921\"]]}],\"contourcarpet\":[{\"type\":\"contourcarpet\",\"colorbar\":{\"outlinewidth\":0,\"ticks\":\"\"}}],\"contour\":[{\"type\":\"contour\",\"colorbar\":{\"outlinewidth\":0,\"ticks\":\"\"},\"colorscale\":[[0.0,\"#0d0887\"],[0.1111111111111111,\"#46039f\"],[0.2222222222222222,\"#7201a8\"],[0.3333333333333333,\"#9c179e\"],[0.4444444444444444,\"#bd3786\"],[0.5555555555555556,\"#d8576b\"],[0.6666666666666666,\"#ed7953\"],[0.7777777777777778,\"#fb9f3a\"],[0.8888888888888888,\"#fdca26\"],[1.0,\"#f0f921\"]]}],\"surface\":[{\"type\":\"surface\",\"colorbar\":{\"outlinewidth\":0,\"ticks\":\"\"},\"colorscale\":[[0.0,\"#0d0887\"],[0.1111111111111111,\"#46039f\"],[0.2222222222222222,\"#7201a8\"],[0.3333333333333333,\"#9c179e\"],[0.4444444444444444,\"#bd3786\"],[0.5555555555555556,\"#d8576b\"],[0.6666666666666666,\"#ed7953\"],[0.7777777777777778,\"#fb9f3a\"],[0.8888888888888888,\"#fdca26\"],[1.0,\"#f0f921\"]]}],\"mesh3d\":[{\"type\":\"mesh3d\",\"colorbar\":{\"outlinewidth\":0,\"ticks\":\"\"}}],\"scatter\":[{\"fillpattern\":{\"fillmode\":\"overlay\",\"size\":10,\"solidity\":0.2},\"type\":\"scatter\"}],\"parcoords\":[{\"type\":\"parcoords\",\"line\":{\"colorbar\":{\"outlinewidth\":0,\"ticks\":\"\"}}}],\"scatterpolargl\":[{\"type\":\"scatterpolargl\",\"marker\":{\"colorbar\":{\"outlinewidth\":0,\"ticks\":\"\"}}}],\"bar\":[{\"error_x\":{\"color\":\"#2a3f5f\"},\"error_y\":{\"color\":\"#2a3f5f\"},\"marker\":{\"line\":{\"color\":\"#E5ECF6\",\"width\":0.5},\"pattern\":{\"fillmode\":\"overlay\",\"size\":10,\"solidity\":0.2}},\"type\":\"bar\"}],\"scattergeo\":[{\"type\":\"scattergeo\",\"marker\":{\"colorbar\":{\"outlinewidth\":0,\"ticks\":\"\"}}}],\"scatterpolar\":[{\"type\":\"scatterpolar\",\"marker\":{\"colorbar\":{\"outlinewidth\":0,\"ticks\":\"\"}}}],\"histogram\":[{\"marker\":{\"pattern\":{\"fillmode\":\"overlay\",\"size\":10,\"solidity\":0.2}},\"type\":\"histogram\"}],\"scattergl\":[{\"type\":\"scattergl\",\"marker\":{\"colorbar\":{\"outlinewidth\":0,\"ticks\":\"\"}}}],\"scatter3d\":[{\"type\":\"scatter3d\",\"line\":{\"colorbar\":{\"outlinewidth\":0,\"ticks\":\"\"}},\"marker\":{\"colorbar\":{\"outlinewidth\":0,\"ticks\":\"\"}}}],\"scattermapbox\":[{\"type\":\"scattermapbox\",\"marker\":{\"colorbar\":{\"outlinewidth\":0,\"ticks\":\"\"}}}],\"scatterternary\":[{\"type\":\"scatterternary\",\"marker\":{\"colorbar\":{\"outlinewidth\":0,\"ticks\":\"\"}}}],\"scattercarpet\":[{\"type\":\"scattercarpet\",\"marker\":{\"colorbar\":{\"outlinewidth\":0,\"ticks\":\"\"}}}],\"carpet\":[{\"aaxis\":{\"endlinecolor\":\"#2a3f5f\",\"gridcolor\":\"white\",\"linecolor\":\"white\",\"minorgridcolor\":\"white\",\"startlinecolor\":\"#2a3f5f\"},\"baxis\":{\"endlinecolor\":\"#2a3f5f\",\"gridcolor\":\"white\",\"linecolor\":\"white\",\"minorgridcolor\":\"white\",\"startlinecolor\":\"#2a3f5f\"},\"type\":\"carpet\"}],\"table\":[{\"cells\":{\"fill\":{\"color\":\"#EBF0F8\"},\"line\":{\"color\":\"white\"}},\"header\":{\"fill\":{\"color\":\"#C8D4E3\"},\"line\":{\"color\":\"white\"}},\"type\":\"table\"}],\"barpolar\":[{\"marker\":{\"line\":{\"color\":\"#E5ECF6\",\"width\":0.5},\"pattern\":{\"fillmode\":\"overlay\",\"size\":10,\"solidity\":0.2}},\"type\":\"barpolar\"}],\"pie\":[{\"automargin\":true,\"type\":\"pie\"}]},\"layout\":{\"autotypenumbers\":\"strict\",\"colorway\":[\"#636efa\",\"#EF553B\",\"#00cc96\",\"#ab63fa\",\"#FFA15A\",\"#19d3f3\",\"#FF6692\",\"#B6E880\",\"#FF97FF\",\"#FECB52\"],\"font\":{\"color\":\"#2a3f5f\"},\"hovermode\":\"closest\",\"hoverlabel\":{\"align\":\"left\"},\"paper_bgcolor\":\"white\",\"plot_bgcolor\":\"#E5ECF6\",\"polar\":{\"bgcolor\":\"#E5ECF6\",\"angularaxis\":{\"gridcolor\":\"white\",\"linecolor\":\"white\",\"ticks\":\"\"},\"radialaxis\":{\"gridcolor\":\"white\",\"linecolor\":\"white\",\"ticks\":\"\"}},\"ternary\":{\"bgcolor\":\"#E5ECF6\",\"aaxis\":{\"gridcolor\":\"white\",\"linecolor\":\"white\",\"ticks\":\"\"},\"baxis\":{\"gridcolor\":\"white\",\"linecolor\":\"white\",\"ticks\":\"\"},\"caxis\":{\"gridcolor\":\"white\",\"linecolor\":\"white\",\"ticks\":\"\"}},\"coloraxis\":{\"colorbar\":{\"outlinewidth\":0,\"ticks\":\"\"}},\"colorscale\":{\"sequential\":[[0.0,\"#0d0887\"],[0.1111111111111111,\"#46039f\"],[0.2222222222222222,\"#7201a8\"],[0.3333333333333333,\"#9c179e\"],[0.4444444444444444,\"#bd3786\"],[0.5555555555555556,\"#d8576b\"],[0.6666666666666666,\"#ed7953\"],[0.7777777777777778,\"#fb9f3a\"],[0.8888888888888888,\"#fdca26\"],[1.0,\"#f0f921\"]],\"sequentialminus\":[[0.0,\"#0d0887\"],[0.1111111111111111,\"#46039f\"],[0.2222222222222222,\"#7201a8\"],[0.3333333333333333,\"#9c179e\"],[0.4444444444444444,\"#bd3786\"],[0.5555555555555556,\"#d8576b\"],[0.6666666666666666,\"#ed7953\"],[0.7777777777777778,\"#fb9f3a\"],[0.8888888888888888,\"#fdca26\"],[1.0,\"#f0f921\"]],\"diverging\":[[0,\"#8e0152\"],[0.1,\"#c51b7d\"],[0.2,\"#de77ae\"],[0.3,\"#f1b6da\"],[0.4,\"#fde0ef\"],[0.5,\"#f7f7f7\"],[0.6,\"#e6f5d0\"],[0.7,\"#b8e186\"],[0.8,\"#7fbc41\"],[0.9,\"#4d9221\"],[1,\"#276419\"]]},\"xaxis\":{\"gridcolor\":\"white\",\"linecolor\":\"white\",\"ticks\":\"\",\"title\":{\"standoff\":15},\"zerolinecolor\":\"white\",\"automargin\":true,\"zerolinewidth\":2},\"yaxis\":{\"gridcolor\":\"white\",\"linecolor\":\"white\",\"ticks\":\"\",\"title\":{\"standoff\":15},\"zerolinecolor\":\"white\",\"automargin\":true,\"zerolinewidth\":2},\"scene\":{\"xaxis\":{\"backgroundcolor\":\"#E5ECF6\",\"gridcolor\":\"white\",\"linecolor\":\"white\",\"showbackground\":true,\"ticks\":\"\",\"zerolinecolor\":\"white\",\"gridwidth\":2},\"yaxis\":{\"backgroundcolor\":\"#E5ECF6\",\"gridcolor\":\"white\",\"linecolor\":\"white\",\"showbackground\":true,\"ticks\":\"\",\"zerolinecolor\":\"white\",\"gridwidth\":2},\"zaxis\":{\"backgroundcolor\":\"#E5ECF6\",\"gridcolor\":\"white\",\"linecolor\":\"white\",\"showbackground\":true,\"ticks\":\"\",\"zerolinecolor\":\"white\",\"gridwidth\":2}},\"shapedefaults\":{\"line\":{\"color\":\"#2a3f5f\"}},\"annotationdefaults\":{\"arrowcolor\":\"#2a3f5f\",\"arrowhead\":0,\"arrowwidth\":1},\"geo\":{\"bgcolor\":\"white\",\"landcolor\":\"#E5ECF6\",\"subunitcolor\":\"white\",\"showland\":true,\"showlakes\":true,\"lakecolor\":\"white\"},\"title\":{\"x\":0.05},\"mapbox\":{\"style\":\"light\"}}},\"title\":{\"text\":\"Classification Per Gender\"},\"xaxis\":{\"title\":{\"text\":\"GENDER\"}},\"yaxis\":{\"title\":{\"text\":\"NUMBER OF PREDICTIONS\"}}},                        {\"responsive\": true}                    ).then(function(){\n",
       "                            \n",
       "var gd = document.getElementById('b66fc240-4dd5-45f4-9e34-2f709c6c79e4');\n",
       "var x = new MutationObserver(function (mutations, observer) {{\n",
       "        var display = window.getComputedStyle(gd).display;\n",
       "        if (!display || display === 'none') {{\n",
       "            console.log([gd, 'removed!']);\n",
       "            Plotly.purge(gd);\n",
       "            observer.disconnect();\n",
       "        }}\n",
       "}});\n",
       "\n",
       "// Listen for the removal of the full notebook cells\n",
       "var notebookContainer = gd.closest('#notebook-container');\n",
       "if (notebookContainer) {{\n",
       "    x.observe(notebookContainer, {childList: true});\n",
       "}}\n",
       "\n",
       "// Listen for the clearing of the current output cell\n",
       "var outputEl = gd.closest('.output');\n",
       "if (outputEl) {{\n",
       "    x.observe(outputEl, {childList: true});\n",
       "}}\n",
       "\n",
       "                        })                };                });            </script>        </div>"
      ]
     },
     "metadata": {},
     "output_type": "display_data"
    }
   ],
   "source": [
    "\n",
    "import plotly.graph_objs as go\n",
    "import pandas as pd\n",
    "\n",
    "x = df['Gender'].unique()\n",
    "y = [n1,p1,y1]\n",
    "colors = ['blue', 'green', 'orange']\n",
    "\n",
    "\n",
    "fig = go.Figure()\n",
    "\n",
    "for i in range (len(y)):\n",
    "    fig.add_trace(go.Bar(x = x, y = y[i],\n",
    "                         name=['Negative', 'Pred_Positive', 'Positive'][i], \n",
    "                         marker_color = colors[i]))\n",
    "\n",
    "fig.update_layout(title = 'Classification Per Gender',\n",
    "                 xaxis_title = 'GENDER',\n",
    "                 yaxis_title = 'NUMBER OF PREDICTIONS') \n",
    "\n",
    "\n",
    "# Show the figure\n",
    "fig.show()\n"
   ]
  },
  {
   "cell_type": "code",
   "execution_count": 53,
   "id": "353e903d",
   "metadata": {},
   "outputs": [
    {
     "data": {
      "application/vnd.plotly.v1+json": {
       "config": {
        "plotlyServerURL": "https://plot.ly"
       },
       "data": [
        {
         "hole": 0.5,
         "labels": [
          "Female",
          "Male"
         ],
         "type": "pie",
         "values": [
          565,
          434
         ]
        }
       ],
       "layout": {
        "height": 600,
        "template": {
         "data": {
          "bar": [
           {
            "error_x": {
             "color": "#2a3f5f"
            },
            "error_y": {
             "color": "#2a3f5f"
            },
            "marker": {
             "line": {
              "color": "#E5ECF6",
              "width": 0.5
             },
             "pattern": {
              "fillmode": "overlay",
              "size": 10,
              "solidity": 0.2
             }
            },
            "type": "bar"
           }
          ],
          "barpolar": [
           {
            "marker": {
             "line": {
              "color": "#E5ECF6",
              "width": 0.5
             },
             "pattern": {
              "fillmode": "overlay",
              "size": 10,
              "solidity": 0.2
             }
            },
            "type": "barpolar"
           }
          ],
          "carpet": [
           {
            "aaxis": {
             "endlinecolor": "#2a3f5f",
             "gridcolor": "white",
             "linecolor": "white",
             "minorgridcolor": "white",
             "startlinecolor": "#2a3f5f"
            },
            "baxis": {
             "endlinecolor": "#2a3f5f",
             "gridcolor": "white",
             "linecolor": "white",
             "minorgridcolor": "white",
             "startlinecolor": "#2a3f5f"
            },
            "type": "carpet"
           }
          ],
          "choropleth": [
           {
            "colorbar": {
             "outlinewidth": 0,
             "ticks": ""
            },
            "type": "choropleth"
           }
          ],
          "contour": [
           {
            "colorbar": {
             "outlinewidth": 0,
             "ticks": ""
            },
            "colorscale": [
             [
              0,
              "#0d0887"
             ],
             [
              0.1111111111111111,
              "#46039f"
             ],
             [
              0.2222222222222222,
              "#7201a8"
             ],
             [
              0.3333333333333333,
              "#9c179e"
             ],
             [
              0.4444444444444444,
              "#bd3786"
             ],
             [
              0.5555555555555556,
              "#d8576b"
             ],
             [
              0.6666666666666666,
              "#ed7953"
             ],
             [
              0.7777777777777778,
              "#fb9f3a"
             ],
             [
              0.8888888888888888,
              "#fdca26"
             ],
             [
              1,
              "#f0f921"
             ]
            ],
            "type": "contour"
           }
          ],
          "contourcarpet": [
           {
            "colorbar": {
             "outlinewidth": 0,
             "ticks": ""
            },
            "type": "contourcarpet"
           }
          ],
          "heatmap": [
           {
            "colorbar": {
             "outlinewidth": 0,
             "ticks": ""
            },
            "colorscale": [
             [
              0,
              "#0d0887"
             ],
             [
              0.1111111111111111,
              "#46039f"
             ],
             [
              0.2222222222222222,
              "#7201a8"
             ],
             [
              0.3333333333333333,
              "#9c179e"
             ],
             [
              0.4444444444444444,
              "#bd3786"
             ],
             [
              0.5555555555555556,
              "#d8576b"
             ],
             [
              0.6666666666666666,
              "#ed7953"
             ],
             [
              0.7777777777777778,
              "#fb9f3a"
             ],
             [
              0.8888888888888888,
              "#fdca26"
             ],
             [
              1,
              "#f0f921"
             ]
            ],
            "type": "heatmap"
           }
          ],
          "heatmapgl": [
           {
            "colorbar": {
             "outlinewidth": 0,
             "ticks": ""
            },
            "colorscale": [
             [
              0,
              "#0d0887"
             ],
             [
              0.1111111111111111,
              "#46039f"
             ],
             [
              0.2222222222222222,
              "#7201a8"
             ],
             [
              0.3333333333333333,
              "#9c179e"
             ],
             [
              0.4444444444444444,
              "#bd3786"
             ],
             [
              0.5555555555555556,
              "#d8576b"
             ],
             [
              0.6666666666666666,
              "#ed7953"
             ],
             [
              0.7777777777777778,
              "#fb9f3a"
             ],
             [
              0.8888888888888888,
              "#fdca26"
             ],
             [
              1,
              "#f0f921"
             ]
            ],
            "type": "heatmapgl"
           }
          ],
          "histogram": [
           {
            "marker": {
             "pattern": {
              "fillmode": "overlay",
              "size": 10,
              "solidity": 0.2
             }
            },
            "type": "histogram"
           }
          ],
          "histogram2d": [
           {
            "colorbar": {
             "outlinewidth": 0,
             "ticks": ""
            },
            "colorscale": [
             [
              0,
              "#0d0887"
             ],
             [
              0.1111111111111111,
              "#46039f"
             ],
             [
              0.2222222222222222,
              "#7201a8"
             ],
             [
              0.3333333333333333,
              "#9c179e"
             ],
             [
              0.4444444444444444,
              "#bd3786"
             ],
             [
              0.5555555555555556,
              "#d8576b"
             ],
             [
              0.6666666666666666,
              "#ed7953"
             ],
             [
              0.7777777777777778,
              "#fb9f3a"
             ],
             [
              0.8888888888888888,
              "#fdca26"
             ],
             [
              1,
              "#f0f921"
             ]
            ],
            "type": "histogram2d"
           }
          ],
          "histogram2dcontour": [
           {
            "colorbar": {
             "outlinewidth": 0,
             "ticks": ""
            },
            "colorscale": [
             [
              0,
              "#0d0887"
             ],
             [
              0.1111111111111111,
              "#46039f"
             ],
             [
              0.2222222222222222,
              "#7201a8"
             ],
             [
              0.3333333333333333,
              "#9c179e"
             ],
             [
              0.4444444444444444,
              "#bd3786"
             ],
             [
              0.5555555555555556,
              "#d8576b"
             ],
             [
              0.6666666666666666,
              "#ed7953"
             ],
             [
              0.7777777777777778,
              "#fb9f3a"
             ],
             [
              0.8888888888888888,
              "#fdca26"
             ],
             [
              1,
              "#f0f921"
             ]
            ],
            "type": "histogram2dcontour"
           }
          ],
          "mesh3d": [
           {
            "colorbar": {
             "outlinewidth": 0,
             "ticks": ""
            },
            "type": "mesh3d"
           }
          ],
          "parcoords": [
           {
            "line": {
             "colorbar": {
              "outlinewidth": 0,
              "ticks": ""
             }
            },
            "type": "parcoords"
           }
          ],
          "pie": [
           {
            "automargin": true,
            "type": "pie"
           }
          ],
          "scatter": [
           {
            "fillpattern": {
             "fillmode": "overlay",
             "size": 10,
             "solidity": 0.2
            },
            "type": "scatter"
           }
          ],
          "scatter3d": [
           {
            "line": {
             "colorbar": {
              "outlinewidth": 0,
              "ticks": ""
             }
            },
            "marker": {
             "colorbar": {
              "outlinewidth": 0,
              "ticks": ""
             }
            },
            "type": "scatter3d"
           }
          ],
          "scattercarpet": [
           {
            "marker": {
             "colorbar": {
              "outlinewidth": 0,
              "ticks": ""
             }
            },
            "type": "scattercarpet"
           }
          ],
          "scattergeo": [
           {
            "marker": {
             "colorbar": {
              "outlinewidth": 0,
              "ticks": ""
             }
            },
            "type": "scattergeo"
           }
          ],
          "scattergl": [
           {
            "marker": {
             "colorbar": {
              "outlinewidth": 0,
              "ticks": ""
             }
            },
            "type": "scattergl"
           }
          ],
          "scattermapbox": [
           {
            "marker": {
             "colorbar": {
              "outlinewidth": 0,
              "ticks": ""
             }
            },
            "type": "scattermapbox"
           }
          ],
          "scatterpolar": [
           {
            "marker": {
             "colorbar": {
              "outlinewidth": 0,
              "ticks": ""
             }
            },
            "type": "scatterpolar"
           }
          ],
          "scatterpolargl": [
           {
            "marker": {
             "colorbar": {
              "outlinewidth": 0,
              "ticks": ""
             }
            },
            "type": "scatterpolargl"
           }
          ],
          "scatterternary": [
           {
            "marker": {
             "colorbar": {
              "outlinewidth": 0,
              "ticks": ""
             }
            },
            "type": "scatterternary"
           }
          ],
          "surface": [
           {
            "colorbar": {
             "outlinewidth": 0,
             "ticks": ""
            },
            "colorscale": [
             [
              0,
              "#0d0887"
             ],
             [
              0.1111111111111111,
              "#46039f"
             ],
             [
              0.2222222222222222,
              "#7201a8"
             ],
             [
              0.3333333333333333,
              "#9c179e"
             ],
             [
              0.4444444444444444,
              "#bd3786"
             ],
             [
              0.5555555555555556,
              "#d8576b"
             ],
             [
              0.6666666666666666,
              "#ed7953"
             ],
             [
              0.7777777777777778,
              "#fb9f3a"
             ],
             [
              0.8888888888888888,
              "#fdca26"
             ],
             [
              1,
              "#f0f921"
             ]
            ],
            "type": "surface"
           }
          ],
          "table": [
           {
            "cells": {
             "fill": {
              "color": "#EBF0F8"
             },
             "line": {
              "color": "white"
             }
            },
            "header": {
             "fill": {
              "color": "#C8D4E3"
             },
             "line": {
              "color": "white"
             }
            },
            "type": "table"
           }
          ]
         },
         "layout": {
          "annotationdefaults": {
           "arrowcolor": "#2a3f5f",
           "arrowhead": 0,
           "arrowwidth": 1
          },
          "autotypenumbers": "strict",
          "coloraxis": {
           "colorbar": {
            "outlinewidth": 0,
            "ticks": ""
           }
          },
          "colorscale": {
           "diverging": [
            [
             0,
             "#8e0152"
            ],
            [
             0.1,
             "#c51b7d"
            ],
            [
             0.2,
             "#de77ae"
            ],
            [
             0.3,
             "#f1b6da"
            ],
            [
             0.4,
             "#fde0ef"
            ],
            [
             0.5,
             "#f7f7f7"
            ],
            [
             0.6,
             "#e6f5d0"
            ],
            [
             0.7,
             "#b8e186"
            ],
            [
             0.8,
             "#7fbc41"
            ],
            [
             0.9,
             "#4d9221"
            ],
            [
             1,
             "#276419"
            ]
           ],
           "sequential": [
            [
             0,
             "#0d0887"
            ],
            [
             0.1111111111111111,
             "#46039f"
            ],
            [
             0.2222222222222222,
             "#7201a8"
            ],
            [
             0.3333333333333333,
             "#9c179e"
            ],
            [
             0.4444444444444444,
             "#bd3786"
            ],
            [
             0.5555555555555556,
             "#d8576b"
            ],
            [
             0.6666666666666666,
             "#ed7953"
            ],
            [
             0.7777777777777778,
             "#fb9f3a"
            ],
            [
             0.8888888888888888,
             "#fdca26"
            ],
            [
             1,
             "#f0f921"
            ]
           ],
           "sequentialminus": [
            [
             0,
             "#0d0887"
            ],
            [
             0.1111111111111111,
             "#46039f"
            ],
            [
             0.2222222222222222,
             "#7201a8"
            ],
            [
             0.3333333333333333,
             "#9c179e"
            ],
            [
             0.4444444444444444,
             "#bd3786"
            ],
            [
             0.5555555555555556,
             "#d8576b"
            ],
            [
             0.6666666666666666,
             "#ed7953"
            ],
            [
             0.7777777777777778,
             "#fb9f3a"
            ],
            [
             0.8888888888888888,
             "#fdca26"
            ],
            [
             1,
             "#f0f921"
            ]
           ]
          },
          "colorway": [
           "#636efa",
           "#EF553B",
           "#00cc96",
           "#ab63fa",
           "#FFA15A",
           "#19d3f3",
           "#FF6692",
           "#B6E880",
           "#FF97FF",
           "#FECB52"
          ],
          "font": {
           "color": "#2a3f5f"
          },
          "geo": {
           "bgcolor": "white",
           "lakecolor": "white",
           "landcolor": "#E5ECF6",
           "showlakes": true,
           "showland": true,
           "subunitcolor": "white"
          },
          "hoverlabel": {
           "align": "left"
          },
          "hovermode": "closest",
          "mapbox": {
           "style": "light"
          },
          "paper_bgcolor": "white",
          "plot_bgcolor": "#E5ECF6",
          "polar": {
           "angularaxis": {
            "gridcolor": "white",
            "linecolor": "white",
            "ticks": ""
           },
           "bgcolor": "#E5ECF6",
           "radialaxis": {
            "gridcolor": "white",
            "linecolor": "white",
            "ticks": ""
           }
          },
          "scene": {
           "xaxis": {
            "backgroundcolor": "#E5ECF6",
            "gridcolor": "white",
            "gridwidth": 2,
            "linecolor": "white",
            "showbackground": true,
            "ticks": "",
            "zerolinecolor": "white"
           },
           "yaxis": {
            "backgroundcolor": "#E5ECF6",
            "gridcolor": "white",
            "gridwidth": 2,
            "linecolor": "white",
            "showbackground": true,
            "ticks": "",
            "zerolinecolor": "white"
           },
           "zaxis": {
            "backgroundcolor": "#E5ECF6",
            "gridcolor": "white",
            "gridwidth": 2,
            "linecolor": "white",
            "showbackground": true,
            "ticks": "",
            "zerolinecolor": "white"
           }
          },
          "shapedefaults": {
           "line": {
            "color": "#2a3f5f"
           }
          },
          "ternary": {
           "aaxis": {
            "gridcolor": "white",
            "linecolor": "white",
            "ticks": ""
           },
           "baxis": {
            "gridcolor": "white",
            "linecolor": "white",
            "ticks": ""
           },
           "bgcolor": "#E5ECF6",
           "caxis": {
            "gridcolor": "white",
            "linecolor": "white",
            "ticks": ""
           }
          },
          "title": {
           "x": 0.05
          },
          "xaxis": {
           "automargin": true,
           "gridcolor": "white",
           "linecolor": "white",
           "ticks": "",
           "title": {
            "standoff": 15
           },
           "zerolinecolor": "white",
           "zerolinewidth": 2
          },
          "yaxis": {
           "automargin": true,
           "gridcolor": "white",
           "linecolor": "white",
           "ticks": "",
           "title": {
            "standoff": 15
           },
           "zerolinecolor": "white",
           "zerolinewidth": 2
          }
         }
        },
        "title": {
         "text": "Gender Percentage"
        },
        "width": 1000
       }
      },
      "text/html": [
       "<div>                            <div id=\"f90d5d86-2b18-41f8-bf2e-d16d8e00cc9c\" class=\"plotly-graph-div\" style=\"height:600px; width:1000px;\"></div>            <script type=\"text/javascript\">                require([\"plotly\"], function(Plotly) {                    window.PLOTLYENV=window.PLOTLYENV || {};                                    if (document.getElementById(\"f90d5d86-2b18-41f8-bf2e-d16d8e00cc9c\")) {                    Plotly.newPlot(                        \"f90d5d86-2b18-41f8-bf2e-d16d8e00cc9c\",                        [{\"hole\":0.5,\"labels\":[\"Female\",\"Male\"],\"values\":[565,434],\"type\":\"pie\"}],                        {\"template\":{\"data\":{\"histogram2dcontour\":[{\"type\":\"histogram2dcontour\",\"colorbar\":{\"outlinewidth\":0,\"ticks\":\"\"},\"colorscale\":[[0.0,\"#0d0887\"],[0.1111111111111111,\"#46039f\"],[0.2222222222222222,\"#7201a8\"],[0.3333333333333333,\"#9c179e\"],[0.4444444444444444,\"#bd3786\"],[0.5555555555555556,\"#d8576b\"],[0.6666666666666666,\"#ed7953\"],[0.7777777777777778,\"#fb9f3a\"],[0.8888888888888888,\"#fdca26\"],[1.0,\"#f0f921\"]]}],\"choropleth\":[{\"type\":\"choropleth\",\"colorbar\":{\"outlinewidth\":0,\"ticks\":\"\"}}],\"histogram2d\":[{\"type\":\"histogram2d\",\"colorbar\":{\"outlinewidth\":0,\"ticks\":\"\"},\"colorscale\":[[0.0,\"#0d0887\"],[0.1111111111111111,\"#46039f\"],[0.2222222222222222,\"#7201a8\"],[0.3333333333333333,\"#9c179e\"],[0.4444444444444444,\"#bd3786\"],[0.5555555555555556,\"#d8576b\"],[0.6666666666666666,\"#ed7953\"],[0.7777777777777778,\"#fb9f3a\"],[0.8888888888888888,\"#fdca26\"],[1.0,\"#f0f921\"]]}],\"heatmap\":[{\"type\":\"heatmap\",\"colorbar\":{\"outlinewidth\":0,\"ticks\":\"\"},\"colorscale\":[[0.0,\"#0d0887\"],[0.1111111111111111,\"#46039f\"],[0.2222222222222222,\"#7201a8\"],[0.3333333333333333,\"#9c179e\"],[0.4444444444444444,\"#bd3786\"],[0.5555555555555556,\"#d8576b\"],[0.6666666666666666,\"#ed7953\"],[0.7777777777777778,\"#fb9f3a\"],[0.8888888888888888,\"#fdca26\"],[1.0,\"#f0f921\"]]}],\"heatmapgl\":[{\"type\":\"heatmapgl\",\"colorbar\":{\"outlinewidth\":0,\"ticks\":\"\"},\"colorscale\":[[0.0,\"#0d0887\"],[0.1111111111111111,\"#46039f\"],[0.2222222222222222,\"#7201a8\"],[0.3333333333333333,\"#9c179e\"],[0.4444444444444444,\"#bd3786\"],[0.5555555555555556,\"#d8576b\"],[0.6666666666666666,\"#ed7953\"],[0.7777777777777778,\"#fb9f3a\"],[0.8888888888888888,\"#fdca26\"],[1.0,\"#f0f921\"]]}],\"contourcarpet\":[{\"type\":\"contourcarpet\",\"colorbar\":{\"outlinewidth\":0,\"ticks\":\"\"}}],\"contour\":[{\"type\":\"contour\",\"colorbar\":{\"outlinewidth\":0,\"ticks\":\"\"},\"colorscale\":[[0.0,\"#0d0887\"],[0.1111111111111111,\"#46039f\"],[0.2222222222222222,\"#7201a8\"],[0.3333333333333333,\"#9c179e\"],[0.4444444444444444,\"#bd3786\"],[0.5555555555555556,\"#d8576b\"],[0.6666666666666666,\"#ed7953\"],[0.7777777777777778,\"#fb9f3a\"],[0.8888888888888888,\"#fdca26\"],[1.0,\"#f0f921\"]]}],\"surface\":[{\"type\":\"surface\",\"colorbar\":{\"outlinewidth\":0,\"ticks\":\"\"},\"colorscale\":[[0.0,\"#0d0887\"],[0.1111111111111111,\"#46039f\"],[0.2222222222222222,\"#7201a8\"],[0.3333333333333333,\"#9c179e\"],[0.4444444444444444,\"#bd3786\"],[0.5555555555555556,\"#d8576b\"],[0.6666666666666666,\"#ed7953\"],[0.7777777777777778,\"#fb9f3a\"],[0.8888888888888888,\"#fdca26\"],[1.0,\"#f0f921\"]]}],\"mesh3d\":[{\"type\":\"mesh3d\",\"colorbar\":{\"outlinewidth\":0,\"ticks\":\"\"}}],\"scatter\":[{\"fillpattern\":{\"fillmode\":\"overlay\",\"size\":10,\"solidity\":0.2},\"type\":\"scatter\"}],\"parcoords\":[{\"type\":\"parcoords\",\"line\":{\"colorbar\":{\"outlinewidth\":0,\"ticks\":\"\"}}}],\"scatterpolargl\":[{\"type\":\"scatterpolargl\",\"marker\":{\"colorbar\":{\"outlinewidth\":0,\"ticks\":\"\"}}}],\"bar\":[{\"error_x\":{\"color\":\"#2a3f5f\"},\"error_y\":{\"color\":\"#2a3f5f\"},\"marker\":{\"line\":{\"color\":\"#E5ECF6\",\"width\":0.5},\"pattern\":{\"fillmode\":\"overlay\",\"size\":10,\"solidity\":0.2}},\"type\":\"bar\"}],\"scattergeo\":[{\"type\":\"scattergeo\",\"marker\":{\"colorbar\":{\"outlinewidth\":0,\"ticks\":\"\"}}}],\"scatterpolar\":[{\"type\":\"scatterpolar\",\"marker\":{\"colorbar\":{\"outlinewidth\":0,\"ticks\":\"\"}}}],\"histogram\":[{\"marker\":{\"pattern\":{\"fillmode\":\"overlay\",\"size\":10,\"solidity\":0.2}},\"type\":\"histogram\"}],\"scattergl\":[{\"type\":\"scattergl\",\"marker\":{\"colorbar\":{\"outlinewidth\":0,\"ticks\":\"\"}}}],\"scatter3d\":[{\"type\":\"scatter3d\",\"line\":{\"colorbar\":{\"outlinewidth\":0,\"ticks\":\"\"}},\"marker\":{\"colorbar\":{\"outlinewidth\":0,\"ticks\":\"\"}}}],\"scattermapbox\":[{\"type\":\"scattermapbox\",\"marker\":{\"colorbar\":{\"outlinewidth\":0,\"ticks\":\"\"}}}],\"scatterternary\":[{\"type\":\"scatterternary\",\"marker\":{\"colorbar\":{\"outlinewidth\":0,\"ticks\":\"\"}}}],\"scattercarpet\":[{\"type\":\"scattercarpet\",\"marker\":{\"colorbar\":{\"outlinewidth\":0,\"ticks\":\"\"}}}],\"carpet\":[{\"aaxis\":{\"endlinecolor\":\"#2a3f5f\",\"gridcolor\":\"white\",\"linecolor\":\"white\",\"minorgridcolor\":\"white\",\"startlinecolor\":\"#2a3f5f\"},\"baxis\":{\"endlinecolor\":\"#2a3f5f\",\"gridcolor\":\"white\",\"linecolor\":\"white\",\"minorgridcolor\":\"white\",\"startlinecolor\":\"#2a3f5f\"},\"type\":\"carpet\"}],\"table\":[{\"cells\":{\"fill\":{\"color\":\"#EBF0F8\"},\"line\":{\"color\":\"white\"}},\"header\":{\"fill\":{\"color\":\"#C8D4E3\"},\"line\":{\"color\":\"white\"}},\"type\":\"table\"}],\"barpolar\":[{\"marker\":{\"line\":{\"color\":\"#E5ECF6\",\"width\":0.5},\"pattern\":{\"fillmode\":\"overlay\",\"size\":10,\"solidity\":0.2}},\"type\":\"barpolar\"}],\"pie\":[{\"automargin\":true,\"type\":\"pie\"}]},\"layout\":{\"autotypenumbers\":\"strict\",\"colorway\":[\"#636efa\",\"#EF553B\",\"#00cc96\",\"#ab63fa\",\"#FFA15A\",\"#19d3f3\",\"#FF6692\",\"#B6E880\",\"#FF97FF\",\"#FECB52\"],\"font\":{\"color\":\"#2a3f5f\"},\"hovermode\":\"closest\",\"hoverlabel\":{\"align\":\"left\"},\"paper_bgcolor\":\"white\",\"plot_bgcolor\":\"#E5ECF6\",\"polar\":{\"bgcolor\":\"#E5ECF6\",\"angularaxis\":{\"gridcolor\":\"white\",\"linecolor\":\"white\",\"ticks\":\"\"},\"radialaxis\":{\"gridcolor\":\"white\",\"linecolor\":\"white\",\"ticks\":\"\"}},\"ternary\":{\"bgcolor\":\"#E5ECF6\",\"aaxis\":{\"gridcolor\":\"white\",\"linecolor\":\"white\",\"ticks\":\"\"},\"baxis\":{\"gridcolor\":\"white\",\"linecolor\":\"white\",\"ticks\":\"\"},\"caxis\":{\"gridcolor\":\"white\",\"linecolor\":\"white\",\"ticks\":\"\"}},\"coloraxis\":{\"colorbar\":{\"outlinewidth\":0,\"ticks\":\"\"}},\"colorscale\":{\"sequential\":[[0.0,\"#0d0887\"],[0.1111111111111111,\"#46039f\"],[0.2222222222222222,\"#7201a8\"],[0.3333333333333333,\"#9c179e\"],[0.4444444444444444,\"#bd3786\"],[0.5555555555555556,\"#d8576b\"],[0.6666666666666666,\"#ed7953\"],[0.7777777777777778,\"#fb9f3a\"],[0.8888888888888888,\"#fdca26\"],[1.0,\"#f0f921\"]],\"sequentialminus\":[[0.0,\"#0d0887\"],[0.1111111111111111,\"#46039f\"],[0.2222222222222222,\"#7201a8\"],[0.3333333333333333,\"#9c179e\"],[0.4444444444444444,\"#bd3786\"],[0.5555555555555556,\"#d8576b\"],[0.6666666666666666,\"#ed7953\"],[0.7777777777777778,\"#fb9f3a\"],[0.8888888888888888,\"#fdca26\"],[1.0,\"#f0f921\"]],\"diverging\":[[0,\"#8e0152\"],[0.1,\"#c51b7d\"],[0.2,\"#de77ae\"],[0.3,\"#f1b6da\"],[0.4,\"#fde0ef\"],[0.5,\"#f7f7f7\"],[0.6,\"#e6f5d0\"],[0.7,\"#b8e186\"],[0.8,\"#7fbc41\"],[0.9,\"#4d9221\"],[1,\"#276419\"]]},\"xaxis\":{\"gridcolor\":\"white\",\"linecolor\":\"white\",\"ticks\":\"\",\"title\":{\"standoff\":15},\"zerolinecolor\":\"white\",\"automargin\":true,\"zerolinewidth\":2},\"yaxis\":{\"gridcolor\":\"white\",\"linecolor\":\"white\",\"ticks\":\"\",\"title\":{\"standoff\":15},\"zerolinecolor\":\"white\",\"automargin\":true,\"zerolinewidth\":2},\"scene\":{\"xaxis\":{\"backgroundcolor\":\"#E5ECF6\",\"gridcolor\":\"white\",\"linecolor\":\"white\",\"showbackground\":true,\"ticks\":\"\",\"zerolinecolor\":\"white\",\"gridwidth\":2},\"yaxis\":{\"backgroundcolor\":\"#E5ECF6\",\"gridcolor\":\"white\",\"linecolor\":\"white\",\"showbackground\":true,\"ticks\":\"\",\"zerolinecolor\":\"white\",\"gridwidth\":2},\"zaxis\":{\"backgroundcolor\":\"#E5ECF6\",\"gridcolor\":\"white\",\"linecolor\":\"white\",\"showbackground\":true,\"ticks\":\"\",\"zerolinecolor\":\"white\",\"gridwidth\":2}},\"shapedefaults\":{\"line\":{\"color\":\"#2a3f5f\"}},\"annotationdefaults\":{\"arrowcolor\":\"#2a3f5f\",\"arrowhead\":0,\"arrowwidth\":1},\"geo\":{\"bgcolor\":\"white\",\"landcolor\":\"#E5ECF6\",\"subunitcolor\":\"white\",\"showland\":true,\"showlakes\":true,\"lakecolor\":\"white\"},\"title\":{\"x\":0.05},\"mapbox\":{\"style\":\"light\"}}},\"title\":{\"text\":\"Gender Percentage\"},\"width\":1000,\"height\":600},                        {\"responsive\": true}                    ).then(function(){\n",
       "                            \n",
       "var gd = document.getElementById('f90d5d86-2b18-41f8-bf2e-d16d8e00cc9c');\n",
       "var x = new MutationObserver(function (mutations, observer) {{\n",
       "        var display = window.getComputedStyle(gd).display;\n",
       "        if (!display || display === 'none') {{\n",
       "            console.log([gd, 'removed!']);\n",
       "            Plotly.purge(gd);\n",
       "            observer.disconnect();\n",
       "        }}\n",
       "}});\n",
       "\n",
       "// Listen for the removal of the full notebook cells\n",
       "var notebookContainer = gd.closest('#notebook-container');\n",
       "if (notebookContainer) {{\n",
       "    x.observe(notebookContainer, {childList: true});\n",
       "}}\n",
       "\n",
       "// Listen for the clearing of the current output cell\n",
       "var outputEl = gd.closest('.output');\n",
       "if (outputEl) {{\n",
       "    x.observe(outputEl, {childList: true});\n",
       "}}\n",
       "\n",
       "                        })                };                });            </script>        </div>"
      ]
     },
     "metadata": {},
     "output_type": "display_data"
    }
   ],
   "source": [
    "#Checking for Gender Sizes\n",
    "\n",
    "%matplotlib inline\n",
    "import plotly.graph_objects as go \n",
    "\n",
    "lab = ['Female', 'Male']\n",
    "\n",
    "\n",
    "val = df['Gender'].value_counts()\n",
    "\n",
    "fig = go.Figure(data=[go.Pie(labels = lab, values = val, hole = 0.5)])\n",
    "\n",
    "fig.update_layout(title=\"Gender Percentage\", width = 1000, height = 600)\n",
    "\n",
    "fig.show()"
   ]
  },
  {
   "cell_type": "code",
   "execution_count": 65,
   "id": "c35399ee",
   "metadata": {},
   "outputs": [
    {
     "data": {
      "image/png": "[encoded data removed]",
      "text/plain": [
       "<Figure size 640x480 with 1 Axes>"
      ]
     },
     "metadata": {},
     "output_type": "display_data"
    }
   ],
   "source": [
    "#Checking for Class Size\n",
    "\n",
    "import squarify\n",
    "\n",
    "# Example data\n",
    "sizes = df['CLASS'].value_counts().tolist()\n",
    "\n",
    "labels = ['Y', 'N', 'P']\n",
    "\n",
    "# Create treemap using squarify\n",
    "squarify.plot(sizes=sizes, label=labels, alpha=0.8)\n",
    "\n",
    "# Customize plot using seaborn\n",
    "plt.axis('off')\n",
    "sns.set_style(\"white\")\n",
    "sns.set_palette(\"Paired\", len(labels))\n",
    "plt.title(\"Class Size\")\n",
    "\n",
    "# Show plot\n",
    "plt.show()\n",
    "\n"
   ]
  },
  {
   "cell_type": "code",
   "execution_count": 67,
   "id": "6ab9007d",
   "metadata": {},
   "outputs": [
    {
     "data": {
      "application/vnd.plotly.v1+json": {
       "config": {
        "plotlyServerURL": "https://plot.ly"
       },
       "data": [
        {
         "hole": 0.5,
         "labels": [
          "Y",
          "N",
          "P"
         ],
         "type": "pie",
         "values": [
          844,
          103,
          53
         ]
        }
       ],
       "layout": {
        "height": 700,
        "template": {
         "data": {
          "bar": [
           {
            "error_x": {
             "color": "#2a3f5f"
            },
            "error_y": {
             "color": "#2a3f5f"
            },
            "marker": {
             "line": {
              "color": "#E5ECF6",
              "width": 0.5
             },
             "pattern": {
              "fillmode": "overlay",
              "size": 10,
              "solidity": 0.2
             }
            },
            "type": "bar"
           }
          ],
          "barpolar": [
           {
            "marker": {
             "line": {
              "color": "#E5ECF6",
              "width": 0.5
             },
             "pattern": {
              "fillmode": "overlay",
              "size": 10,
              "solidity": 0.2
             }
            },
            "type": "barpolar"
           }
          ],
          "carpet": [
           {
            "aaxis": {
             "endlinecolor": "#2a3f5f",
             "gridcolor": "white",
             "linecolor": "white",
             "minorgridcolor": "white",
             "startlinecolor": "#2a3f5f"
            },
            "baxis": {
             "endlinecolor": "#2a3f5f",
             "gridcolor": "white",
             "linecolor": "white",
             "minorgridcolor": "white",
             "startlinecolor": "#2a3f5f"
            },
            "type": "carpet"
           }
          ],
          "choropleth": [
           {
            "colorbar": {
             "outlinewidth": 0,
             "ticks": ""
            },
            "type": "choropleth"
           }
          ],
          "contour": [
           {
            "colorbar": {
             "outlinewidth": 0,
             "ticks": ""
            },
            "colorscale": [
             [
              0,
              "#0d0887"
             ],
             [
              0.1111111111111111,
              "#46039f"
             ],
             [
              0.2222222222222222,
              "#7201a8"
             ],
             [
              0.3333333333333333,
              "#9c179e"
             ],
             [
              0.4444444444444444,
              "#bd3786"
             ],
             [
              0.5555555555555556,
              "#d8576b"
             ],
             [
              0.6666666666666666,
              "#ed7953"
             ],
             [
              0.7777777777777778,
              "#fb9f3a"
             ],
             [
              0.8888888888888888,
              "#fdca26"
             ],
             [
              1,
              "#f0f921"
             ]
            ],
            "type": "contour"
           }
          ],
          "contourcarpet": [
           {
            "colorbar": {
             "outlinewidth": 0,
             "ticks": ""
            },
            "type": "contourcarpet"
           }
          ],
          "heatmap": [
           {
            "colorbar": {
             "outlinewidth": 0,
             "ticks": ""
            },
            "colorscale": [
             [
              0,
              "#0d0887"
             ],
             [
              0.1111111111111111,
              "#46039f"
             ],
             [
              0.2222222222222222,
              "#7201a8"
             ],
             [
              0.3333333333333333,
              "#9c179e"
             ],
             [
              0.4444444444444444,
              "#bd3786"
             ],
             [
              0.5555555555555556,
              "#d8576b"
             ],
             [
              0.6666666666666666,
              "#ed7953"
             ],
             [
              0.7777777777777778,
              "#fb9f3a"
             ],
             [
              0.8888888888888888,
              "#fdca26"
             ],
             [
              1,
              "#f0f921"
             ]
            ],
            "type": "heatmap"
           }
          ],
          "heatmapgl": [
           {
            "colorbar": {
             "outlinewidth": 0,
             "ticks": ""
            },
            "colorscale": [
             [
              0,
              "#0d0887"
             ],
             [
              0.1111111111111111,
              "#46039f"
             ],
             [
              0.2222222222222222,
              "#7201a8"
             ],
             [
              0.3333333333333333,
              "#9c179e"
             ],
             [
              0.4444444444444444,
              "#bd3786"
             ],
             [
              0.5555555555555556,
              "#d8576b"
             ],
             [
              0.6666666666666666,
              "#ed7953"
             ],
             [
              0.7777777777777778,
              "#fb9f3a"
             ],
             [
              0.8888888888888888,
              "#fdca26"
             ],
             [
              1,
              "#f0f921"
             ]
            ],
            "type": "heatmapgl"
           }
          ],
          "histogram": [
           {
            "marker": {
             "pattern": {
              "fillmode": "overlay",
              "size": 10,
              "solidity": 0.2
             }
            },
            "type": "histogram"
           }
          ],
          "histogram2d": [
           {
            "colorbar": {
             "outlinewidth": 0,
             "ticks": ""
            },
            "colorscale": [
             [
              0,
              "#0d0887"
             ],
             [
              0.1111111111111111,
              "#46039f"
             ],
             [
              0.2222222222222222,
              "#7201a8"
             ],
             [
              0.3333333333333333,
              "#9c179e"
             ],
             [
              0.4444444444444444,
              "#bd3786"
             ],
             [
              0.5555555555555556,
              "#d8576b"
             ],
             [
              0.6666666666666666,
              "#ed7953"
             ],
             [
              0.7777777777777778,
              "#fb9f3a"
             ],
             [
              0.8888888888888888,
              "#fdca26"
             ],
             [
              1,
              "#f0f921"
             ]
            ],
            "type": "histogram2d"
           }
          ],
          "histogram2dcontour": [
           {
            "colorbar": {
             "outlinewidth": 0,
             "ticks": ""
            },
            "colorscale": [
             [
              0,
              "#0d0887"
             ],
             [
              0.1111111111111111,
              "#46039f"
             ],
             [
              0.2222222222222222,
              "#7201a8"
             ],
             [
              0.3333333333333333,
              "#9c179e"
             ],
             [
              0.4444444444444444,
              "#bd3786"
             ],
             [
              0.5555555555555556,
              "#d8576b"
             ],
             [
              0.6666666666666666,
              "#ed7953"
             ],
             [
              0.7777777777777778,
              "#fb9f3a"
             ],
             [
              0.8888888888888888,
              "#fdca26"
             ],
             [
              1,
              "#f0f921"
             ]
            ],
            "type": "histogram2dcontour"
           }
          ],
          "mesh3d": [
           {
            "colorbar": {
             "outlinewidth": 0,
             "ticks": ""
            },
            "type": "mesh3d"
           }
          ],
          "parcoords": [
           {
            "line": {
             "colorbar": {
              "outlinewidth": 0,
              "ticks": ""
             }
            },
            "type": "parcoords"
           }
          ],
          "pie": [
           {
            "automargin": true,
            "type": "pie"
           }
          ],
          "scatter": [
           {
            "fillpattern": {
             "fillmode": "overlay",
             "size": 10,
             "solidity": 0.2
            },
            "type": "scatter"
           }
          ],
          "scatter3d": [
           {
            "line": {
             "colorbar": {
              "outlinewidth": 0,
              "ticks": ""
             }
            },
            "marker": {
             "colorbar": {
              "outlinewidth": 0,
              "ticks": ""
             }
            },
            "type": "scatter3d"
           }
          ],
          "scattercarpet": [
           {
            "marker": {
             "colorbar": {
              "outlinewidth": 0,
              "ticks": ""
             }
            },
            "type": "scattercarpet"
           }
          ],
          "scattergeo": [
           {
            "marker": {
             "colorbar": {
              "outlinewidth": 0,
              "ticks": ""
             }
            },
            "type": "scattergeo"
           }
          ],
          "scattergl": [
           {
            "marker": {
             "colorbar": {
              "outlinewidth": 0,
              "ticks": ""
             }
            },
            "type": "scattergl"
           }
          ],
          "scattermapbox": [
           {
            "marker": {
             "colorbar": {
              "outlinewidth": 0,
              "ticks": ""
             }
            },
            "type": "scattermapbox"
           }
          ],
          "scatterpolar": [
           {
            "marker": {
             "colorbar": {
              "outlinewidth": 0,
              "ticks": ""
             }
            },
            "type": "scatterpolar"
           }
          ],
          "scatterpolargl": [
           {
            "marker": {
             "colorbar": {
              "outlinewidth": 0,
              "ticks": ""
             }
            },
            "type": "scatterpolargl"
           }
          ],
          "scatterternary": [
           {
            "marker": {
             "colorbar": {
              "outlinewidth": 0,
              "ticks": ""
             }
            },
            "type": "scatterternary"
           }
          ],
          "surface": [
           {
            "colorbar": {
             "outlinewidth": 0,
             "ticks": ""
            },
            "colorscale": [
             [
              0,
              "#0d0887"
             ],
             [
              0.1111111111111111,
              "#46039f"
             ],
             [
              0.2222222222222222,
              "#7201a8"
             ],
             [
              0.3333333333333333,
              "#9c179e"
             ],
             [
              0.4444444444444444,
              "#bd3786"
             ],
             [
              0.5555555555555556,
              "#d8576b"
             ],
             [
              0.6666666666666666,
              "#ed7953"
             ],
             [
              0.7777777777777778,
              "#fb9f3a"
             ],
             [
              0.8888888888888888,
              "#fdca26"
             ],
             [
              1,
              "#f0f921"
             ]
            ],
            "type": "surface"
           }
          ],
          "table": [
           {
            "cells": {
             "fill": {
              "color": "#EBF0F8"
             },
             "line": {
              "color": "white"
             }
            },
            "header": {
             "fill": {
              "color": "#C8D4E3"
             },
             "line": {
              "color": "white"
             }
            },
            "type": "table"
           }
          ]
         },
         "layout": {
          "annotationdefaults": {
           "arrowcolor": "#2a3f5f",
           "arrowhead": 0,
           "arrowwidth": 1
          },
          "autotypenumbers": "strict",
          "coloraxis": {
           "colorbar": {
            "outlinewidth": 0,
            "ticks": ""
           }
          },
          "colorscale": {
           "diverging": [
            [
             0,
             "#8e0152"
            ],
            [
             0.1,
             "#c51b7d"
            ],
            [
             0.2,
             "#de77ae"
            ],
            [
             0.3,
             "#f1b6da"
            ],
            [
             0.4,
             "#fde0ef"
            ],
            [
             0.5,
             "#f7f7f7"
            ],
            [
             0.6,
             "#e6f5d0"
            ],
            [
             0.7,
             "#b8e186"
            ],
            [
             0.8,
             "#7fbc41"
            ],
            [
             0.9,
             "#4d9221"
            ],
            [
             1,
             "#276419"
            ]
           ],
           "sequential": [
            [
             0,
             "#0d0887"
            ],
            [
             0.1111111111111111,
             "#46039f"
            ],
            [
             0.2222222222222222,
             "#7201a8"
            ],
            [
             0.3333333333333333,
             "#9c179e"
            ],
            [
             0.4444444444444444,
             "#bd3786"
            ],
            [
             0.5555555555555556,
             "#d8576b"
            ],
            [
             0.6666666666666666,
             "#ed7953"
            ],
            [
             0.7777777777777778,
             "#fb9f3a"
            ],
            [
             0.8888888888888888,
             "#fdca26"
            ],
            [
             1,
             "#f0f921"
            ]
           ],
           "sequentialminus": [
            [
             0,
             "#0d0887"
            ],
            [
             0.1111111111111111,
             "#46039f"
            ],
            [
             0.2222222222222222,
             "#7201a8"
            ],
            [
             0.3333333333333333,
             "#9c179e"
            ],
            [
             0.4444444444444444,
             "#bd3786"
            ],
            [
             0.5555555555555556,
             "#d8576b"
            ],
            [
             0.6666666666666666,
             "#ed7953"
            ],
            [
             0.7777777777777778,
             "#fb9f3a"
            ],
            [
             0.8888888888888888,
             "#fdca26"
            ],
            [
             1,
             "#f0f921"
            ]
           ]
          },
          "colorway": [
           "#636efa",
           "#EF553B",
           "#00cc96",
           "#ab63fa",
           "#FFA15A",
           "#19d3f3",
           "#FF6692",
           "#B6E880",
           "#FF97FF",
           "#FECB52"
          ],
          "font": {
           "color": "#2a3f5f"
          },
          "geo": {
           "bgcolor": "white",
           "lakecolor": "white",
           "landcolor": "#E5ECF6",
           "showlakes": true,
           "showland": true,
           "subunitcolor": "white"
          },
          "hoverlabel": {
           "align": "left"
          },
          "hovermode": "closest",
          "mapbox": {
           "style": "light"
          },
          "paper_bgcolor": "white",
          "plot_bgcolor": "#E5ECF6",
          "polar": {
           "angularaxis": {
            "gridcolor": "white",
            "linecolor": "white",
            "ticks": ""
           },
           "bgcolor": "#E5ECF6",
           "radialaxis": {
            "gridcolor": "white",
            "linecolor": "white",
            "ticks": ""
           }
          },
          "scene": {
           "xaxis": {
            "backgroundcolor": "#E5ECF6",
            "gridcolor": "white",
            "gridwidth": 2,
            "linecolor": "white",
            "showbackground": true,
            "ticks": "",
            "zerolinecolor": "white"
           },
           "yaxis": {
            "backgroundcolor": "#E5ECF6",
            "gridcolor": "white",
            "gridwidth": 2,
            "linecolor": "white",
            "showbackground": true,
            "ticks": "",
            "zerolinecolor": "white"
           },
           "zaxis": {
            "backgroundcolor": "#E5ECF6",
            "gridcolor": "white",
            "gridwidth": 2,
            "linecolor": "white",
            "showbackground": true,
            "ticks": "",
            "zerolinecolor": "white"
           }
          },
          "shapedefaults": {
           "line": {
            "color": "#2a3f5f"
           }
          },
          "ternary": {
           "aaxis": {
            "gridcolor": "white",
            "linecolor": "white",
            "ticks": ""
           },
           "baxis": {
            "gridcolor": "white",
            "linecolor": "white",
            "ticks": ""
           },
           "bgcolor": "#E5ECF6",
           "caxis": {
            "gridcolor": "white",
            "linecolor": "white",
            "ticks": ""
           }
          },
          "title": {
           "x": 0.05
          },
          "xaxis": {
           "automargin": true,
           "gridcolor": "white",
           "linecolor": "white",
           "ticks": "",
           "title": {
            "standoff": 15
           },
           "zerolinecolor": "white",
           "zerolinewidth": 2
          },
          "yaxis": {
           "automargin": true,
           "gridcolor": "white",
           "linecolor": "white",
           "ticks": "",
           "title": {
            "standoff": 15
           },
           "zerolinecolor": "white",
           "zerolinewidth": 2
          }
         }
        },
        "title": {
         "text": "Class Percentage"
        },
        "width": 900
       }
      },
      "text/html": [
       "<div>                            <div id=\"eb230933-e4e6-4605-8baf-6c3c75b5a775\" class=\"plotly-graph-div\" style=\"height:700px; width:900px;\"></div>            <script type=\"text/javascript\">                require([\"plotly\"], function(Plotly) {                    window.PLOTLYENV=window.PLOTLYENV || {};                                    if (document.getElementById(\"eb230933-e4e6-4605-8baf-6c3c75b5a775\")) {                    Plotly.newPlot(                        \"eb230933-e4e6-4605-8baf-6c3c75b5a775\",                        [{\"hole\":0.5,\"labels\":[\"Y\",\"N\",\"P\"],\"values\":[844,103,53],\"type\":\"pie\"}],                        {\"template\":{\"data\":{\"histogram2dcontour\":[{\"type\":\"histogram2dcontour\",\"colorbar\":{\"outlinewidth\":0,\"ticks\":\"\"},\"colorscale\":[[0.0,\"#0d0887\"],[0.1111111111111111,\"#46039f\"],[0.2222222222222222,\"#7201a8\"],[0.3333333333333333,\"#9c179e\"],[0.4444444444444444,\"#bd3786\"],[0.5555555555555556,\"#d8576b\"],[0.6666666666666666,\"#ed7953\"],[0.7777777777777778,\"#fb9f3a\"],[0.8888888888888888,\"#fdca26\"],[1.0,\"#f0f921\"]]}],\"choropleth\":[{\"type\":\"choropleth\",\"colorbar\":{\"outlinewidth\":0,\"ticks\":\"\"}}],\"histogram2d\":[{\"type\":\"histogram2d\",\"colorbar\":{\"outlinewidth\":0,\"ticks\":\"\"},\"colorscale\":[[0.0,\"#0d0887\"],[0.1111111111111111,\"#46039f\"],[0.2222222222222222,\"#7201a8\"],[0.3333333333333333,\"#9c179e\"],[0.4444444444444444,\"#bd3786\"],[0.5555555555555556,\"#d8576b\"],[0.6666666666666666,\"#ed7953\"],[0.7777777777777778,\"#fb9f3a\"],[0.8888888888888888,\"#fdca26\"],[1.0,\"#f0f921\"]]}],\"heatmap\":[{\"type\":\"heatmap\",\"colorbar\":{\"outlinewidth\":0,\"ticks\":\"\"},\"colorscale\":[[0.0,\"#0d0887\"],[0.1111111111111111,\"#46039f\"],[0.2222222222222222,\"#7201a8\"],[0.3333333333333333,\"#9c179e\"],[0.4444444444444444,\"#bd3786\"],[0.5555555555555556,\"#d8576b\"],[0.6666666666666666,\"#ed7953\"],[0.7777777777777778,\"#fb9f3a\"],[0.8888888888888888,\"#fdca26\"],[1.0,\"#f0f921\"]]}],\"heatmapgl\":[{\"type\":\"heatmapgl\",\"colorbar\":{\"outlinewidth\":0,\"ticks\":\"\"},\"colorscale\":[[0.0,\"#0d0887\"],[0.1111111111111111,\"#46039f\"],[0.2222222222222222,\"#7201a8\"],[0.3333333333333333,\"#9c179e\"],[0.4444444444444444,\"#bd3786\"],[0.5555555555555556,\"#d8576b\"],[0.6666666666666666,\"#ed7953\"],[0.7777777777777778,\"#fb9f3a\"],[0.8888888888888888,\"#fdca26\"],[1.0,\"#f0f921\"]]}],\"contourcarpet\":[{\"type\":\"contourcarpet\",\"colorbar\":{\"outlinewidth\":0,\"ticks\":\"\"}}],\"contour\":[{\"type\":\"contour\",\"colorbar\":{\"outlinewidth\":0,\"ticks\":\"\"},\"colorscale\":[[0.0,\"#0d0887\"],[0.1111111111111111,\"#46039f\"],[0.2222222222222222,\"#7201a8\"],[0.3333333333333333,\"#9c179e\"],[0.4444444444444444,\"#bd3786\"],[0.5555555555555556,\"#d8576b\"],[0.6666666666666666,\"#ed7953\"],[0.7777777777777778,\"#fb9f3a\"],[0.8888888888888888,\"#fdca26\"],[1.0,\"#f0f921\"]]}],\"surface\":[{\"type\":\"surface\",\"colorbar\":{\"outlinewidth\":0,\"ticks\":\"\"},\"colorscale\":[[0.0,\"#0d0887\"],[0.1111111111111111,\"#46039f\"],[0.2222222222222222,\"#7201a8\"],[0.3333333333333333,\"#9c179e\"],[0.4444444444444444,\"#bd3786\"],[0.5555555555555556,\"#d8576b\"],[0.6666666666666666,\"#ed7953\"],[0.7777777777777778,\"#fb9f3a\"],[0.8888888888888888,\"#fdca26\"],[1.0,\"#f0f921\"]]}],\"mesh3d\":[{\"type\":\"mesh3d\",\"colorbar\":{\"outlinewidth\":0,\"ticks\":\"\"}}],\"scatter\":[{\"fillpattern\":{\"fillmode\":\"overlay\",\"size\":10,\"solidity\":0.2},\"type\":\"scatter\"}],\"parcoords\":[{\"type\":\"parcoords\",\"line\":{\"colorbar\":{\"outlinewidth\":0,\"ticks\":\"\"}}}],\"scatterpolargl\":[{\"type\":\"scatterpolargl\",\"marker\":{\"colorbar\":{\"outlinewidth\":0,\"ticks\":\"\"}}}],\"bar\":[{\"error_x\":{\"color\":\"#2a3f5f\"},\"error_y\":{\"color\":\"#2a3f5f\"},\"marker\":{\"line\":{\"color\":\"#E5ECF6\",\"width\":0.5},\"pattern\":{\"fillmode\":\"overlay\",\"size\":10,\"solidity\":0.2}},\"type\":\"bar\"}],\"scattergeo\":[{\"type\":\"scattergeo\",\"marker\":{\"colorbar\":{\"outlinewidth\":0,\"ticks\":\"\"}}}],\"scatterpolar\":[{\"type\":\"scatterpolar\",\"marker\":{\"colorbar\":{\"outlinewidth\":0,\"ticks\":\"\"}}}],\"histogram\":[{\"marker\":{\"pattern\":{\"fillmode\":\"overlay\",\"size\":10,\"solidity\":0.2}},\"type\":\"histogram\"}],\"scattergl\":[{\"type\":\"scattergl\",\"marker\":{\"colorbar\":{\"outlinewidth\":0,\"ticks\":\"\"}}}],\"scatter3d\":[{\"type\":\"scatter3d\",\"line\":{\"colorbar\":{\"outlinewidth\":0,\"ticks\":\"\"}},\"marker\":{\"colorbar\":{\"outlinewidth\":0,\"ticks\":\"\"}}}],\"scattermapbox\":[{\"type\":\"scattermapbox\",\"marker\":{\"colorbar\":{\"outlinewidth\":0,\"ticks\":\"\"}}}],\"scatterternary\":[{\"type\":\"scatterternary\",\"marker\":{\"colorbar\":{\"outlinewidth\":0,\"ticks\":\"\"}}}],\"scattercarpet\":[{\"type\":\"scattercarpet\",\"marker\":{\"colorbar\":{\"outlinewidth\":0,\"ticks\":\"\"}}}],\"carpet\":[{\"aaxis\":{\"endlinecolor\":\"#2a3f5f\",\"gridcolor\":\"white\",\"linecolor\":\"white\",\"minorgridcolor\":\"white\",\"startlinecolor\":\"#2a3f5f\"},\"baxis\":{\"endlinecolor\":\"#2a3f5f\",\"gridcolor\":\"white\",\"linecolor\":\"white\",\"minorgridcolor\":\"white\",\"startlinecolor\":\"#2a3f5f\"},\"type\":\"carpet\"}],\"table\":[{\"cells\":{\"fill\":{\"color\":\"#EBF0F8\"},\"line\":{\"color\":\"white\"}},\"header\":{\"fill\":{\"color\":\"#C8D4E3\"},\"line\":{\"color\":\"white\"}},\"type\":\"table\"}],\"barpolar\":[{\"marker\":{\"line\":{\"color\":\"#E5ECF6\",\"width\":0.5},\"pattern\":{\"fillmode\":\"overlay\",\"size\":10,\"solidity\":0.2}},\"type\":\"barpolar\"}],\"pie\":[{\"automargin\":true,\"type\":\"pie\"}]},\"layout\":{\"autotypenumbers\":\"strict\",\"colorway\":[\"#636efa\",\"#EF553B\",\"#00cc96\",\"#ab63fa\",\"#FFA15A\",\"#19d3f3\",\"#FF6692\",\"#B6E880\",\"#FF97FF\",\"#FECB52\"],\"font\":{\"color\":\"#2a3f5f\"},\"hovermode\":\"closest\",\"hoverlabel\":{\"align\":\"left\"},\"paper_bgcolor\":\"white\",\"plot_bgcolor\":\"#E5ECF6\",\"polar\":{\"bgcolor\":\"#E5ECF6\",\"angularaxis\":{\"gridcolor\":\"white\",\"linecolor\":\"white\",\"ticks\":\"\"},\"radialaxis\":{\"gridcolor\":\"white\",\"linecolor\":\"white\",\"ticks\":\"\"}},\"ternary\":{\"bgcolor\":\"#E5ECF6\",\"aaxis\":{\"gridcolor\":\"white\",\"linecolor\":\"white\",\"ticks\":\"\"},\"baxis\":{\"gridcolor\":\"white\",\"linecolor\":\"white\",\"ticks\":\"\"},\"caxis\":{\"gridcolor\":\"white\",\"linecolor\":\"white\",\"ticks\":\"\"}},\"coloraxis\":{\"colorbar\":{\"outlinewidth\":0,\"ticks\":\"\"}},\"colorscale\":{\"sequential\":[[0.0,\"#0d0887\"],[0.1111111111111111,\"#46039f\"],[0.2222222222222222,\"#7201a8\"],[0.3333333333333333,\"#9c179e\"],[0.4444444444444444,\"#bd3786\"],[0.5555555555555556,\"#d8576b\"],[0.6666666666666666,\"#ed7953\"],[0.7777777777777778,\"#fb9f3a\"],[0.8888888888888888,\"#fdca26\"],[1.0,\"#f0f921\"]],\"sequentialminus\":[[0.0,\"#0d0887\"],[0.1111111111111111,\"#46039f\"],[0.2222222222222222,\"#7201a8\"],[0.3333333333333333,\"#9c179e\"],[0.4444444444444444,\"#bd3786\"],[0.5555555555555556,\"#d8576b\"],[0.6666666666666666,\"#ed7953\"],[0.7777777777777778,\"#fb9f3a\"],[0.8888888888888888,\"#fdca26\"],[1.0,\"#f0f921\"]],\"diverging\":[[0,\"#8e0152\"],[0.1,\"#c51b7d\"],[0.2,\"#de77ae\"],[0.3,\"#f1b6da\"],[0.4,\"#fde0ef\"],[0.5,\"#f7f7f7\"],[0.6,\"#e6f5d0\"],[0.7,\"#b8e186\"],[0.8,\"#7fbc41\"],[0.9,\"#4d9221\"],[1,\"#276419\"]]},\"xaxis\":{\"gridcolor\":\"white\",\"linecolor\":\"white\",\"ticks\":\"\",\"title\":{\"standoff\":15},\"zerolinecolor\":\"white\",\"automargin\":true,\"zerolinewidth\":2},\"yaxis\":{\"gridcolor\":\"white\",\"linecolor\":\"white\",\"ticks\":\"\",\"title\":{\"standoff\":15},\"zerolinecolor\":\"white\",\"automargin\":true,\"zerolinewidth\":2},\"scene\":{\"xaxis\":{\"backgroundcolor\":\"#E5ECF6\",\"gridcolor\":\"white\",\"linecolor\":\"white\",\"showbackground\":true,\"ticks\":\"\",\"zerolinecolor\":\"white\",\"gridwidth\":2},\"yaxis\":{\"backgroundcolor\":\"#E5ECF6\",\"gridcolor\":\"white\",\"linecolor\":\"white\",\"showbackground\":true,\"ticks\":\"\",\"zerolinecolor\":\"white\",\"gridwidth\":2},\"zaxis\":{\"backgroundcolor\":\"#E5ECF6\",\"gridcolor\":\"white\",\"linecolor\":\"white\",\"showbackground\":true,\"ticks\":\"\",\"zerolinecolor\":\"white\",\"gridwidth\":2}},\"shapedefaults\":{\"line\":{\"color\":\"#2a3f5f\"}},\"annotationdefaults\":{\"arrowcolor\":\"#2a3f5f\",\"arrowhead\":0,\"arrowwidth\":1},\"geo\":{\"bgcolor\":\"white\",\"landcolor\":\"#E5ECF6\",\"subunitcolor\":\"white\",\"showland\":true,\"showlakes\":true,\"lakecolor\":\"white\"},\"title\":{\"x\":0.05},\"mapbox\":{\"style\":\"light\"}}},\"title\":{\"text\":\"Class Percentage\"},\"width\":900,\"height\":700},                        {\"responsive\": true}                    ).then(function(){\n",
       "                            \n",
       "var gd = document.getElementById('eb230933-e4e6-4605-8baf-6c3c75b5a775');\n",
       "var x = new MutationObserver(function (mutations, observer) {{\n",
       "        var display = window.getComputedStyle(gd).display;\n",
       "        if (!display || display === 'none') {{\n",
       "            console.log([gd, 'removed!']);\n",
       "            Plotly.purge(gd);\n",
       "            observer.disconnect();\n",
       "        }}\n",
       "}});\n",
       "\n",
       "// Listen for the removal of the full notebook cells\n",
       "var notebookContainer = gd.closest('#notebook-container');\n",
       "if (notebookContainer) {{\n",
       "    x.observe(notebookContainer, {childList: true});\n",
       "}}\n",
       "\n",
       "// Listen for the clearing of the current output cell\n",
       "var outputEl = gd.closest('.output');\n",
       "if (outputEl) {{\n",
       "    x.observe(outputEl, {childList: true});\n",
       "}}\n",
       "\n",
       "                        })                };                });            </script>        </div>"
      ]
     },
     "metadata": {},
     "output_type": "display_data"
    }
   ],
   "source": [
    "#Class Size Percentage\n",
    "\n",
    "%matplotlib inline\n",
    "import plotly.graph_objects as go \n",
    "\n",
    "lab = df['CLASS'].unique()[::-1]\n",
    "\n",
    "lab[1],lab[2] = lab[2],lab[1]\n",
    "\n",
    "val = df['CLASS'].value_counts() \n",
    "\n",
    "\n",
    "\n",
    "\n",
    "\n",
    "fig = go.Figure(data=[go.Pie(labels = lab, values = val, hole = 0.5)])\n",
    "\n",
    "fig.update_layout(title=\"Class Percentage\", width = 900, height = 700)\n",
    "\n",
    "fig.show()\n",
    "\n",
    "\n"
   ]
  },
  {
   "cell_type": "markdown",
   "id": "47fd9ef1",
   "metadata": {},
   "source": [
    "Class Balancing "
   ]
  },
  {
   "cell_type": "code",
   "execution_count": 70,
   "id": "74ea75e2",
   "metadata": {},
   "outputs": [
    {
     "name": "stdout",
     "output_type": "stream",
     "text": [
      "Y    100\n",
      "P     97\n",
      "N     96\n",
      "Name: CLASS, dtype: int64\n",
      "Gender  AGE  Urea      Cr   HbA1c      Chol      TG        HDL       LDL       VLDL      BMI      \n",
      "1       31   3.400000  55   5.700000   4.900000  1.600000  1.000000  3.200000  0.700000  24.000000    4\n",
      "        54   4.200000  48   6.500000   2.400000  1.000000  1.000000  0.900000  0.700000  33.000000    3\n",
      "0       50   4.700000  46   4.900000   4.200000  0.900000  2.400000  1.400000  0.500000  24.000000    3\n",
      "        30   5.700000  53   6.000000   5.400000  1.700000  1.400000  3.300000  0.700000  22.000000    3\n",
      "1       55   5.400000  56   7.900000   4.900000  2.100000  1.100000  2.500000  0.900000  28.000000    3\n",
      "                                                                                                     ..\n",
      "0       53   4.063518  32   10.536482  3.897757  1.883353  1.165762  1.922078  1.646399  26.707202    1\n",
      "        54   3.800000  32   10.800000  3.400000  0.800000  1.400000  1.600000  1.500000  27.000000    1\n",
      "             4.136458  102  5.882161   6.107943  3.362891  1.268880  3.523177  1.354297  27.072916    1\n",
      "             5.000000  88   6.800000   5.100000  2.100000  1.100000  3.000000  1.000000  30.000000    1\n",
      "1       77   5.000000  106  5.400000   0.000000  2.800000  0.800000  1.800000  0.700000  19.000000    1\n",
      "Length: 261, dtype: int64\n",
      "0      N\n",
      "1      N\n",
      "2      N\n",
      "3      N\n",
      "4      N\n",
      "      ..\n",
      "288    Y\n",
      "289    Y\n",
      "290    Y\n",
      "291    Y\n",
      "292    Y\n",
      "Name: CLASS, Length: 293, dtype: object\n",
      "Index(['CLASS'], dtype='object')\n",
      "(293, 11)\n"
     ]
    }
   ],
   "source": [
    "from imblearn.combine import SMOTETomek\n",
    "from imblearn.under_sampling import RandomUnderSampler\n",
    "from imblearn.pipeline import Pipeline\n",
    "import pandas as pd\n",
    "\n",
    "\n",
    "# Split dataset into features and target class\n",
    "X = df.drop(columns= ['CLASS', 'No_Pation', 'ID'], axis=1)\n",
    "y = df['CLASS']\n",
    "\n",
    "# Define the under-sampling and over-sampling methods\n",
    "undersample = RandomUnderSampler(sampling_strategy='majority', random_state = 10)\n",
    "oversample = SMOTETomek(sampling_strategy='auto', random_state = 10)\n",
    "\n",
    "# Define the pipeline to combine the under-sampling and over-sampling methods\n",
    "pipeline = Pipeline(steps=[('u', undersample), ('o', oversample)])\n",
    "\n",
    "# Fit and transform the dataset using the pipeline\n",
    "X_resampled, y_resampled = pipeline.fit_resample(X, y)\n",
    "\n",
    "print(y_resampled.value_counts())\n",
    "print(X_resampled.value_counts())\n",
    "\n",
    "print(y_resampled)\n",
    "print(pd.DataFrame(y_resampled).columns)\n",
    "\n",
    "print(X_resampled.shape)\n"
   ]
  },
  {
   "cell_type": "code",
   "execution_count": 71,
   "id": "a7d2a166",
   "metadata": {},
   "outputs": [
    {
     "data": {
      "text/html": [
       "<div>\n",
       "<style scoped>\n",
       "    .dataframe tbody tr th:only-of-type {\n",
       "        vertical-align: middle;\n",
       "    }\n",
       "\n",
       "    .dataframe tbody tr th {\n",
       "        vertical-align: top;\n",
       "    }\n",
       "\n",
       "    .dataframe thead th {\n",
       "        text-align: right;\n",
       "    }\n",
       "</style>\n",
       "<table border=\"1\" class=\"dataframe\">\n",
       "  <thead>\n",
       "    <tr style=\"text-align: right;\">\n",
       "      <th></th>\n",
       "      <th>N</th>\n",
       "      <th>P</th>\n",
       "      <th>Y</th>\n",
       "    </tr>\n",
       "  </thead>\n",
       "  <tbody>\n",
       "    <tr>\n",
       "      <th>0</th>\n",
       "      <td>1</td>\n",
       "      <td>0</td>\n",
       "      <td>0</td>\n",
       "    </tr>\n",
       "    <tr>\n",
       "      <th>1</th>\n",
       "      <td>1</td>\n",
       "      <td>0</td>\n",
       "      <td>0</td>\n",
       "    </tr>\n",
       "    <tr>\n",
       "      <th>2</th>\n",
       "      <td>1</td>\n",
       "      <td>0</td>\n",
       "      <td>0</td>\n",
       "    </tr>\n",
       "    <tr>\n",
       "      <th>3</th>\n",
       "      <td>1</td>\n",
       "      <td>0</td>\n",
       "      <td>0</td>\n",
       "    </tr>\n",
       "    <tr>\n",
       "      <th>4</th>\n",
       "      <td>1</td>\n",
       "      <td>0</td>\n",
       "      <td>0</td>\n",
       "    </tr>\n",
       "    <tr>\n",
       "      <th>...</th>\n",
       "      <td>...</td>\n",
       "      <td>...</td>\n",
       "      <td>...</td>\n",
       "    </tr>\n",
       "    <tr>\n",
       "      <th>288</th>\n",
       "      <td>0</td>\n",
       "      <td>0</td>\n",
       "      <td>1</td>\n",
       "    </tr>\n",
       "    <tr>\n",
       "      <th>289</th>\n",
       "      <td>0</td>\n",
       "      <td>0</td>\n",
       "      <td>1</td>\n",
       "    </tr>\n",
       "    <tr>\n",
       "      <th>290</th>\n",
       "      <td>0</td>\n",
       "      <td>0</td>\n",
       "      <td>1</td>\n",
       "    </tr>\n",
       "    <tr>\n",
       "      <th>291</th>\n",
       "      <td>0</td>\n",
       "      <td>0</td>\n",
       "      <td>1</td>\n",
       "    </tr>\n",
       "    <tr>\n",
       "      <th>292</th>\n",
       "      <td>0</td>\n",
       "      <td>0</td>\n",
       "      <td>1</td>\n",
       "    </tr>\n",
       "  </tbody>\n",
       "</table>\n",
       "<p>293 rows × 3 columns</p>\n",
       "</div>"
      ],
      "text/plain": [
       "     N  P  Y\n",
       "0    1  0  0\n",
       "1    1  0  0\n",
       "2    1  0  0\n",
       "3    1  0  0\n",
       "4    1  0  0\n",
       "..  .. .. ..\n",
       "288  0  0  1\n",
       "289  0  0  1\n",
       "290  0  0  1\n",
       "291  0  0  1\n",
       "292  0  0  1\n",
       "\n",
       "[293 rows x 3 columns]"
      ]
     },
     "metadata": {},
     "output_type": "display_data"
    }
   ],
   "source": [
    "#Class encoding- balanced data\n",
    "\n",
    "\n",
    "y_resampled = pd.get_dummies(y_resampled)\n",
    "\n",
    "display(y_resampled)\n"
   ]
  },
  {
   "cell_type": "markdown",
   "id": "85dd9c1b",
   "metadata": {},
   "source": [
    "# Predicting Diabetes Class"
   ]
  },
  {
   "cell_type": "code",
   "execution_count": 72,
   "id": "77b70161",
   "metadata": {},
   "outputs": [
    {
     "data": {
      "image/png": "[encoded data removed]",
      "text/plain": [
       "<Figure size 640x480 with 1 Axes>"
      ]
     },
     "metadata": {},
     "output_type": "display_data"
    }
   ],
   "source": [
    "# Checking for Feature Importance with non-normalized balanced data\n",
    "\n",
    "from sklearn.ensemble import RandomForestClassifier\n",
    "import numpy as np\n",
    "import matplotlib.pyplot as plt\n",
    "\n",
    "x = X_resampled\n",
    "y = y_resampled\n",
    "\n",
    "rf = RandomForestClassifier(random_state=1, max_depth=4)\n",
    "\n",
    "rf.fit(x,y)\n",
    "\n",
    "train_features = x.columns\n",
    "\n",
    "importance = rf.feature_importances_\n",
    "indices = np.argsort(importance)[-4:]\n",
    "plt.title('Feature Importance without Normalization')\n",
    "plt.barh(range(len(indices)), importance[indices], color='b', align='center')\n",
    "plt.yticks(range(len(indices)), [train_features[i] for i in indices])\n",
    "plt.xlabel('Relative Importance')\n",
    "plt.show()"
   ]
  },
  {
   "cell_type": "code",
   "execution_count": 73,
   "id": "eb952a4c",
   "metadata": {
    "scrolled": true
   },
   "outputs": [
    {
     "name": "stdout",
     "output_type": "stream",
     "text": [
      "(293, 3) (293, 3)\n",
      "             0          1     2\n",
      "0     4.900000  24.000000  50.0\n",
      "1     4.900000  23.000000  26.0\n",
      "2     4.900000  24.000000  50.0\n",
      "3     4.900000  24.000000  50.0\n",
      "4     4.900000  21.000000  33.0\n",
      "..         ...        ...   ...\n",
      "288  11.472497  31.000000  56.0\n",
      "289   9.390089  32.677679  72.0\n",
      "290  11.413554  31.090363  55.0\n",
      "291   9.771269  29.559391  55.0\n",
      "292   8.176596  27.046955  52.0\n",
      "\n",
      "[293 rows x 3 columns]\n"
     ]
    },
    {
     "name": "stderr",
     "output_type": "stream",
     "text": [
      "C:\\Users\\Jude\\anaconda3\\lib\\site-packages\\sklearn\\metrics\\_classification.py:1609: UndefinedMetricWarning:\n",
      "\n",
      "F-score is ill-defined and being set to 0.0 in labels with no true nor predicted samples. Use `zero_division` parameter to control this behavior.\n",
      "\n",
      "C:\\Users\\Jude\\anaconda3\\lib\\site-packages\\sklearn\\metrics\\_classification.py:1609: UndefinedMetricWarning:\n",
      "\n",
      "F-score is ill-defined and being set to 0.0 in labels with no true nor predicted samples. Use `zero_division` parameter to control this behavior.\n",
      "\n"
     ]
    },
    {
     "name": "stdout",
     "output_type": "stream",
     "text": [
      "The model has an accuracy score of 93.18% on test sample\n",
      "The model has a precision score of 97.90% on test sample\n",
      "The model has a recall score of 93.18% on test sample\n",
      "The model has a f1 score of 95.21% on test sample\n",
      "---------------------------\n",
      "The model has an accuracy score of 99.51% on training sample\n",
      "The model has a precision score of 99.52% on training sample\n",
      "The model has a recall score of 99.51% on training sample\n",
      "The model has a f1 score of 99.51% on training sample\n",
      "[0.32463768 0.61458333 0.6435683  0.65379065 0.61574074]\n",
      "---------------------------\n",
      "Confusion matrix for the three possible predictions on training data are:\n",
      "\n",
      " [[[134   1]\n",
      "  [  0  70]]\n",
      "\n",
      " [[132   0]\n",
      "  [  0  73]]\n",
      "\n",
      " [[143   0]\n",
      "  [  1  61]]]\n",
      "---------------------------\n",
      "Confusion matrix for the three possible predictions on test data are:\n",
      "\n",
      " [[[62  0]\n",
      "  [ 0 26]]\n",
      "\n",
      " [[62  2]\n",
      "  [ 0 24]]\n",
      "\n",
      " [[50  0]\n",
      "  [ 6 32]]]\n"
     ]
    },
    {
     "name": "stderr",
     "output_type": "stream",
     "text": [
      "C:\\Users\\Jude\\anaconda3\\lib\\site-packages\\sklearn\\metrics\\_classification.py:1609: UndefinedMetricWarning:\n",
      "\n",
      "F-score is ill-defined and being set to 0.0 in labels with no true nor predicted samples. Use `zero_division` parameter to control this behavior.\n",
      "\n"
     ]
    }
   ],
   "source": [
    "#Modeling with Random Forest\n",
    "\n",
    "\n",
    "from sklearn.model_selection import train_test_split, cross_val_score\n",
    "from sklearn.ensemble import RandomForestClassifier\n",
    "from sklearn.metrics import accuracy_score, recall_score, precision_score, f1_score, multilabel_confusion_matrix\n",
    "\n",
    "\n",
    "x = X_resampled[['HbA1c', 'BMI', 'AGE']].values\n",
    "\n",
    "\n",
    "y = y_resampled.values\n",
    "\n",
    "print(x.shape, y.shape)\n",
    "\n",
    "print(pd.DataFrame(x))\n",
    "\n",
    "X_train, X_test, y_train, y_test = train_test_split(x,y, test_size = 0.3, \n",
    "                                                    random_state = 10)\n",
    "\n",
    "rc = RandomForestClassifier()\n",
    "rc.fit(X_train,y_train)\n",
    "\n",
    "y_pred = rc.predict(X_test)\n",
    "y_pred_t = rc.predict(X_train)\n",
    "\n",
    "\n",
    "\n",
    "acc = accuracy_score(y_test, y_pred)\n",
    "prec = precision_score(y_test, y_pred, average = 'weighted')\n",
    "rec = recall_score(y_test, y_pred, average = 'weighted')\n",
    "f1score = f1_score(y_test, y_pred, average = 'weighted')\n",
    "\n",
    "cv_score = cross_val_score(rc, x, y, cv=5, scoring='f1_macro')\n",
    "\n",
    "\n",
    "print('The model has an accuracy score of {:.2f}% on test sample'.format(acc*100))\n",
    "print('The model has a precision score of {:.2f}% on test sample'.format(prec*100))\n",
    "print('The model has a recall score of {:.2f}% on test sample'.format(rec*100))\n",
    "print('The model has a f1 score of {:.2f}% on test sample'.format(f1score*100))\n",
    "\n",
    "print('---------------------------')\n",
    "\n",
    "acc_1 = accuracy_score(y_train, y_pred_t)\n",
    "prec_1 = precision_score(y_train, y_pred_t, average = 'weighted')\n",
    "rec_1 = recall_score(y_train, y_pred_t, average = 'weighted')\n",
    "f1score_1 = f1_score(y_train, y_pred_t, average = 'weighted')\n",
    "\n",
    "\n",
    "print('The model has an accuracy score of {:.2f}% on training sample'.format(acc_1*100))\n",
    "print('The model has a precision score of {:.2f}% on training sample'.format(prec_1*100))\n",
    "print('The model has a recall score of {:.2f}% on training sample'.format(rec_1*100))\n",
    "print('The model has a f1 score of {:.2f}% on training sample'.format(f1score_1*100))\n",
    "print(cv_score)\n",
    "\n",
    "print('---------------------------')\n",
    "\n",
    "print(f'Confusion matrix for the three possible predictions on training data are:\\n\\n {multilabel_confusion_matrix(y_train, y_pred_t)}')\n",
    "print('---------------------------')\n",
    "print(f'Confusion matrix for the three possible predictions on test data are:\\n\\n {multilabel_confusion_matrix(y_test, y_pred)}')\n",
    "\n"
   ]
  },
  {
   "cell_type": "markdown",
   "id": "c89eb849",
   "metadata": {},
   "source": [
    "Random Forest overfits on the training data, showing a very low cross validation score, so we try other models"
   ]
  },
  {
   "cell_type": "code",
   "execution_count": 74,
   "id": "90f393a1",
   "metadata": {},
   "outputs": [
    {
     "name": "stdout",
     "output_type": "stream",
     "text": [
      "(293, 3) (293,)\n",
      "\n",
      "..........................\n",
      "\n",
      "\n",
      "..........................\n",
      "\n",
      "\n",
      "..........................\n",
      "\n",
      "\n",
      "..........................\n",
      "\n",
      "\n",
      "..........................\n",
      "\n",
      "\n",
      "..........................\n",
      "\n"
     ]
    },
    {
     "name": "stderr",
     "output_type": "stream",
     "text": [
      "C:\\Users\\Jude\\anaconda3\\lib\\site-packages\\sklearn\\linear_model\\_logistic.py:458: ConvergenceWarning:\n",
      "\n",
      "lbfgs failed to converge (status=1):\n",
      "STOP: TOTAL NO. of ITERATIONS REACHED LIMIT.\n",
      "\n",
      "Increase the number of iterations (max_iter) or scale the data as shown in:\n",
      "    https://scikit-learn.org/stable/modules/preprocessing.html\n",
      "Please also refer to the documentation for alternative solver options:\n",
      "    https://scikit-learn.org/stable/modules/linear_model.html#logistic-regression\n",
      "\n",
      "C:\\Users\\Jude\\anaconda3\\lib\\site-packages\\sklearn\\linear_model\\_logistic.py:458: ConvergenceWarning:\n",
      "\n",
      "lbfgs failed to converge (status=1):\n",
      "STOP: TOTAL NO. of ITERATIONS REACHED LIMIT.\n",
      "\n",
      "Increase the number of iterations (max_iter) or scale the data as shown in:\n",
      "    https://scikit-learn.org/stable/modules/preprocessing.html\n",
      "Please also refer to the documentation for alternative solver options:\n",
      "    https://scikit-learn.org/stable/modules/linear_model.html#logistic-regression\n",
      "\n",
      "C:\\Users\\Jude\\anaconda3\\lib\\site-packages\\sklearn\\linear_model\\_logistic.py:458: ConvergenceWarning:\n",
      "\n",
      "lbfgs failed to converge (status=1):\n",
      "STOP: TOTAL NO. of ITERATIONS REACHED LIMIT.\n",
      "\n",
      "Increase the number of iterations (max_iter) or scale the data as shown in:\n",
      "    https://scikit-learn.org/stable/modules/preprocessing.html\n",
      "Please also refer to the documentation for alternative solver options:\n",
      "    https://scikit-learn.org/stable/modules/linear_model.html#logistic-regression\n",
      "\n",
      "C:\\Users\\Jude\\anaconda3\\lib\\site-packages\\sklearn\\linear_model\\_logistic.py:458: ConvergenceWarning:\n",
      "\n",
      "lbfgs failed to converge (status=1):\n",
      "STOP: TOTAL NO. of ITERATIONS REACHED LIMIT.\n",
      "\n",
      "Increase the number of iterations (max_iter) or scale the data as shown in:\n",
      "    https://scikit-learn.org/stable/modules/preprocessing.html\n",
      "Please also refer to the documentation for alternative solver options:\n",
      "    https://scikit-learn.org/stable/modules/linear_model.html#logistic-regression\n",
      "\n"
     ]
    },
    {
     "name": "stdout",
     "output_type": "stream",
     "text": [
      "Naive_Bayes model has an accuracy score of 48.86% on test sample\n",
      "Naive_Bayes has a precision score of 46.19% on test sample\n",
      "Naive_Bayes has a recall score of 48.86% on test sample\n",
      "Naive_Bayes has a f1 score of 46.60% on test sample\n",
      "Cross-validation scrore: [0.50228583 0.38493677 0.53400167 0.52790573 0.47208072]\n",
      "\n",
      "---------------------------\n",
      "\n",
      "SVC model has an accuracy score of 98.86% on test sample\n",
      "SVC has a precision score of 98.90% on test sample\n",
      "SVC has a recall score of 98.86% on test sample\n",
      "SVC has a f1 score of 98.86% on test sample\n",
      "Cross-validation scrore: [1.         0.98290598 0.9491453  0.96536212 0.96536212]\n",
      "\n",
      "---------------------------\n",
      "\n",
      "DecisionTree model has an accuracy score of 96.59% on test sample\n",
      "DecisionTree has a precision score of 96.70% on test sample\n",
      "DecisionTree has a recall score of 96.59% on test sample\n",
      "DecisionTree has a f1 score of 96.59% on test sample\n",
      "Cross-validation scrore: [0.96658312 0.98290598 0.96666667 1.         0.98290598]\n",
      "\n",
      "---------------------------\n",
      "\n",
      "LogisticRegression model has an accuracy score of 94.32% on test sample\n",
      "LogisticRegression has a precision score of 94.46% on test sample\n",
      "LogisticRegression has a recall score of 94.32% on test sample\n",
      "LogisticRegression has a f1 score of 94.33% on test sample\n",
      "Cross-validation scrore: [1.         0.94855295 0.91534392 0.91208791 0.91296296]\n",
      "\n",
      "---------------------------\n",
      "\n",
      "\n",
      "---------------------------\n",
      "\n",
      "\n",
      "---------------------------\n",
      "\n",
      "\n",
      "---------------------------\n",
      "\n",
      "\n",
      "---------------------------\n",
      "\n",
      "\n",
      "---------------------------\n",
      "\n",
      "Naive_Bayes model has an accuracy score of 46.83% on train sample\n",
      "Naive_Bayes has a precision score of 45.39% on train sample\n",
      "Naive_Bayes has a recall score of 46.83% on train sample\n",
      "Naive_Bayes has a f1 score of 45.31% on train sample\n",
      "\n",
      "---------------------------\n",
      "\n",
      "SVC model has an accuracy score of 98.05% on train sample\n",
      "SVC has a precision score of 98.10% on train sample\n",
      "SVC has a recall score of 98.05% on train sample\n",
      "SVC has a f1 score of 98.05% on train sample\n",
      "\n",
      "---------------------------\n",
      "\n",
      "DecisionTree model has an accuracy score of 99.51% on train sample\n",
      "DecisionTree has a precision score of 99.52% on train sample\n",
      "DecisionTree has a recall score of 99.51% on train sample\n",
      "DecisionTree has a f1 score of 99.51% on train sample\n",
      "\n",
      "---------------------------\n",
      "\n",
      "LogisticRegression model has an accuracy score of 93.17% on train sample\n",
      "LogisticRegression has a precision score of 93.48% on train sample\n",
      "LogisticRegression has a recall score of 93.17% on train sample\n",
      "LogisticRegression has a f1 score of 93.14% on train sample\n",
      "---------------------------\n",
      "Confusion matrix for the three possible predictions on test,using Naive Bayes, data are:\n",
      "\n",
      " [[[47 16]\n",
      "  [ 5 20]]\n",
      "\n",
      " [[45 14]\n",
      "  [23  6]]\n",
      "\n",
      " [[39 15]\n",
      "  [17 17]]]\n",
      "---------------------------\n",
      "---------------------------\n",
      "Confusion matrix for the three possible predictions on test,using SVC, data are:\n",
      "\n",
      " [[[63  0]\n",
      "  [ 0 25]]\n",
      "\n",
      " [[59  0]\n",
      "  [ 1 28]]\n",
      "\n",
      " [[53  1]\n",
      "  [ 0 34]]]\n",
      "---------------------------\n",
      "Confusion matrix for the three possible predictions on test,using Decision Tree, data are:\n",
      "\n",
      " [[[62  1]\n",
      "  [ 0 25]]\n",
      "\n",
      " [[59  0]\n",
      "  [ 2 27]]\n",
      "\n",
      " [[52  2]\n",
      "  [ 1 33]]]\n",
      "---------------------------\n",
      "Confusion matrix for the three possible predictions on test,using Logistic Regression, data are:\n",
      "\n",
      " [[[62  1]\n",
      "  [ 2 23]]\n",
      "\n",
      " [[56  3]\n",
      "  [ 1 28]]\n",
      "\n",
      " [[53  1]\n",
      "  [ 2 32]]]\n",
      "[0]\n"
     ]
    },
    {
     "name": "stderr",
     "output_type": "stream",
     "text": [
      "C:\\Users\\Jude\\anaconda3\\lib\\site-packages\\sklearn\\linear_model\\_logistic.py:458: ConvergenceWarning:\n",
      "\n",
      "lbfgs failed to converge (status=1):\n",
      "STOP: TOTAL NO. of ITERATIONS REACHED LIMIT.\n",
      "\n",
      "Increase the number of iterations (max_iter) or scale the data as shown in:\n",
      "    https://scikit-learn.org/stable/modules/preprocessing.html\n",
      "Please also refer to the documentation for alternative solver options:\n",
      "    https://scikit-learn.org/stable/modules/linear_model.html#logistic-regression\n",
      "\n",
      "C:\\Users\\Jude\\anaconda3\\lib\\site-packages\\sklearn\\linear_model\\_logistic.py:458: ConvergenceWarning:\n",
      "\n",
      "lbfgs failed to converge (status=1):\n",
      "STOP: TOTAL NO. of ITERATIONS REACHED LIMIT.\n",
      "\n",
      "Increase the number of iterations (max_iter) or scale the data as shown in:\n",
      "    https://scikit-learn.org/stable/modules/preprocessing.html\n",
      "Please also refer to the documentation for alternative solver options:\n",
      "    https://scikit-learn.org/stable/modules/linear_model.html#logistic-regression\n",
      "\n"
     ]
    }
   ],
   "source": [
    "#Modeling non-nomalized data with Naive Bayes, SVC, Decision Tree and Logistic Regression\n",
    "\n",
    "\n",
    "from sklearn.naive_bayes import MultinomialNB\n",
    "from sklearn.svm import SVC\n",
    "from sklearn.tree import DecisionTreeClassifier\n",
    "from sklearn.linear_model import LogisticRegression\n",
    "from sklearn.ensemble import VotingClassifier\n",
    "from sklearn.model_selection import train_test_split, cross_val_score\n",
    "from sklearn.metrics import accuracy_score, recall_score, precision_score, f1_score, multilabel_confusion_matrix\n",
    "\n",
    "clas_1 = MultinomialNB()\n",
    "clas_2 = SVC(kernel = 'linear', probability = True)\n",
    "clas_3 = DecisionTreeClassifier(max_depth = 10)\n",
    "clas_4 = LogisticRegression(multi_class='multinomial', solver='lbfgs')\n",
    "\n",
    "# vc = VotingClassifier(estimators = [(clas_1,clas_2,clas_3)], voting = 'soft')\n",
    "\n",
    "x = X_resampled[['HbA1c','BMI','AGE']].values\n",
    "\n",
    "\n",
    "\n",
    "\n",
    "y = np.argmax(y_resampled[['N','P','Y']].values, axis = 1)\n",
    "\n",
    "# print(y)\n",
    "\n",
    "\n",
    "\n",
    "print(x.shape, y.shape)\n",
    "\n",
    "\n",
    "\n",
    "X_train, X_test, y_train, y_test = train_test_split(x,y, test_size = 0.3, random_state = 100)\n",
    "\n",
    "\n",
    "clas_1.fit(X_train,y_train)\n",
    "clas_2.fit(X_train,y_train)\n",
    "clas_3.fit(X_train,y_train)\n",
    "clas_4.fit(X_train, y_train)\n",
    "\n",
    "y_pred_1 = clas_1.predict(X_test)\n",
    "y_pred_t_1 = clas_1.predict(X_train)\n",
    "\n",
    "print('\\n..........................\\n')\n",
    "\n",
    "y_pred_2 = clas_2.predict(X_test)\n",
    "y_pred_t_2 = clas_2.predict(X_train)\n",
    "\n",
    "print('\\n..........................\\n')\n",
    "\n",
    "y_pred_3 = clas_3.predict(X_test)\n",
    "y_pred_t_3 = clas_3.predict(X_train)\n",
    "\n",
    "\n",
    "print('\\n..........................\\n')\n",
    "\n",
    "y_pred_4 = clas_4.predict(X_test)\n",
    "y_pred_t_4 = clas_4.predict(X_train)\n",
    "\n",
    "\n",
    "# display(pd.DataFrame(y_pred).tail())\n",
    "\n",
    "acc1 = accuracy_score(y_test, y_pred_1)\n",
    "prec1 = precision_score(y_test, y_pred_1, average = 'weighted')\n",
    "rec1 = recall_score(y_test, y_pred_1, average = 'weighted')\n",
    "f1score1 = f1_score(y_test, y_pred_1, average = 'weighted')\n",
    "\n",
    "print('\\n..........................\\n')\n",
    "\n",
    "acc2 = accuracy_score(y_test, y_pred_2)\n",
    "prec2 = precision_score(y_test, y_pred_2, average = 'weighted')\n",
    "rec2 = recall_score(y_test, y_pred_2, average = 'weighted')\n",
    "f1score2 = f1_score(y_test, y_pred_2, average = 'weighted')\n",
    "\n",
    "print('\\n..........................\\n')\n",
    "\n",
    "acc3 = accuracy_score(y_test, y_pred_3)\n",
    "prec3 = precision_score(y_test, y_pred_3, average = 'weighted')\n",
    "rec3 = recall_score(y_test, y_pred_3, average = 'weighted')\n",
    "f1score3 = f1_score(y_test, y_pred_3, average = 'weighted')\n",
    "\n",
    "print('\\n..........................\\n')\n",
    "\n",
    "acc4 = accuracy_score(y_test, y_pred_4)\n",
    "prec4 = precision_score(y_test, y_pred_4, average = 'weighted')\n",
    "rec4 = recall_score(y_test, y_pred_4, average = 'weighted')\n",
    "f1score4 = f1_score(y_test, y_pred_4, average = 'weighted')\n",
    "\n",
    "cv_score1 = cross_val_score(clas_1, x, y, cv=5, scoring='f1_macro')\n",
    "cv_score2 = cross_val_score(clas_2, x, y, cv=5, scoring='f1_macro')\n",
    "cv_score3 = cross_val_score(clas_3, x, y, cv=5, scoring='f1_macro')\n",
    "cv_score4 = cross_val_score(clas_4, x, y, cv=5, scoring='f1_macro')\n",
    "\n",
    "\n",
    "\n",
    "print('Naive_Bayes model has an accuracy score of {:.2f}% on test sample'.format(acc1*100))\n",
    "print('Naive_Bayes has a precision score of {:.2f}% on test sample'.format(prec1*100))\n",
    "print('Naive_Bayes has a recall score of {:.2f}% on test sample'.format(rec1*100))\n",
    "print('Naive_Bayes has a f1 score of {:.2f}% on test sample'.format(f1score1*100))\n",
    "print(f'Cross-validation scrore: {cv_score1}')\n",
    "\n",
    "print('\\n---------------------------\\n')\n",
    "\n",
    "print('SVC model has an accuracy score of {:.2f}% on test sample'.format(acc2*100))\n",
    "print('SVC has a precision score of {:.2f}% on test sample'.format(prec2*100))\n",
    "print('SVC has a recall score of {:.2f}% on test sample'.format(rec2*100))\n",
    "print('SVC has a f1 score of {:.2f}% on test sample'.format(f1score2*100))\n",
    "print(f'Cross-validation scrore: {cv_score2}')\n",
    "\n",
    "print('\\n---------------------------\\n')\n",
    "\n",
    "print('DecisionTree model has an accuracy score of {:.2f}% on test sample'.format(acc3*100))\n",
    "print('DecisionTree has a precision score of {:.2f}% on test sample'.format(prec3*100))\n",
    "print('DecisionTree has a recall score of {:.2f}% on test sample'.format(rec3*100))\n",
    "print('DecisionTree has a f1 score of {:.2f}% on test sample'.format(f1score3*100))\n",
    "print(f'Cross-validation scrore: {cv_score3}')\n",
    "\n",
    "print('\\n---------------------------\\n')\n",
    "\n",
    "print('LogisticRegression model has an accuracy score of {:.2f}% on test sample'.format(acc4*100))\n",
    "print('LogisticRegression has a precision score of {:.2f}% on test sample'.format(prec4*100))\n",
    "print('LogisticRegression has a recall score of {:.2f}% on test sample'.format(rec4*100))\n",
    "print('LogisticRegression has a f1 score of {:.2f}% on test sample'.format(f1score4*100))\n",
    "print(f'Cross-validation scrore: {cv_score4}')\n",
    "\n",
    "print('\\n---------------------------\\n')\n",
    "print('\\n---------------------------\\n')\n",
    "\n",
    "acc_1 = accuracy_score(y_train, y_pred_t_1)\n",
    "prec_1 = precision_score(y_train, y_pred_t_1, average = 'weighted')\n",
    "rec_1 = recall_score(y_train, y_pred_t_1, average = 'weighted')\n",
    "f1score_1 = f1_score(y_train, y_pred_t_1, average = 'weighted')\n",
    "\n",
    "print('\\n---------------------------\\n')\n",
    "\n",
    "acc_2 = accuracy_score(y_train, y_pred_t_2)\n",
    "prec_2 = precision_score(y_train, y_pred_t_2, average = 'weighted')\n",
    "rec_2 = recall_score(y_train, y_pred_t_2, average = 'weighted')\n",
    "f1score_2 = f1_score(y_train, y_pred_t_2, average = 'weighted')\n",
    "\n",
    "print('\\n---------------------------\\n')\n",
    "\n",
    "acc_3 = accuracy_score(y_train, y_pred_t_3)\n",
    "prec_3 = precision_score(y_train, y_pred_t_3, average = 'weighted')\n",
    "rec_3 = recall_score(y_train, y_pred_t_3, average = 'weighted')\n",
    "f1score_3 = f1_score(y_train, y_pred_t_3, average = 'weighted')\n",
    "\n",
    "print('\\n---------------------------\\n')\n",
    "\n",
    "\n",
    "acc_4 = accuracy_score(y_train, y_pred_t_4)\n",
    "prec_4 = precision_score(y_train, y_pred_t_4, average = 'weighted')\n",
    "rec_4 = recall_score(y_train, y_pred_t_4, average = 'weighted')\n",
    "f1score_4 = f1_score(y_train, y_pred_t_4, average = 'weighted')\n",
    "\n",
    "print('\\n---------------------------\\n')\n",
    "\n",
    "\n",
    "print('Naive_Bayes model has an accuracy score of {:.2f}% on train sample'.format(acc_1*100))\n",
    "print('Naive_Bayes has a precision score of {:.2f}% on train sample'.format(prec_1*100))\n",
    "print('Naive_Bayes has a recall score of {:.2f}% on train sample'.format(rec_1*100))\n",
    "print('Naive_Bayes has a f1 score of {:.2f}% on train sample'.format(f1score_1*100))\n",
    "\n",
    "print('\\n---------------------------\\n')\n",
    "\n",
    "print('SVC model has an accuracy score of {:.2f}% on train sample'.format(acc_2*100))\n",
    "print('SVC has a precision score of {:.2f}% on train sample'.format(prec_2*100))\n",
    "print('SVC has a recall score of {:.2f}% on train sample'.format(rec_2*100))\n",
    "print('SVC has a f1 score of {:.2f}% on train sample'.format(f1score_2*100))\n",
    "\n",
    "print('\\n---------------------------\\n')\n",
    "\n",
    "print('DecisionTree model has an accuracy score of {:.2f}% on train sample'.format(acc_3*100))\n",
    "print('DecisionTree has a precision score of {:.2f}% on train sample'.format(prec_3*100))\n",
    "print('DecisionTree has a recall score of {:.2f}% on train sample'.format(rec_3*100))\n",
    "print('DecisionTree has a f1 score of {:.2f}% on train sample'.format(f1score_3*100))\n",
    "\n",
    "print('\\n---------------------------\\n')\n",
    "\n",
    "print('LogisticRegression model has an accuracy score of {:.2f}% on train sample'.format(acc_4*100))\n",
    "print('LogisticRegression has a precision score of {:.2f}% on train sample'.format(prec_4*100))\n",
    "print('LogisticRegression has a recall score of {:.2f}% on train sample'.format(rec_4*100))\n",
    "print('LogisticRegression has a f1 score of {:.2f}% on train sample'.format(f1score_4*100))\n",
    "\n",
    "print('---------------------------')\n",
    "\n",
    "# print(f'Confusion matrix for the three possible predictions on training data, using Naive Bayes, are:\\n\\n {multilabel_confusion_matrix(y_train, y_pred_t_1)}')\n",
    "\n",
    "print(f'Confusion matrix for the three possible predictions on test,using Naive Bayes, data are:\\n\\n {multilabel_confusion_matrix(y_test, y_pred_1)}')\n",
    "\n",
    "print('---------------------------')\n",
    "\n",
    "print('---------------------------')\n",
    "\n",
    "# print(f'Confusion matrix for the three possible predictions on training data, using SVC, are:\\n\\n {multilabel_confusion_matrix(y_train, y_pred_t_2)}')\n",
    "\n",
    "print(f'Confusion matrix for the three possible predictions on test,using SVC, data are:\\n\\n {multilabel_confusion_matrix(y_test, y_pred_2)}')\n",
    "\n",
    "print('---------------------------')\n",
    "\n",
    "# print(f'Confusion matrix for the three possible predictions on training data, using Decision Tree, are:\\n\\n {multilabel_confusion_matrix(y_train, y_pred_t_3)}')\n",
    "\n",
    "print(f'Confusion matrix for the three possible predictions on test,using Decision Tree, data are:\\n\\n {multilabel_confusion_matrix(y_test, y_pred_3)}')\n",
    "\n",
    "print('---------------------------')\n",
    "# print(f'Confusion matrix for the three possible predictions on training data, using Logistic Regression, are:\\n\\n {multilabel_confusion_matrix(y_train, y_pred_t_4)}')\n",
    "\n",
    "print(f'Confusion matrix for the three possible predictions on test,using Logistic Regression, data are:\\n\\n {multilabel_confusion_matrix(y_test, y_pred_4)}')\n",
    "\n",
    "\n",
    "pre = clas_4.predict([[4, 21, 43]])\n",
    "print(pre)"
   ]
  },
  {
   "cell_type": "code",
   "execution_count": 75,
   "id": "7bd68238",
   "metadata": {},
   "outputs": [
    {
     "data": {
      "image/png": "[encoded data removed]",
      "text/plain": [
       "<Figure size 640x480 with 2 Axes>"
      ]
     },
     "metadata": {},
     "output_type": "display_data"
    },
    {
     "data": {
      "image/png": "[encoded data removed]",
      "text/plain": [
       "<Figure size 640x480 with 2 Axes>"
      ]
     },
     "metadata": {},
     "output_type": "display_data"
    },
    {
     "data": {
      "image/png": "[encoded data removed]",
      "text/plain": [
       "<Figure size 640x480 with 2 Axes>"
      ]
     },
     "metadata": {},
     "output_type": "display_data"
    }
   ],
   "source": [
    "# Confusion matrix for LogisticRegression\n",
    "cm4 = multilabel_confusion_matrix(y_test, y_pred_4)\n",
    "\n",
    "# class_names = ['Positive', 'Negative']\n",
    "\n",
    "sns.heatmap(cm4[0], annot=True, cmap='Blues')\n",
    "\n",
    "\n",
    "plt.xlabel('Predicted labels')\n",
    "plt.ylabel('True labels')\n",
    "plt.title('Confusion Matrix Logistic Regression (Negative)')\n",
    "\n",
    "# Show plot\n",
    "plt.show()\n",
    "\n",
    "sns.heatmap(cm4[1], annot=True, cmap='coolwarm')\n",
    "plt.xlabel('Predicted labels')\n",
    "plt.ylabel('True labels')\n",
    "plt.title('Confusion Matrix Logistic Regression (Pred_positive)')\n",
    "\n",
    "# Show plot\n",
    "plt.show()\n",
    "\n",
    "sns.heatmap(cm4[2], annot=True, cmap='Greens')\n",
    "\n",
    "plt.xlabel('Predicted labels')\n",
    "plt.ylabel('True labels')\n",
    "plt.title('Confusion Matrix Logistic Regression (Positive)')\n",
    "\n",
    "# Show plot\n",
    "plt.show()"
   ]
  },
  {
   "cell_type": "code",
   "execution_count": 35,
   "id": "f483c778",
   "metadata": {},
   "outputs": [
    {
     "name": "stdout",
     "output_type": "stream",
     "text": [
      "Requirement already satisfied: gradio in c:\\users\\jude\\anaconda3\\lib\\site-packages (3.28.3)\n",
      "Requirement already satisfied: gradio-client>=0.1.3 in c:\\users\\jude\\anaconda3\\lib\\site-packages (from gradio) (0.2.0)\n",
      "Requirement already satisfied: python-multipart in c:\\users\\jude\\anaconda3\\lib\\site-packages (from gradio) (0.0.6)\n",
      "Requirement already satisfied: markdown-it-py[linkify]>=2.0.0 in c:\\users\\jude\\anaconda3\\lib\\site-packages (from gradio) (2.2.0)\n",
      "Requirement already satisfied: pydub in c:\\users\\jude\\anaconda3\\lib\\site-packages (from gradio) (0.25.1)\n",
      "Requirement already satisfied: websockets>=10.0 in c:\\users\\jude\\anaconda3\\lib\\site-packages (from gradio) (11.0.2)\n",
      "Requirement already satisfied: requests in c:\\users\\jude\\anaconda3\\lib\\site-packages (from gradio) (2.28.1)\n",
      "Requirement already satisfied: mdit-py-plugins<=0.3.3 in c:\\users\\jude\\anaconda3\\lib\\site-packages (from gradio) (0.3.3)\n",
      "Requirement already satisfied: uvicorn in c:\\users\\jude\\anaconda3\\lib\\site-packages (from gradio) (0.22.0)\n",
      "Requirement already satisfied: pillow in c:\\users\\jude\\anaconda3\\lib\\site-packages (from gradio) (9.4.0)\n",
      "Requirement already satisfied: aiofiles in c:\\users\\jude\\anaconda3\\lib\\site-packages (from gradio) (23.1.0)\n",
      "Requirement already satisfied: pandas in c:\\users\\jude\\anaconda3\\lib\\site-packages (from gradio) (1.5.3)\n",
      "Requirement already satisfied: orjson in c:\\users\\jude\\anaconda3\\lib\\site-packages (from gradio) (3.8.11)\n",
      "Requirement already satisfied: aiohttp in c:\\users\\jude\\anaconda3\\lib\\site-packages (from gradio) (3.8.4)\n",
      "Requirement already satisfied: jinja2 in c:\\users\\jude\\anaconda3\\lib\\site-packages (from gradio) (3.1.2)\n",
      "Requirement already satisfied: markupsafe in c:\\users\\jude\\anaconda3\\lib\\site-packages (from gradio) (2.1.1)\n",
      "Requirement already satisfied: fastapi in c:\\users\\jude\\anaconda3\\lib\\site-packages (from gradio) (0.95.1)\n",
      "Requirement already satisfied: matplotlib in c:\\users\\jude\\anaconda3\\lib\\site-packages (from gradio) (3.7.0)\n",
      "Requirement already satisfied: typing-extensions in c:\\users\\jude\\anaconda3\\lib\\site-packages (from gradio) (4.4.0)\n",
      "Requirement already satisfied: numpy in c:\\users\\jude\\anaconda3\\lib\\site-packages (from gradio) (1.23.5)\n",
      "Requirement already satisfied: pygments>=2.12.0 in c:\\users\\jude\\anaconda3\\lib\\site-packages (from gradio) (2.15.1)\n",
      "Requirement already satisfied: ffmpy in c:\\users\\jude\\anaconda3\\lib\\site-packages (from gradio) (0.3.0)\n",
      "Requirement already satisfied: huggingface-hub>=0.13.0 in c:\\users\\jude\\anaconda3\\lib\\site-packages (from gradio) (0.14.1)\n",
      "Requirement already satisfied: altair>=4.2.0 in c:\\users\\jude\\anaconda3\\lib\\site-packages (from gradio) (4.2.2)\n",
      "Requirement already satisfied: pyyaml in c:\\users\\jude\\anaconda3\\lib\\site-packages (from gradio) (6.0)\n",
      "Requirement already satisfied: pydantic in c:\\users\\jude\\anaconda3\\lib\\site-packages (from gradio) (1.10.7)\n",
      "Requirement already satisfied: httpx in c:\\users\\jude\\anaconda3\\lib\\site-packages (from gradio) (0.24.0)\n",
      "Requirement already satisfied: semantic-version in c:\\users\\jude\\anaconda3\\lib\\site-packages (from gradio) (2.10.0)\n",
      "Requirement already satisfied: entrypoints in c:\\users\\jude\\anaconda3\\lib\\site-packages (from altair>=4.2.0->gradio) (0.4)\n",
      "Requirement already satisfied: jsonschema>=3.0 in c:\\users\\jude\\anaconda3\\lib\\site-packages (from altair>=4.2.0->gradio) (4.17.3)\n",
      "Requirement already satisfied: toolz in c:\\users\\jude\\anaconda3\\lib\\site-packages (from altair>=4.2.0->gradio) (0.12.0)\n",
      "Requirement already satisfied: packaging in c:\\users\\jude\\anaconda3\\lib\\site-packages (from gradio-client>=0.1.3->gradio) (22.0)\n",
      "Requirement already satisfied: fsspec in c:\\users\\jude\\anaconda3\\lib\\site-packages (from gradio-client>=0.1.3->gradio) (2022.11.0)\n",
      "Requirement already satisfied: tqdm>=4.42.1 in c:\\users\\jude\\anaconda3\\lib\\site-packages (from huggingface-hub>=0.13.0->gradio) (4.64.1)\n",
      "Requirement already satisfied: filelock in c:\\users\\jude\\anaconda3\\lib\\site-packages (from huggingface-hub>=0.13.0->gradio) (3.9.0)\n",
      "Requirement already satisfied: mdurl~=0.1 in c:\\users\\jude\\anaconda3\\lib\\site-packages (from markdown-it-py[linkify]>=2.0.0->gradio) (0.1.2)\n",
      "Requirement already satisfied: linkify-it-py<3,>=1 in c:\\users\\jude\\anaconda3\\lib\\site-packages (from markdown-it-py[linkify]>=2.0.0->gradio) (2.0.2)\n",
      "Requirement already satisfied: pytz>=2020.1 in c:\\users\\jude\\anaconda3\\lib\\site-packages (from pandas->gradio) (2022.7)\n",
      "Requirement already satisfied: python-dateutil>=2.8.1 in c:\\users\\jude\\anaconda3\\lib\\site-packages (from pandas->gradio) (2.8.2)\n",
      "Requirement already satisfied: async-timeout<5.0,>=4.0.0a3 in c:\\users\\jude\\anaconda3\\lib\\site-packages (from aiohttp->gradio) (4.0.2)\n",
      "Requirement already satisfied: multidict<7.0,>=4.5 in c:\\users\\jude\\anaconda3\\lib\\site-packages (from aiohttp->gradio) (6.0.4)\n",
      "Requirement already satisfied: aiosignal>=1.1.2 in c:\\users\\jude\\anaconda3\\lib\\site-packages (from aiohttp->gradio) (1.3.1)\n",
      "Requirement already satisfied: charset-normalizer<4.0,>=2.0 in c:\\users\\jude\\anaconda3\\lib\\site-packages (from aiohttp->gradio) (2.0.4)\n",
      "Requirement already satisfied: attrs>=17.3.0 in c:\\users\\jude\\anaconda3\\lib\\site-packages (from aiohttp->gradio) (22.1.0)\n",
      "Requirement already satisfied: yarl<2.0,>=1.0 in c:\\users\\jude\\anaconda3\\lib\\site-packages (from aiohttp->gradio) (1.9.2)\n",
      "Requirement already satisfied: frozenlist>=1.1.1 in c:\\users\\jude\\anaconda3\\lib\\site-packages (from aiohttp->gradio) (1.3.3)\n",
      "Requirement already satisfied: starlette<0.27.0,>=0.26.1 in c:\\users\\jude\\anaconda3\\lib\\site-packages (from fastapi->gradio) (0.26.1)\n",
      "Requirement already satisfied: httpcore<0.18.0,>=0.15.0 in c:\\users\\jude\\anaconda3\\lib\\site-packages (from httpx->gradio) (0.17.0)\n",
      "Requirement already satisfied: sniffio in c:\\users\\jude\\anaconda3\\lib\\site-packages (from httpx->gradio) (1.2.0)\n",
      "Requirement already satisfied: idna in c:\\users\\jude\\anaconda3\\lib\\site-packages (from httpx->gradio) (3.4)\n",
      "Requirement already satisfied: certifi in c:\\users\\jude\\anaconda3\\lib\\site-packages (from httpx->gradio) (2022.12.7)\n",
      "Requirement already satisfied: pyparsing>=2.3.1 in c:\\users\\jude\\anaconda3\\lib\\site-packages (from matplotlib->gradio) (3.0.9)\n",
      "Requirement already satisfied: kiwisolver>=1.0.1 in c:\\users\\jude\\anaconda3\\lib\\site-packages (from matplotlib->gradio) (1.4.4)\n",
      "Requirement already satisfied: cycler>=0.10 in c:\\users\\jude\\anaconda3\\lib\\site-packages (from matplotlib->gradio) (0.11.0)\n",
      "Requirement already satisfied: contourpy>=1.0.1 in c:\\users\\jude\\anaconda3\\lib\\site-packages (from matplotlib->gradio) (1.0.5)\n",
      "Requirement already satisfied: fonttools>=4.22.0 in c:\\users\\jude\\anaconda3\\lib\\site-packages (from matplotlib->gradio) (4.25.0)\n",
      "Requirement already satisfied: urllib3<1.27,>=1.21.1 in c:\\users\\jude\\anaconda3\\lib\\site-packages (from requests->gradio) (1.26.14)\n",
      "Requirement already satisfied: h11>=0.8 in c:\\users\\jude\\anaconda3\\lib\\site-packages (from uvicorn->gradio) (0.14.0)\n",
      "Requirement already satisfied: click>=7.0 in c:\\users\\jude\\anaconda3\\lib\\site-packages (from uvicorn->gradio) (8.0.4)\n",
      "Requirement already satisfied: colorama in c:\\users\\jude\\anaconda3\\lib\\site-packages (from click>=7.0->uvicorn->gradio) (0.4.6)\n",
      "Requirement already satisfied: anyio<5.0,>=3.0 in c:\\users\\jude\\anaconda3\\lib\\site-packages (from httpcore<0.18.0,>=0.15.0->httpx->gradio) (3.5.0)\n",
      "Requirement already satisfied: pyrsistent!=0.17.0,!=0.17.1,!=0.17.2,>=0.14.0 in c:\\users\\jude\\anaconda3\\lib\\site-packages (from jsonschema>=3.0->altair>=4.2.0->gradio) (0.18.0)\n",
      "Requirement already satisfied: uc-micro-py in c:\\users\\jude\\anaconda3\\lib\\site-packages (from linkify-it-py<3,>=1->markdown-it-py[linkify]>=2.0.0->gradio) (1.0.2)\n",
      "Requirement already satisfied: six>=1.5 in c:\\users\\jude\\anaconda3\\lib\\site-packages (from python-dateutil>=2.8.1->pandas->gradio) (1.16.0)\n",
      "Note: you may need to restart the kernel to use updated packages.\n"
     ]
    }
   ],
   "source": [
    "pip install gradio"
   ]
  },
  {
   "cell_type": "code",
   "execution_count": 76,
   "id": "37ada5af",
   "metadata": {},
   "outputs": [
    {
     "name": "stderr",
     "output_type": "stream",
     "text": [
      "C:\\Users\\Jude\\anaconda3\\lib\\site-packages\\sklearn\\linear_model\\_logistic.py:458: ConvergenceWarning:\n",
      "\n",
      "lbfgs failed to converge (status=1):\n",
      "STOP: TOTAL NO. of ITERATIONS REACHED LIMIT.\n",
      "\n",
      "Increase the number of iterations (max_iter) or scale the data as shown in:\n",
      "    https://scikit-learn.org/stable/modules/preprocessing.html\n",
      "Please also refer to the documentation for alternative solver options:\n",
      "    https://scikit-learn.org/stable/modules/linear_model.html#logistic-regression\n",
      "\n",
      "C:\\Users\\Jude\\anaconda3\\lib\\site-packages\\gradio\\inputs.py:89: UserWarning:\n",
      "\n",
      "Usage of gradio.inputs is deprecated, and will not be supported in the future, please import your component from gradio.components\n",
      "\n",
      "C:\\Users\\Jude\\anaconda3\\lib\\site-packages\\gradio\\deprecation.py:40: UserWarning:\n",
      "\n",
      "`optional` parameter is deprecated, and it has no effect\n",
      "\n"
     ]
    },
    {
     "name": "stdout",
     "output_type": "stream",
     "text": [
      "Running on local URL:  http://127.0.0.1:7862\n",
      "\n",
      "To create a public link, set `share=True` in `launch()`.\n"
     ]
    },
    {
     "data": {
      "text/html": [
       "<div><iframe src=\"http://127.0.0.1:7862/\" width=\"100%\" height=\"500\" allow=\"autoplay; camera; microphone; clipboard-read; clipboard-write;\" frameborder=\"0\" allowfullscreen></iframe></div>"
      ],
      "text/plain": [
       "<IPython.core.display.HTML object>"
      ]
     },
     "metadata": {},
     "output_type": "display_data"
    },
    {
     "data": {
      "text/plain": []
     },
     "execution_count": 76,
     "metadata": {},
     "output_type": "execute_result"
    }
   ],
   "source": [
    "import gradio as gr\n",
    "import numpy as np\n",
    "\n",
    "clas_4.fit(X_train,y_train) \n",
    "\n",
    "def dia_pred(HbA1c,BMI,AGE):\n",
    "\n",
    "    x_input = np.reshape([[HbA1c, BMI, AGE]], (1,-1))\n",
    "    pred = clas_4.predict(x_input)\n",
    " \n",
    "#     print(pred)\n",
    "    if np.array_equal(pred, [0]):\n",
    "        return 'negative'\n",
    "    elif np.array_equal(pred, [1]):\n",
    "        return 'predicted positive'\n",
    "    elif np.array_equal(pred, [2]):\n",
    "        return 'positive'\n",
    "    else:\n",
    "        print('please check your entries again')\n",
    "    \n",
    "# dia_pred(6.8, 25, 48)\n",
    "\n",
    "\n",
    "headers = [\n",
    "    gr.inputs.Slider(label=\"HbA1c\", minimum=0, maximum=17),\n",
    "    gr.inputs.Slider(label=\"BMI\", minimum=0, maximum=48),\n",
    "    gr.inputs.Slider(label = 'Age', minimum = 1, maximum = 100)\n",
    "\n",
    "]\n",
    "\n",
    "\n",
    "iface = gr.Interface(fn=dia_pred, inputs=headers, outputs='text')\n",
    "\n",
    "iface.launch()\n"
   ]
  },
  {
   "cell_type": "markdown",
   "id": "e3a285cb",
   "metadata": {},
   "source": [
    "Attempting Prediction with Normalized Data"
   ]
  },
  {
   "cell_type": "code",
   "execution_count": 77,
   "id": "1eff5e77",
   "metadata": {},
   "outputs": [
    {
     "data": {
      "text/html": [
       "<div>\n",
       "<style scoped>\n",
       "    .dataframe tbody tr th:only-of-type {\n",
       "        vertical-align: middle;\n",
       "    }\n",
       "\n",
       "    .dataframe tbody tr th {\n",
       "        vertical-align: top;\n",
       "    }\n",
       "\n",
       "    .dataframe thead th {\n",
       "        text-align: right;\n",
       "    }\n",
       "</style>\n",
       "<table border=\"1\" class=\"dataframe\">\n",
       "  <thead>\n",
       "    <tr style=\"text-align: right;\">\n",
       "      <th></th>\n",
       "      <th>Gender</th>\n",
       "      <th>AGE</th>\n",
       "      <th>Urea</th>\n",
       "      <th>Cr</th>\n",
       "      <th>HbA1c</th>\n",
       "      <th>Chol</th>\n",
       "      <th>TG</th>\n",
       "      <th>HDL</th>\n",
       "      <th>LDL</th>\n",
       "      <th>VLDL</th>\n",
       "      <th>BMI</th>\n",
       "    </tr>\n",
       "  </thead>\n",
       "  <tbody>\n",
       "    <tr>\n",
       "      <th>0</th>\n",
       "      <td>0.000000</td>\n",
       "      <td>0.359712</td>\n",
       "      <td>0.033813</td>\n",
       "      <td>0.330935</td>\n",
       "      <td>0.035252</td>\n",
       "      <td>0.030216</td>\n",
       "      <td>0.006475</td>\n",
       "      <td>0.017266</td>\n",
       "      <td>0.010072</td>\n",
       "      <td>0.003597</td>\n",
       "      <td>0.172662</td>\n",
       "    </tr>\n",
       "    <tr>\n",
       "      <th>1</th>\n",
       "      <td>0.007675</td>\n",
       "      <td>0.199540</td>\n",
       "      <td>0.034536</td>\n",
       "      <td>0.475825</td>\n",
       "      <td>0.037606</td>\n",
       "      <td>0.028396</td>\n",
       "      <td>0.010744</td>\n",
       "      <td>0.008442</td>\n",
       "      <td>0.016117</td>\n",
       "      <td>0.004605</td>\n",
       "      <td>0.176516</td>\n",
       "    </tr>\n",
       "    <tr>\n",
       "      <th>2</th>\n",
       "      <td>0.000000</td>\n",
       "      <td>0.359712</td>\n",
       "      <td>0.033813</td>\n",
       "      <td>0.330935</td>\n",
       "      <td>0.035252</td>\n",
       "      <td>0.030216</td>\n",
       "      <td>0.006475</td>\n",
       "      <td>0.017266</td>\n",
       "      <td>0.010072</td>\n",
       "      <td>0.003597</td>\n",
       "      <td>0.172662</td>\n",
       "    </tr>\n",
       "    <tr>\n",
       "      <th>3</th>\n",
       "      <td>0.000000</td>\n",
       "      <td>0.359712</td>\n",
       "      <td>0.033813</td>\n",
       "      <td>0.330935</td>\n",
       "      <td>0.035252</td>\n",
       "      <td>0.030216</td>\n",
       "      <td>0.006475</td>\n",
       "      <td>0.017266</td>\n",
       "      <td>0.010072</td>\n",
       "      <td>0.003597</td>\n",
       "      <td>0.172662</td>\n",
       "    </tr>\n",
       "    <tr>\n",
       "      <th>4</th>\n",
       "      <td>0.008190</td>\n",
       "      <td>0.270270</td>\n",
       "      <td>0.058149</td>\n",
       "      <td>0.376740</td>\n",
       "      <td>0.040131</td>\n",
       "      <td>0.040131</td>\n",
       "      <td>0.008190</td>\n",
       "      <td>0.006552</td>\n",
       "      <td>0.016380</td>\n",
       "      <td>0.003276</td>\n",
       "      <td>0.171990</td>\n",
       "    </tr>\n",
       "    <tr>\n",
       "      <th>...</th>\n",
       "      <td>...</td>\n",
       "      <td>...</td>\n",
       "      <td>...</td>\n",
       "      <td>...</td>\n",
       "      <td>...</td>\n",
       "      <td>...</td>\n",
       "      <td>...</td>\n",
       "      <td>...</td>\n",
       "      <td>...</td>\n",
       "      <td>...</td>\n",
       "      <td>...</td>\n",
       "    </tr>\n",
       "    <tr>\n",
       "      <th>288</th>\n",
       "      <td>0.006062</td>\n",
       "      <td>0.339473</td>\n",
       "      <td>0.024854</td>\n",
       "      <td>0.303101</td>\n",
       "      <td>0.069546</td>\n",
       "      <td>0.035835</td>\n",
       "      <td>0.011681</td>\n",
       "      <td>0.010400</td>\n",
       "      <td>0.006257</td>\n",
       "      <td>0.004869</td>\n",
       "      <td>0.187922</td>\n",
       "    </tr>\n",
       "    <tr>\n",
       "      <th>289</th>\n",
       "      <td>0.000000</td>\n",
       "      <td>0.376577</td>\n",
       "      <td>0.031443</td>\n",
       "      <td>0.271972</td>\n",
       "      <td>0.049112</td>\n",
       "      <td>0.034004</td>\n",
       "      <td>0.030177</td>\n",
       "      <td>0.005186</td>\n",
       "      <td>0.017036</td>\n",
       "      <td>0.013581</td>\n",
       "      <td>0.170912</td>\n",
       "    </tr>\n",
       "    <tr>\n",
       "      <th>290</th>\n",
       "      <td>0.000000</td>\n",
       "      <td>0.406030</td>\n",
       "      <td>0.018491</td>\n",
       "      <td>0.169794</td>\n",
       "      <td>0.084259</td>\n",
       "      <td>0.035669</td>\n",
       "      <td>0.028553</td>\n",
       "      <td>0.007819</td>\n",
       "      <td>0.010302</td>\n",
       "      <td>0.009564</td>\n",
       "      <td>0.229520</td>\n",
       "    </tr>\n",
       "    <tr>\n",
       "      <th>291</th>\n",
       "      <td>0.006085</td>\n",
       "      <td>0.334690</td>\n",
       "      <td>0.028748</td>\n",
       "      <td>0.322519</td>\n",
       "      <td>0.059461</td>\n",
       "      <td>0.032981</td>\n",
       "      <td>0.011514</td>\n",
       "      <td>0.008687</td>\n",
       "      <td>0.010595</td>\n",
       "      <td>0.004844</td>\n",
       "      <td>0.179877</td>\n",
       "    </tr>\n",
       "    <tr>\n",
       "      <th>292</th>\n",
       "      <td>0.000000</td>\n",
       "      <td>0.368549</td>\n",
       "      <td>0.030399</td>\n",
       "      <td>0.283499</td>\n",
       "      <td>0.057951</td>\n",
       "      <td>0.028726</td>\n",
       "      <td>0.010565</td>\n",
       "      <td>0.010033</td>\n",
       "      <td>0.014773</td>\n",
       "      <td>0.003809</td>\n",
       "      <td>0.191695</td>\n",
       "    </tr>\n",
       "  </tbody>\n",
       "</table>\n",
       "<p>293 rows × 11 columns</p>\n",
       "</div>"
      ],
      "text/plain": [
       "       Gender       AGE      Urea        Cr     HbA1c      Chol        TG  \\\n",
       "0    0.000000  0.359712  0.033813  0.330935  0.035252  0.030216  0.006475   \n",
       "1    0.007675  0.199540  0.034536  0.475825  0.037606  0.028396  0.010744   \n",
       "2    0.000000  0.359712  0.033813  0.330935  0.035252  0.030216  0.006475   \n",
       "3    0.000000  0.359712  0.033813  0.330935  0.035252  0.030216  0.006475   \n",
       "4    0.008190  0.270270  0.058149  0.376740  0.040131  0.040131  0.008190   \n",
       "..        ...       ...       ...       ...       ...       ...       ...   \n",
       "288  0.006062  0.339473  0.024854  0.303101  0.069546  0.035835  0.011681   \n",
       "289  0.000000  0.376577  0.031443  0.271972  0.049112  0.034004  0.030177   \n",
       "290  0.000000  0.406030  0.018491  0.169794  0.084259  0.035669  0.028553   \n",
       "291  0.006085  0.334690  0.028748  0.322519  0.059461  0.032981  0.011514   \n",
       "292  0.000000  0.368549  0.030399  0.283499  0.057951  0.028726  0.010565   \n",
       "\n",
       "          HDL       LDL      VLDL       BMI  \n",
       "0    0.017266  0.010072  0.003597  0.172662  \n",
       "1    0.008442  0.016117  0.004605  0.176516  \n",
       "2    0.017266  0.010072  0.003597  0.172662  \n",
       "3    0.017266  0.010072  0.003597  0.172662  \n",
       "4    0.006552  0.016380  0.003276  0.171990  \n",
       "..        ...       ...       ...       ...  \n",
       "288  0.010400  0.006257  0.004869  0.187922  \n",
       "289  0.005186  0.017036  0.013581  0.170912  \n",
       "290  0.007819  0.010302  0.009564  0.229520  \n",
       "291  0.008687  0.010595  0.004844  0.179877  \n",
       "292  0.010033  0.014773  0.003809  0.191695  \n",
       "\n",
       "[293 rows x 11 columns]"
      ]
     },
     "metadata": {},
     "output_type": "display_data"
    }
   ],
   "source": [
    "#Modeling Attempt with Normalized Data\n",
    "\n",
    "from sklearn.preprocessing import Normalizer\n",
    "\n",
    "n = Normalizer(norm = 'l1')\n",
    "\n",
    "headers = ['Gender','AGE','Urea', 'Cr','HbA1c', 'Chol', 'TG', 'HDL', 'LDL','VLDL','BMI']\n",
    "\n",
    "X_resampled1 = n.fit_transform(X_resampled)\n",
    "\n",
    "X_resampled1 = pd.DataFrame(X_resampled1, columns = headers)\n",
    "\n",
    "display(X_resampled1)\n",
    "\n",
    "\n"
   ]
  },
  {
   "cell_type": "code",
   "execution_count": 38,
   "id": "8507a985",
   "metadata": {},
   "outputs": [
    {
     "data": {
      "image/png": "[encoded data removed]",
      "text/plain": [
       "<Figure size 640x480 with 1 Axes>"
      ]
     },
     "metadata": {},
     "output_type": "display_data"
    }
   ],
   "source": [
    "# Checking for Feature Importance with normalized balanced data\n",
    "\n",
    "from sklearn.ensemble import RandomForestClassifier\n",
    "import numpy as np\n",
    "import matplotlib.pyplot as plt\n",
    "\n",
    "x = X_resampled1\n",
    "y = y_resampled\n",
    "\n",
    "rf = RandomForestClassifier(random_state=1, max_depth=4)\n",
    "\n",
    "rf.fit(x,y)\n",
    "\n",
    "train_features = x.columns\n",
    "\n",
    "importance = rf.feature_importances_\n",
    "indices = np.argsort(importance)[-4:]\n",
    "plt.title('Feature Importance with Normalization')\n",
    "plt.barh(range(len(indices)), importance[indices], color='b', align='center')\n",
    "plt.yticks(range(len(indices)), [train_features[i] for i in indices])\n",
    "plt.xlabel('Relative Importance')\n",
    "plt.show()"
   ]
  },
  {
   "cell_type": "code",
   "execution_count": 78,
   "id": "157f0665",
   "metadata": {},
   "outputs": [
    {
     "name": "stdout",
     "output_type": "stream",
     "text": [
      "(293, 3) (293,)\n",
      "\n",
      "..........................\n",
      "\n",
      "\n",
      "..........................\n",
      "\n",
      "\n",
      "..........................\n",
      "\n",
      "\n",
      "..........................\n",
      "\n",
      "\n",
      "..........................\n",
      "\n",
      "\n",
      "..........................\n",
      "\n",
      "Naive_Bayes model has an accuracy score of 30.51% on test sample\n",
      "Naive_Bayes has a precision score of 9.31% on test sample\n",
      "Naive_Bayes has a recall score of 30.51% on test sample\n",
      "Naive_Bayes has a f1 score of 14.26% on test sample\n",
      "Cross-validation scrore: [0.16877637 0.16877637 0.16877637 0.17094017 0.17094017]\n",
      "\n",
      "---------------------------\n",
      "\n",
      "SVC model has an accuracy score of 30.51% on test sample\n",
      "SVC has a precision score of 9.31% on test sample\n",
      "SVC has a recall score of 30.51% on test sample\n",
      "SVC has a f1 score of 14.26% on test sample\n",
      "Cross-validation scrore: [0.16877637 0.16877637 0.16877637 0.17094017 0.17094017]\n",
      "\n",
      "---------------------------\n",
      "\n",
      "DecisionTree model has an accuracy score of 74.58% on test sample\n",
      "DecisionTree has a precision score of 77.72% on test sample\n",
      "DecisionTree has a recall score of 74.58% on test sample\n",
      "DecisionTree has a f1 score of 74.97% on test sample\n",
      "Cross-validation scrore: [0.60811547 0.67424242 0.60651629 0.72222222 0.73670287]\n",
      "\n",
      "---------------------------\n",
      "\n",
      "LogisticRegression model has an accuracy score of 30.51% on test sample\n",
      "LogisticRegression has a precision score of 9.31% on test sample\n",
      "LogisticRegression has a recall score of 30.51% on test sample\n",
      "LogisticRegression has a f1 score of 14.26% on test sample\n",
      "Cross-validation scrore: [0.16877637 0.16877637 0.16877637 0.20718463 0.21111111]\n",
      "\n",
      "---------------------------\n",
      "\n",
      "\n",
      "---------------------------\n",
      "\n",
      "\n",
      "---------------------------\n",
      "\n",
      "\n",
      "---------------------------\n",
      "\n",
      "\n",
      "---------------------------\n",
      "\n",
      "\n",
      "---------------------------\n",
      "\n",
      "Naive_Bayes model has an accuracy score of 34.86% on train sample\n",
      "Naive_Bayes has a precision score of 12.15% on train sample\n",
      "Naive_Bayes has a recall score of 34.86% on train sample\n",
      "Naive_Bayes has a f1 score of 18.02% on train sample\n",
      "\n",
      "---------------------------\n",
      "\n",
      "SVC model has an accuracy score of 34.86% on train sample\n",
      "SVC has a precision score of 12.15% on test sample\n",
      "SVC has a recall score of 34.86% on test sample\n",
      "SVC has a f1 score of 18.02% on test sample\n",
      "\n",
      "---------------------------\n",
      "\n",
      "DecisionTree model has an accuracy score of 95.43% on train sample\n",
      "DecisionTree has a precision score of 95.57% on train sample\n",
      "DecisionTree has a recall score of 95.43% on train sample\n",
      "DecisionTree has a f1 score of 95.37% on train sample\n",
      "\n",
      "---------------------------\n",
      "\n",
      "LogisticRegression model has an accuracy score of 36.00% on train sample\n",
      "LogisticRegression has a precision score of 46.58% on train sample\n",
      "LogisticRegression has a recall score of 36.00% on train sample\n",
      "LogisticRegression has a f1 score of 20.39% on train sample\n",
      "---------------------------\n",
      "Confusion matrix for the three possible predictions on training data, using Naive Bayes, are:\n",
      "\n",
      " [[[115   0]\n",
      "  [ 60   0]]\n",
      "\n",
      " [[121   0]\n",
      "  [ 54   0]]\n",
      "\n",
      " [[  0 114]\n",
      "  [  0  61]]]\n",
      "Confusion matrix for the three possible predictions on test,using Naive Bayes, data are:\n",
      "\n",
      " [[[82  0]\n",
      "  [36  0]]\n",
      "\n",
      " [[72  0]\n",
      "  [46  0]]\n",
      "\n",
      " [[ 0 82]\n",
      "  [ 0 36]]]\n",
      "---------------------------\n",
      "---------------------------\n",
      "Confusion matrix for the three possible predictions on training data, using SVC, are:\n",
      "\n",
      " [[[115   0]\n",
      "  [ 60   0]]\n",
      "\n",
      " [[121   0]\n",
      "  [ 54   0]]\n",
      "\n",
      " [[  0 114]\n",
      "  [  0  61]]]\n",
      "Confusion matrix for the three possible predictions on test,using SVC, data are:\n",
      "\n",
      " [[[82  0]\n",
      "  [36  0]]\n",
      "\n",
      " [[72  0]\n",
      "  [46  0]]\n",
      "\n",
      " [[ 0 82]\n",
      "  [ 0 36]]]\n",
      "---------------------------\n",
      "Confusion matrix for the three possible predictions on training data, using Decision Tree, are:\n",
      "\n",
      " [[[111   4]\n",
      "  [  0  60]]\n",
      "\n",
      " [[118   3]\n",
      "  [  1  53]]\n",
      "\n",
      " [[113   1]\n",
      "  [  7  54]]]\n",
      "Confusion matrix for the three possible predictions on test,using Decision Tree, data are:\n",
      "\n",
      " [[[65 17]\n",
      "  [ 8 28]]\n",
      "\n",
      " [[70  2]\n",
      "  [15 31]]\n",
      "\n",
      " [[71 11]\n",
      "  [ 7 29]]]\n",
      "---------------------------\n",
      "Confusion matrix for the three possible predictions on training data, using Logistic Regression, are:\n",
      "\n",
      " [[[115   0]\n",
      "  [ 58   2]]\n",
      "\n",
      " [[121   0]\n",
      "  [ 54   0]]\n",
      "\n",
      " [[  2 112]\n",
      "  [  0  61]]]\n",
      "Confusion matrix for the three possible predictions on test,using Logistic Regression, data are:\n",
      "\n",
      " [[[82  0]\n",
      "  [36  0]]\n",
      "\n",
      " [[72  0]\n",
      "  [46  0]]\n",
      "\n",
      " [[ 0 82]\n",
      "  [ 0 36]]]\n",
      "---------------------------\n",
      "[0]\n"
     ]
    },
    {
     "name": "stderr",
     "output_type": "stream",
     "text": [
      "C:\\Users\\Jude\\anaconda3\\lib\\site-packages\\sklearn\\metrics\\_classification.py:1344: UndefinedMetricWarning:\n",
      "\n",
      "Precision is ill-defined and being set to 0.0 in labels with no predicted samples. Use `zero_division` parameter to control this behavior.\n",
      "\n",
      "C:\\Users\\Jude\\anaconda3\\lib\\site-packages\\sklearn\\metrics\\_classification.py:1344: UndefinedMetricWarning:\n",
      "\n",
      "Precision is ill-defined and being set to 0.0 in labels with no predicted samples. Use `zero_division` parameter to control this behavior.\n",
      "\n",
      "C:\\Users\\Jude\\anaconda3\\lib\\site-packages\\sklearn\\metrics\\_classification.py:1344: UndefinedMetricWarning:\n",
      "\n",
      "Precision is ill-defined and being set to 0.0 in labels with no predicted samples. Use `zero_division` parameter to control this behavior.\n",
      "\n",
      "C:\\Users\\Jude\\anaconda3\\lib\\site-packages\\sklearn\\metrics\\_classification.py:1344: UndefinedMetricWarning:\n",
      "\n",
      "Precision is ill-defined and being set to 0.0 in labels with no predicted samples. Use `zero_division` parameter to control this behavior.\n",
      "\n",
      "C:\\Users\\Jude\\anaconda3\\lib\\site-packages\\sklearn\\metrics\\_classification.py:1344: UndefinedMetricWarning:\n",
      "\n",
      "Precision is ill-defined and being set to 0.0 in labels with no predicted samples. Use `zero_division` parameter to control this behavior.\n",
      "\n",
      "C:\\Users\\Jude\\anaconda3\\lib\\site-packages\\sklearn\\metrics\\_classification.py:1344: UndefinedMetricWarning:\n",
      "\n",
      "Precision is ill-defined and being set to 0.0 in labels with no predicted samples. Use `zero_division` parameter to control this behavior.\n",
      "\n"
     ]
    }
   ],
   "source": [
    "#Modeling nomalized data with Naive Bayes, SVC, Decision Tree, Logistic Regression\n",
    "\n",
    "\n",
    "from sklearn.naive_bayes import MultinomialNB\n",
    "from sklearn.svm import SVC\n",
    "from sklearn.tree import DecisionTreeClassifier\n",
    "from sklearn.linear_model import LogisticRegression\n",
    "from sklearn.ensemble import VotingClassifier\n",
    "from sklearn.metrics import accuracy_score, recall_score, precision_score, f1_score, multilabel_confusion_matrix\n",
    "\n",
    "clas_1 = MultinomialNB()\n",
    "clas_2 = SVC(kernel = 'linear', probability = True)\n",
    "clas_3 = DecisionTreeClassifier(max_depth = 7)\n",
    "clas_4 = LogisticRegression(multi_class='multinomial', solver='lbfgs')\n",
    "\n",
    "# vc = VotingClassifier(estimators = [(clas_1,clas_2,clas_3)], voting = 'soft')\n",
    "\n",
    "x = X_resampled1[['HbA1c','TG','HDL']].values\n",
    "\n",
    "\n",
    "# y = np.argmax(y_resampled.values, axis = 1)\n",
    "\n",
    "y = np.argmax(y_resampled[['N','Y','P']].values, axis = 1)\n",
    "\n",
    "\n",
    "\n",
    "print(x.shape, y.shape)\n",
    "\n",
    "\n",
    "\n",
    "X_train, X_test, y_train, y_test = train_test_split(x,y, test_size = 0.4, \n",
    "                                                    random_state = 10)\n",
    "\n",
    "\n",
    "clas_1.fit(X_train,y_train)\n",
    "clas_2.fit(X_train,y_train)\n",
    "clas_3.fit(X_train,y_train)\n",
    "clas_4.fit(X_train,y_train)\n",
    "\n",
    "y_pred_1 = clas_1.predict(X_test)\n",
    "y_pred_t_1 = clas_1.predict(X_train)\n",
    "\n",
    "print('\\n..........................\\n')\n",
    "\n",
    "y_pred_2 = clas_2.predict(X_test)\n",
    "y_pred_t_2 = clas_2.predict(X_train)\n",
    "\n",
    "print('\\n..........................\\n')\n",
    "\n",
    "y_pred_3 = clas_3.predict(X_test)\n",
    "y_pred_t_3 = clas_3.predict(X_train)\n",
    "\n",
    "print('\\n..........................\\n')\n",
    "\n",
    "y_pred_4 = clas_4.predict(X_test)\n",
    "y_pred_t_4 = clas_4.predict(X_train)\n",
    "\n",
    "# display(pd.DataFrame(y_pred).tail())\n",
    "\n",
    "acc1 = accuracy_score(y_test, y_pred_1)\n",
    "prec1 = precision_score(y_test, y_pred_1, average = 'weighted')\n",
    "rec1 = recall_score(y_test, y_pred_1, average = 'weighted')\n",
    "f1score1 = f1_score(y_test, y_pred_1, average = 'weighted')\n",
    "\n",
    "print('\\n..........................\\n')\n",
    "\n",
    "acc2 = accuracy_score(y_test, y_pred_2)\n",
    "prec2 = precision_score(y_test, y_pred_2, average = 'weighted')\n",
    "rec2 = recall_score(y_test, y_pred_2, average = 'weighted')\n",
    "f1score2 = f1_score(y_test, y_pred_2, average = 'weighted')\n",
    "\n",
    "print('\\n..........................\\n')\n",
    "\n",
    "acc3 = accuracy_score(y_test, y_pred_3)\n",
    "prec3 = precision_score(y_test, y_pred_3, average = 'weighted')\n",
    "rec3 = recall_score(y_test, y_pred_3, average = 'weighted')\n",
    "f1score3 = f1_score(y_test, y_pred_3, average = 'weighted')\n",
    "\n",
    "print('\\n..........................\\n')\n",
    "\n",
    "acc4 = accuracy_score(y_test, y_pred_4)\n",
    "prec4 = precision_score(y_test, y_pred_4, average = 'weighted')\n",
    "rec4 = recall_score(y_test, y_pred_4, average = 'weighted')\n",
    "f1score4 = f1_score(y_test, y_pred_4, average = 'weighted')\n",
    "\n",
    "cv_score1 = cross_val_score(clas_1, x, y, cv=5, scoring='f1_macro')\n",
    "cv_score2 = cross_val_score(clas_2, x, y, cv=5, scoring='f1_macro')\n",
    "cv_score3 = cross_val_score(clas_3, x, y, cv=5, scoring='f1_macro')\n",
    "cv_score4 = cross_val_score(clas_4, x, y, cv=5, scoring='f1_macro')\n",
    "\n",
    "\n",
    "print('Naive_Bayes model has an accuracy score of {:.2f}% on test sample'.format(acc1*100))\n",
    "print('Naive_Bayes has a precision score of {:.2f}% on test sample'.format(prec1*100))\n",
    "print('Naive_Bayes has a recall score of {:.2f}% on test sample'.format(rec1*100))\n",
    "print('Naive_Bayes has a f1 score of {:.2f}% on test sample'.format(f1score1*100))\n",
    "print(f'Cross-validation scrore: {cv_score1}')\n",
    "\n",
    "print('\\n---------------------------\\n')\n",
    "\n",
    "print('SVC model has an accuracy score of {:.2f}% on test sample'.format(acc2*100))\n",
    "print('SVC has a precision score of {:.2f}% on test sample'.format(prec2*100))\n",
    "print('SVC has a recall score of {:.2f}% on test sample'.format(rec2*100))\n",
    "print('SVC has a f1 score of {:.2f}% on test sample'.format(f1score2*100))\n",
    "print(f'Cross-validation scrore: {cv_score2}')\n",
    "\n",
    "print('\\n---------------------------\\n')\n",
    "\n",
    "print('DecisionTree model has an accuracy score of {:.2f}% on test sample'.format(acc3*100))\n",
    "print('DecisionTree has a precision score of {:.2f}% on test sample'.format(prec3*100))\n",
    "print('DecisionTree has a recall score of {:.2f}% on test sample'.format(rec3*100))\n",
    "print('DecisionTree has a f1 score of {:.2f}% on test sample'.format(f1score3*100))\n",
    "print(f'Cross-validation scrore: {cv_score3}')\n",
    "\n",
    "print('\\n---------------------------\\n')\n",
    "\n",
    "print('LogisticRegression model has an accuracy score of {:.2f}% on test sample'.format(acc4*100))\n",
    "print('LogisticRegression has a precision score of {:.2f}% on test sample'.format(prec4*100))\n",
    "print('LogisticRegression has a recall score of {:.2f}% on test sample'.format(rec4*100))\n",
    "print('LogisticRegression has a f1 score of {:.2f}% on test sample'.format(f1score4*100))\n",
    "print(f'Cross-validation scrore: {cv_score4}')\n",
    "\n",
    "print('\\n---------------------------\\n')\n",
    "print('\\n---------------------------\\n')\n",
    "\n",
    "acc_1 = accuracy_score(y_train, y_pred_t_1)\n",
    "prec_1 = precision_score(y_train, y_pred_t_1, average = 'weighted')\n",
    "rec_1 = recall_score(y_train, y_pred_t_1, average = 'weighted')\n",
    "f1score_1 = f1_score(y_train, y_pred_t_1, average = 'weighted')\n",
    "\n",
    "print('\\n---------------------------\\n')\n",
    "\n",
    "acc_2 = accuracy_score(y_train, y_pred_t_2)\n",
    "prec_2 = precision_score(y_train, y_pred_t_2, average = 'weighted')\n",
    "rec_2 = recall_score(y_train, y_pred_t_2, average = 'weighted')\n",
    "f1score_2 = f1_score(y_train, y_pred_t_2, average = 'weighted')\n",
    "\n",
    "print('\\n---------------------------\\n')\n",
    "\n",
    "acc_3 = accuracy_score(y_train, y_pred_t_3)\n",
    "prec_3 = precision_score(y_train, y_pred_t_3, average = 'weighted')\n",
    "rec_3 = recall_score(y_train, y_pred_t_3, average = 'weighted')\n",
    "f1score_3 = f1_score(y_train, y_pred_t_3, average = 'weighted')\n",
    "\n",
    "print('\\n---------------------------\\n')\n",
    "\n",
    "acc_4 = accuracy_score(y_train, y_pred_t_4)\n",
    "prec_4 = precision_score(y_train, y_pred_t_4, average = 'weighted')\n",
    "rec_4 = recall_score(y_train, y_pred_t_4, average = 'weighted')\n",
    "f1score_4 = f1_score(y_train, y_pred_t_4, average = 'weighted')\n",
    "\n",
    "print('\\n---------------------------\\n')\n",
    "\n",
    "\n",
    "print('Naive_Bayes model has an accuracy score of {:.2f}% on train sample'.format(acc_1*100))\n",
    "print('Naive_Bayes has a precision score of {:.2f}% on train sample'.format(prec_1*100))\n",
    "print('Naive_Bayes has a recall score of {:.2f}% on train sample'.format(rec_1*100))\n",
    "print('Naive_Bayes has a f1 score of {:.2f}% on train sample'.format(f1score_1*100))\n",
    "\n",
    "print('\\n---------------------------\\n')\n",
    "\n",
    "print('SVC model has an accuracy score of {:.2f}% on train sample'.format(acc_2*100))\n",
    "print('SVC has a precision score of {:.2f}% on test sample'.format(prec_2*100))\n",
    "print('SVC has a recall score of {:.2f}% on test sample'.format(rec_2*100))\n",
    "print('SVC has a f1 score of {:.2f}% on test sample'.format(f1score_2*100))\n",
    "\n",
    "print('\\n---------------------------\\n')\n",
    "\n",
    "print('DecisionTree model has an accuracy score of {:.2f}% on train sample'.format(acc_3*100))\n",
    "print('DecisionTree has a precision score of {:.2f}% on train sample'.format(prec_3*100))\n",
    "print('DecisionTree has a recall score of {:.2f}% on train sample'.format(rec_3*100))\n",
    "print('DecisionTree has a f1 score of {:.2f}% on train sample'.format(f1score_3*100))\n",
    "\n",
    "print('\\n---------------------------\\n')\n",
    "\n",
    "print('LogisticRegression model has an accuracy score of {:.2f}% on train sample'.format(acc_4*100))\n",
    "print('LogisticRegression has a precision score of {:.2f}% on train sample'.format(prec_4*100))\n",
    "print('LogisticRegression has a recall score of {:.2f}% on train sample'.format(rec_4*100))\n",
    "print('LogisticRegression has a f1 score of {:.2f}% on train sample'.format(f1score_4*100))\n",
    "\n",
    "print('---------------------------')\n",
    "\n",
    "print(f'Confusion matrix for the three possible predictions on training data, using Naive Bayes, are:\\n\\n {multilabel_confusion_matrix(y_train, y_pred_t_1)}')\n",
    "\n",
    "print(f'Confusion matrix for the three possible predictions on test,using Naive Bayes, data are:\\n\\n {multilabel_confusion_matrix(y_test, y_pred_1)}')\n",
    "\n",
    "print('---------------------------')\n",
    "\n",
    "print('---------------------------')\n",
    "\n",
    "print(f'Confusion matrix for the three possible predictions on training data, using SVC, are:\\n\\n {multilabel_confusion_matrix(y_train, y_pred_t_2)}')\n",
    "\n",
    "print(f'Confusion matrix for the three possible predictions on test,using SVC, data are:\\n\\n {multilabel_confusion_matrix(y_test, y_pred_2)}')\n",
    "\n",
    "print('---------------------------')\n",
    "\n",
    "print(f'Confusion matrix for the three possible predictions on training data, using Decision Tree, are:\\n\\n {multilabel_confusion_matrix(y_train, y_pred_t_3)}')\n",
    "\n",
    "print(f'Confusion matrix for the three possible predictions on test,using Decision Tree, data are:\\n\\n {multilabel_confusion_matrix(y_test, y_pred_3)}')\n",
    "\n",
    "print('---------------------------')\n",
    "\n",
    "print(f'Confusion matrix for the three possible predictions on training data, using Logistic Regression, are:\\n\\n {multilabel_confusion_matrix(y_train, y_pred_t_4)}')\n",
    "\n",
    "print(f'Confusion matrix for the three possible predictions on test,using Logistic Regression, data are:\\n\\n {multilabel_confusion_matrix(y_test, y_pred_4)}')\n",
    "\n",
    "print('---------------------------')\n",
    "pre = clas_1.predict([[4, 21, 43]])\n",
    "print(pre)"
   ]
  },
  {
   "cell_type": "markdown",
   "id": "c14e85a9",
   "metadata": {},
   "source": [
    "Generally a poor performance with Normalized Data, so we stick to the results on non-Normalized data"
   ]
  },
  {
   "cell_type": "code",
   "execution_count": 40,
   "id": "6d488b99",
   "metadata": {},
   "outputs": [
    {
     "name": "stdout",
     "output_type": "stream",
     "text": [
      "Requirement already satisfied: squarify in c:\\users\\jude\\anaconda3\\lib\\site-packages (0.4.3)\n",
      "Note: you may need to restart the kernel to use updated packages.\n"
     ]
    }
   ],
   "source": [
    "pip install squarify"
   ]
  },
  {
   "cell_type": "markdown",
   "id": "50810522",
   "metadata": {},
   "source": [
    "Feature Importance with Normalized Data"
   ]
  },
  {
   "cell_type": "code",
   "execution_count": 41,
   "id": "0107be4d",
   "metadata": {},
   "outputs": [
    {
     "name": "stdout",
     "output_type": "stream",
     "text": [
      "Requirement already satisfied: squarify in c:\\users\\jude\\anaconda3\\lib\\site-packages (0.4.3)Note: you may need to restart the kernel to use updated packages.\n",
      "\n"
     ]
    }
   ],
   "source": [
    "pip install squarify"
   ]
  },
  {
   "cell_type": "markdown",
   "id": "80eaabf8",
   "metadata": {},
   "source": [
    "# Predicting BMI Score"
   ]
  },
  {
   "cell_type": "code",
   "execution_count": 79,
   "id": "fe2eb017",
   "metadata": {},
   "outputs": [
    {
     "data": {
      "text/html": [
       "<div>\n",
       "<style scoped>\n",
       "    .dataframe tbody tr th:only-of-type {\n",
       "        vertical-align: middle;\n",
       "    }\n",
       "\n",
       "    .dataframe tbody tr th {\n",
       "        vertical-align: top;\n",
       "    }\n",
       "\n",
       "    .dataframe thead th {\n",
       "        text-align: right;\n",
       "    }\n",
       "</style>\n",
       "<table border=\"1\" class=\"dataframe\">\n",
       "  <thead>\n",
       "    <tr style=\"text-align: right;\">\n",
       "      <th></th>\n",
       "      <th>Gender</th>\n",
       "      <th>Age</th>\n",
       "      <th>Urea</th>\n",
       "      <th>Cr</th>\n",
       "      <th>HbA1c</th>\n",
       "      <th>Chol</th>\n",
       "      <th>TG</th>\n",
       "      <th>HDL</th>\n",
       "      <th>LDL</th>\n",
       "      <th>VLDL</th>\n",
       "    </tr>\n",
       "  </thead>\n",
       "  <tbody>\n",
       "    <tr>\n",
       "      <th>0</th>\n",
       "      <td>0.000000</td>\n",
       "      <td>0.730217</td>\n",
       "      <td>0.068640</td>\n",
       "      <td>0.671800</td>\n",
       "      <td>0.071561</td>\n",
       "      <td>0.061338</td>\n",
       "      <td>0.013144</td>\n",
       "      <td>0.035050</td>\n",
       "      <td>0.020446</td>\n",
       "      <td>0.007302</td>\n",
       "    </tr>\n",
       "    <tr>\n",
       "      <th>1</th>\n",
       "      <td>0.014765</td>\n",
       "      <td>0.383897</td>\n",
       "      <td>0.066444</td>\n",
       "      <td>0.915446</td>\n",
       "      <td>0.072350</td>\n",
       "      <td>0.054631</td>\n",
       "      <td>0.020671</td>\n",
       "      <td>0.016242</td>\n",
       "      <td>0.031007</td>\n",
       "      <td>0.008859</td>\n",
       "    </tr>\n",
       "    <tr>\n",
       "      <th>2</th>\n",
       "      <td>0.000000</td>\n",
       "      <td>0.730217</td>\n",
       "      <td>0.068640</td>\n",
       "      <td>0.671800</td>\n",
       "      <td>0.071561</td>\n",
       "      <td>0.061338</td>\n",
       "      <td>0.013144</td>\n",
       "      <td>0.035050</td>\n",
       "      <td>0.020446</td>\n",
       "      <td>0.007302</td>\n",
       "    </tr>\n",
       "    <tr>\n",
       "      <th>3</th>\n",
       "      <td>0.000000</td>\n",
       "      <td>0.730217</td>\n",
       "      <td>0.068640</td>\n",
       "      <td>0.671800</td>\n",
       "      <td>0.071561</td>\n",
       "      <td>0.061338</td>\n",
       "      <td>0.013144</td>\n",
       "      <td>0.035050</td>\n",
       "      <td>0.020446</td>\n",
       "      <td>0.007302</td>\n",
       "    </tr>\n",
       "    <tr>\n",
       "      <th>4</th>\n",
       "      <td>0.017381</td>\n",
       "      <td>0.573568</td>\n",
       "      <td>0.123404</td>\n",
       "      <td>0.799519</td>\n",
       "      <td>0.085166</td>\n",
       "      <td>0.085166</td>\n",
       "      <td>0.017381</td>\n",
       "      <td>0.013905</td>\n",
       "      <td>0.034762</td>\n",
       "      <td>0.006952</td>\n",
       "    </tr>\n",
       "    <tr>\n",
       "      <th>...</th>\n",
       "      <td>...</td>\n",
       "      <td>...</td>\n",
       "      <td>...</td>\n",
       "      <td>...</td>\n",
       "      <td>...</td>\n",
       "      <td>...</td>\n",
       "      <td>...</td>\n",
       "      <td>...</td>\n",
       "      <td>...</td>\n",
       "      <td>...</td>\n",
       "    </tr>\n",
       "    <tr>\n",
       "      <th>995</th>\n",
       "      <td>0.008252</td>\n",
       "      <td>0.585894</td>\n",
       "      <td>0.090772</td>\n",
       "      <td>0.800446</td>\n",
       "      <td>0.057764</td>\n",
       "      <td>0.061890</td>\n",
       "      <td>0.014028</td>\n",
       "      <td>0.009902</td>\n",
       "      <td>0.014854</td>\n",
       "      <td>0.004951</td>\n",
       "    </tr>\n",
       "    <tr>\n",
       "      <th>996</th>\n",
       "      <td>0.014160</td>\n",
       "      <td>0.438962</td>\n",
       "      <td>0.042480</td>\n",
       "      <td>0.849604</td>\n",
       "      <td>0.174169</td>\n",
       "      <td>0.058056</td>\n",
       "      <td>0.031152</td>\n",
       "      <td>0.009912</td>\n",
       "      <td>0.033984</td>\n",
       "      <td>0.218065</td>\n",
       "    </tr>\n",
       "    <tr>\n",
       "      <th>997</th>\n",
       "      <td>0.011435</td>\n",
       "      <td>0.343039</td>\n",
       "      <td>0.081186</td>\n",
       "      <td>0.926206</td>\n",
       "      <td>0.076612</td>\n",
       "      <td>0.046882</td>\n",
       "      <td>0.012578</td>\n",
       "      <td>0.013722</td>\n",
       "      <td>0.027443</td>\n",
       "      <td>0.092621</td>\n",
       "    </tr>\n",
       "    <tr>\n",
       "      <th>998</th>\n",
       "      <td>0.013810</td>\n",
       "      <td>0.524770</td>\n",
       "      <td>0.080097</td>\n",
       "      <td>0.814775</td>\n",
       "      <td>0.092525</td>\n",
       "      <td>0.073192</td>\n",
       "      <td>0.027619</td>\n",
       "      <td>0.022096</td>\n",
       "      <td>0.040048</td>\n",
       "      <td>0.193336</td>\n",
       "    </tr>\n",
       "    <tr>\n",
       "      <th>999</th>\n",
       "      <td>0.011542</td>\n",
       "      <td>0.623262</td>\n",
       "      <td>0.057709</td>\n",
       "      <td>0.773307</td>\n",
       "      <td>0.079639</td>\n",
       "      <td>0.043859</td>\n",
       "      <td>0.019621</td>\n",
       "      <td>0.012696</td>\n",
       "      <td>0.034626</td>\n",
       "      <td>0.008079</td>\n",
       "    </tr>\n",
       "  </tbody>\n",
       "</table>\n",
       "<p>1000 rows × 10 columns</p>\n",
       "</div>"
      ],
      "text/plain": [
       "       Gender       Age      Urea        Cr     HbA1c      Chol        TG  \\\n",
       "0    0.000000  0.730217  0.068640  0.671800  0.071561  0.061338  0.013144   \n",
       "1    0.014765  0.383897  0.066444  0.915446  0.072350  0.054631  0.020671   \n",
       "2    0.000000  0.730217  0.068640  0.671800  0.071561  0.061338  0.013144   \n",
       "3    0.000000  0.730217  0.068640  0.671800  0.071561  0.061338  0.013144   \n",
       "4    0.017381  0.573568  0.123404  0.799519  0.085166  0.085166  0.017381   \n",
       "..        ...       ...       ...       ...       ...       ...       ...   \n",
       "995  0.008252  0.585894  0.090772  0.800446  0.057764  0.061890  0.014028   \n",
       "996  0.014160  0.438962  0.042480  0.849604  0.174169  0.058056  0.031152   \n",
       "997  0.011435  0.343039  0.081186  0.926206  0.076612  0.046882  0.012578   \n",
       "998  0.013810  0.524770  0.080097  0.814775  0.092525  0.073192  0.027619   \n",
       "999  0.011542  0.623262  0.057709  0.773307  0.079639  0.043859  0.019621   \n",
       "\n",
       "          HDL       LDL      VLDL  \n",
       "0    0.035050  0.020446  0.007302  \n",
       "1    0.016242  0.031007  0.008859  \n",
       "2    0.035050  0.020446  0.007302  \n",
       "3    0.035050  0.020446  0.007302  \n",
       "4    0.013905  0.034762  0.006952  \n",
       "..        ...       ...       ...  \n",
       "995  0.009902  0.014854  0.004951  \n",
       "996  0.009912  0.033984  0.218065  \n",
       "997  0.013722  0.027443  0.092621  \n",
       "998  0.022096  0.040048  0.193336  \n",
       "999  0.012696  0.034626  0.008079  \n",
       "\n",
       "[1000 rows x 10 columns]"
      ]
     },
     "metadata": {},
     "output_type": "display_data"
    },
    {
     "data": {
      "image/png": "[encoded data removed]",
      "text/plain": [
       "<Figure size 640x480 with 1 Axes>"
      ]
     },
     "metadata": {},
     "output_type": "display_data"
    }
   ],
   "source": [
    "# Feature Importance for BMI target variable\n",
    "\n",
    "from sklearn.ensemble import RandomForestRegressor\n",
    "from sklearn.preprocessing import OneHotEncoder\n",
    "import matplotlib.pyplot as plt\n",
    "import numpy as np\n",
    "\n",
    "# from sklearn.preprocessing import OneHotEncoder\n",
    "\n",
    "# oe = OneHotEncoder(sparse_output = False)\n",
    "\n",
    "from sklearn.preprocessing import Normalizer\n",
    "\n",
    "\n",
    "\n",
    "\n",
    "\n",
    "new_df = df.drop(columns = ['ID', 'No_Pation','BMI','CLASS'], axis =1)\n",
    "\n",
    "# print(new_df)\n",
    "\n",
    "\n",
    "\n",
    "nm = Normalizer(norm ='l2')\n",
    "new_df = nm.fit_transform(new_df)\n",
    "\n",
    "headers = ['Gender', 'Age', 'Urea','Cr', 'HbA1c', 'Chol', 'TG', 'HDL', 'LDL', 'VLDL']\n",
    "\n",
    "new_tab = pd.DataFrame(new_df, columns= headers)\n",
    "\n",
    "display(new_tab)\n",
    "\n",
    "\n",
    "# df_bmi = df['BMI']\n",
    "\n",
    "df_bmi = df['BMI']\n",
    "\n",
    "\n",
    "\n",
    "\n",
    "\n",
    "\n",
    "\n",
    "\n",
    "rf_model = RandomForestRegressor(random_state=1, max_depth=4)\n",
    "\n",
    "\n",
    "\n",
    "rf_model.fit(new_tab, df_bmi)\n",
    "\n",
    "train_features = new_tab.columns\n",
    "importances = rf_model.feature_importances_\n",
    "indices = np.argsort(importances)[-9:] # top 10 features\n",
    "plt.title('Feature Importance for BMI prediction')\n",
    "plt.barh(range(len(indices)), importances[indices], color='b', align='center')\n",
    "plt.yticks(range(len(indices)), [train_features[i] for i in indices])\n",
    "plt.xlabel('Relative Importance')\n",
    "plt.show()\n",
    "\n"
   ]
  },
  {
   "cell_type": "code",
   "execution_count": 80,
   "id": "a1a32c74",
   "metadata": {},
   "outputs": [
    {
     "name": "stdout",
     "output_type": "stream",
     "text": [
      "...................\n",
      "\n",
      "...................\n",
      "\n",
      "mean absolute error for Linear regression is 3.451978379413441\n",
      " mean squared error for Linear regression is 17.35362443785056\n",
      " root mean squared error for Linear regression is 4.165768168999634\n",
      " mean absolute error percentage for Linear regression is 12.156663741424893\n",
      "...................\n",
      "\n",
      " the intercept is 28.468836470364163\n",
      " the slope is [ 46.18018727 -46.62469279 -40.81497799  19.63427354]\n"
     ]
    },
    {
     "data": {
      "image/png": "[encoded data removed]",
      "text/plain": [
       "<Figure size 640x480 with 1 Axes>"
      ]
     },
     "metadata": {},
     "output_type": "display_data"
    }
   ],
   "source": [
    "from sklearn.linear_model import LinearRegression\n",
    "from sklearn.metrics import mean_absolute_error, mean_squared_error,mean_absolute_percentage_error\n",
    "import matplotlib.pyplot as plt\n",
    "\n",
    "\n",
    "lr = LinearRegression()\n",
    "\n",
    "\n",
    "X = new_tab[['HbA1c','LDL','Chol','VLDL']].values\n",
    "y = df_bmi.values\n",
    "\n",
    "\n",
    "\n",
    "X_train, X_test, y_train, y_test = train_test_split(X,y, test_size = 0.2, random_state = 100)\n",
    "\n",
    "lr.fit(X_train, y_train)\n",
    "\n",
    "\n",
    "\n",
    "\n",
    "y_pred = lr.predict(X_test)\n",
    "\n",
    "\n",
    "\n",
    "\n",
    "\n",
    "\n",
    "mae = mean_absolute_error(y_test, y_pred)\n",
    "mae_perc = mean_absolute_percentage_error(y_test, y_pred)\n",
    "mse = mean_squared_error(y_test, y_pred)\n",
    "rmse = np.sqrt(mse)\n",
    "\n",
    "print('...................\\n')\n",
    "\n",
    "\n",
    "\n",
    "print('...................\\n')\n",
    "\n",
    "print(f'mean absolute error for Linear regression is {mae}')\n",
    "print(f' mean squared error for Linear regression is {mse}')\n",
    "print(f' root mean squared error for Linear regression is {rmse}')\n",
    "print(f' mean absolute error percentage for Linear regression is {mae_perc*100}')\n",
    "\n",
    "\n",
    "\n",
    "\n",
    "\n",
    "print('...................\\n')\n",
    "\n",
    "print(f' the intercept is {lr.intercept_}')\n",
    "print(f' the slope is {lr.coef_}')\n",
    "\n",
    "import matplotlib.pyplot as plt\n",
    "\n",
    "plt.scatter(y_test, y_pred)\n",
    "plt.xlabel('Actual BMI')\n",
    "plt.ylabel('Predicted BMI')\n",
    "plt.title('Actual vs Predicted BMI - LR')\n",
    "\n",
    "x_line = np.linspace(min(y_test), max(y_test), 4)\n",
    "y_line = lr.coef_* x_line + lr.intercept_\n",
    "plt.plot(x_line, y_line, color='red')\n",
    "\n",
    "plt.show()\n",
    "\n"
   ]
  },
  {
   "cell_type": "code",
   "execution_count": 81,
   "id": "e4349a4b",
   "metadata": {},
   "outputs": [
    {
     "name": "stdout",
     "output_type": "stream",
     "text": [
      "Running on local URL:  http://127.0.0.1:7863\n",
      "\n",
      "To create a public link, set `share=True` in `launch()`.\n"
     ]
    },
    {
     "data": {
      "text/html": [
       "<div><iframe src=\"http://127.0.0.1:7863/\" width=\"100%\" height=\"500\" allow=\"autoplay; camera; microphone; clipboard-read; clipboard-write;\" frameborder=\"0\" allowfullscreen></iframe></div>"
      ],
      "text/plain": [
       "<IPython.core.display.HTML object>"
      ]
     },
     "metadata": {},
     "output_type": "display_data"
    },
    {
     "data": {
      "text/plain": []
     },
     "execution_count": 81,
     "metadata": {},
     "output_type": "execute_result"
    }
   ],
   "source": [
    "import gradio as gr\n",
    "from sklearn.preprocessing import Normalizer\n",
    "from sklearn.linear_model import LinearRegression\n",
    "import numpy as np\n",
    "\n",
    "\n",
    "nml = Normalizer(norm = 'l2')\n",
    "\n",
    "\n",
    "\n",
    "def ops(HbA1c,LDL,Chol,VLDL):\n",
    "    mod_inp = nml.fit_transform([[HbA1c,LDL,Chol,VLDL]])\n",
    "    bmi_norm = lr.predict(mod_inp)\n",
    "    return (str(int(np.array(bmi_norm)[0])))\n",
    "    \n",
    "\n",
    "\n",
    "\n",
    "sys_inputs = [gr.Slider(label = 'Sugar Level (HbA1c)', minimum = 1), \n",
    "              gr.Slider(label = 'LDL', minimum=1),\n",
    "             gr.Slider(label = 'Chol', minimum=1),\n",
    "             gr.Slider(label = 'VLDL', minimum=0)]\n",
    "\n",
    "Int2 = gr.Interface(fn = ops, inputs = sys_inputs, outputs = 'text')\n",
    "\n",
    "Int2.launch()\n",
    "\n",
    "\n",
    "\n",
    "\n",
    " "
   ]
  },
  {
   "cell_type": "code",
   "execution_count": 45,
   "id": "d546faa3",
   "metadata": {},
   "outputs": [
    {
     "name": "stdout",
     "output_type": "stream",
     "text": [
      "Requirement already satisfied: gradio in c:\\users\\jude\\anaconda3\\lib\\site-packages (3.28.3)\n",
      "Requirement already satisfied: pydub in c:\\users\\jude\\anaconda3\\lib\\site-packages (from gradio) (0.25.1)\n",
      "Requirement already satisfied: aiofiles in c:\\users\\jude\\anaconda3\\lib\\site-packages (from gradio) (23.1.0)\n",
      "Requirement already satisfied: huggingface-hub>=0.13.0 in c:\\users\\jude\\anaconda3\\lib\\site-packages (from gradio) (0.14.1)\n",
      "Requirement already satisfied: mdit-py-plugins<=0.3.3 in c:\\users\\jude\\anaconda3\\lib\\site-packages (from gradio) (0.3.3)\n",
      "Requirement already satisfied: pygments>=2.12.0 in c:\\users\\jude\\anaconda3\\lib\\site-packages (from gradio) (2.15.1)\n",
      "Requirement already satisfied: markdown-it-py[linkify]>=2.0.0 in c:\\users\\jude\\anaconda3\\lib\\site-packages (from gradio) (2.2.0)\n",
      "Requirement already satisfied: semantic-version in c:\\users\\jude\\anaconda3\\lib\\site-packages (from gradio) (2.10.0)\n",
      "Requirement already satisfied: matplotlib in c:\\users\\jude\\anaconda3\\lib\\site-packages (from gradio) (3.7.0)\n",
      "Requirement already satisfied: orjson in c:\\users\\jude\\anaconda3\\lib\\site-packages (from gradio) (3.8.11)\n",
      "Requirement already satisfied: jinja2 in c:\\users\\jude\\anaconda3\\lib\\site-packages (from gradio) (3.1.2)\n",
      "Requirement already satisfied: ffmpy in c:\\users\\jude\\anaconda3\\lib\\site-packages (from gradio) (0.3.0)\n",
      "Requirement already satisfied: pandas in c:\\users\\jude\\anaconda3\\lib\\site-packages (from gradio) (1.5.3)\n",
      "Requirement already satisfied: python-multipart in c:\\users\\jude\\anaconda3\\lib\\site-packages (from gradio) (0.0.6)\n",
      "Requirement already satisfied: numpy in c:\\users\\jude\\anaconda3\\lib\\site-packages (from gradio) (1.23.5)\n",
      "Requirement already satisfied: pydantic in c:\\users\\jude\\anaconda3\\lib\\site-packages (from gradio) (1.10.7)\n",
      "Requirement already satisfied: pyyaml in c:\\users\\jude\\anaconda3\\lib\\site-packages (from gradio) (6.0)\n",
      "Requirement already satisfied: markupsafe in c:\\users\\jude\\anaconda3\\lib\\site-packages (from gradio) (2.1.1)\n",
      "Requirement already satisfied: fastapi in c:\\users\\jude\\anaconda3\\lib\\site-packages (from gradio) (0.95.1)\n",
      "Requirement already satisfied: uvicorn in c:\\users\\jude\\anaconda3\\lib\\site-packages (from gradio) (0.22.0)\n",
      "Requirement already satisfied: aiohttp in c:\\users\\jude\\anaconda3\\lib\\site-packages (from gradio) (3.8.4)\n",
      "Requirement already satisfied: gradio-client>=0.1.3 in c:\\users\\jude\\anaconda3\\lib\\site-packages (from gradio) (0.2.0)\n",
      "Requirement already satisfied: websockets>=10.0 in c:\\users\\jude\\anaconda3\\lib\\site-packages (from gradio) (11.0.2)\n",
      "Requirement already satisfied: pillow in c:\\users\\jude\\anaconda3\\lib\\site-packages (from gradio) (9.4.0)\n",
      "Requirement already satisfied: typing-extensions in c:\\users\\jude\\anaconda3\\lib\\site-packages (from gradio) (4.4.0)\n",
      "Requirement already satisfied: altair>=4.2.0 in c:\\users\\jude\\anaconda3\\lib\\site-packages (from gradio) (4.2.2)\n",
      "Requirement already satisfied: httpx in c:\\users\\jude\\anaconda3\\lib\\site-packages (from gradio) (0.24.0)\n",
      "Requirement already satisfied: requests in c:\\users\\jude\\anaconda3\\lib\\site-packages (from gradio) (2.28.1)\n",
      "Requirement already satisfied: entrypoints in c:\\users\\jude\\anaconda3\\lib\\site-packages (from altair>=4.2.0->gradio) (0.4)\n",
      "Requirement already satisfied: jsonschema>=3.0 in c:\\users\\jude\\anaconda3\\lib\\site-packages (from altair>=4.2.0->gradio) (4.17.3)\n",
      "Requirement already satisfied: toolz in c:\\users\\jude\\anaconda3\\lib\\site-packages (from altair>=4.2.0->gradio) (0.12.0)\n",
      "Requirement already satisfied: packaging in c:\\users\\jude\\anaconda3\\lib\\site-packages (from gradio-client>=0.1.3->gradio) (22.0)\n",
      "Requirement already satisfied: fsspec in c:\\users\\jude\\anaconda3\\lib\\site-packages (from gradio-client>=0.1.3->gradio) (2022.11.0)\n",
      "Requirement already satisfied: filelock in c:\\users\\jude\\anaconda3\\lib\\site-packages (from huggingface-hub>=0.13.0->gradio) (3.9.0)\n",
      "Requirement already satisfied: tqdm>=4.42.1 in c:\\users\\jude\\anaconda3\\lib\\site-packages (from huggingface-hub>=0.13.0->gradio) (4.64.1)\n",
      "Requirement already satisfied: mdurl~=0.1 in c:\\users\\jude\\anaconda3\\lib\\site-packages (from markdown-it-py[linkify]>=2.0.0->gradio) (0.1.2)\n",
      "Requirement already satisfied: linkify-it-py<3,>=1 in c:\\users\\jude\\anaconda3\\lib\\site-packages (from markdown-it-py[linkify]>=2.0.0->gradio) (2.0.2)\n",
      "Requirement already satisfied: pytz>=2020.1 in c:\\users\\jude\\anaconda3\\lib\\site-packages (from pandas->gradio) (2022.7)\n",
      "Requirement already satisfied: python-dateutil>=2.8.1 in c:\\users\\jude\\anaconda3\\lib\\site-packages (from pandas->gradio) (2.8.2)\n",
      "Requirement already satisfied: attrs>=17.3.0 in c:\\users\\jude\\anaconda3\\lib\\site-packages (from aiohttp->gradio) (22.1.0)\n",
      "Requirement already satisfied: yarl<2.0,>=1.0 in c:\\users\\jude\\anaconda3\\lib\\site-packages (from aiohttp->gradio) (1.9.2)\n",
      "Requirement already satisfied: aiosignal>=1.1.2 in c:\\users\\jude\\anaconda3\\lib\\site-packages (from aiohttp->gradio) (1.3.1)\n",
      "Requirement already satisfied: charset-normalizer<4.0,>=2.0 in c:\\users\\jude\\anaconda3\\lib\\site-packages (from aiohttp->gradio) (2.0.4)\n",
      "Requirement already satisfied: multidict<7.0,>=4.5 in c:\\users\\jude\\anaconda3\\lib\\site-packages (from aiohttp->gradio) (6.0.4)\n",
      "Requirement already satisfied: frozenlist>=1.1.1 in c:\\users\\jude\\anaconda3\\lib\\site-packages (from aiohttp->gradio) (1.3.3)\n",
      "Requirement already satisfied: async-timeout<5.0,>=4.0.0a3 in c:\\users\\jude\\anaconda3\\lib\\site-packages (from aiohttp->gradio) (4.0.2)\n",
      "Requirement already satisfied: starlette<0.27.0,>=0.26.1 in c:\\users\\jude\\anaconda3\\lib\\site-packages (from fastapi->gradio) (0.26.1)\n",
      "Requirement already satisfied: certifi in c:\\users\\jude\\anaconda3\\lib\\site-packages (from httpx->gradio) (2022.12.7)\n",
      "Requirement already satisfied: idna in c:\\users\\jude\\anaconda3\\lib\\site-packages (from httpx->gradio) (3.4)\n",
      "Requirement already satisfied: httpcore<0.18.0,>=0.15.0 in c:\\users\\jude\\anaconda3\\lib\\site-packages (from httpx->gradio) (0.17.0)\n",
      "Requirement already satisfied: sniffio in c:\\users\\jude\\anaconda3\\lib\\site-packages (from httpx->gradio) (1.2.0)\n",
      "Requirement already satisfied: pyparsing>=2.3.1 in c:\\users\\jude\\anaconda3\\lib\\site-packages (from matplotlib->gradio) (3.0.9)\n",
      "Requirement already satisfied: contourpy>=1.0.1 in c:\\users\\jude\\anaconda3\\lib\\site-packages (from matplotlib->gradio) (1.0.5)\n",
      "Requirement already satisfied: fonttools>=4.22.0 in c:\\users\\jude\\anaconda3\\lib\\site-packages (from matplotlib->gradio) (4.25.0)\n",
      "Requirement already satisfied: kiwisolver>=1.0.1 in c:\\users\\jude\\anaconda3\\lib\\site-packages (from matplotlib->gradio) (1.4.4)\n",
      "Requirement already satisfied: cycler>=0.10 in c:\\users\\jude\\anaconda3\\lib\\site-packages (from matplotlib->gradio) (0.11.0)\n",
      "Requirement already satisfied: urllib3<1.27,>=1.21.1 in c:\\users\\jude\\anaconda3\\lib\\site-packages (from requests->gradio) (1.26.14)\n",
      "Requirement already satisfied: h11>=0.8 in c:\\users\\jude\\anaconda3\\lib\\site-packages (from uvicorn->gradio) (0.14.0)\n",
      "Requirement already satisfied: click>=7.0 in c:\\users\\jude\\anaconda3\\lib\\site-packages (from uvicorn->gradio) (8.0.4)\n",
      "Requirement already satisfied: colorama in c:\\users\\jude\\anaconda3\\lib\\site-packages (from click>=7.0->uvicorn->gradio) (0.4.6)\n",
      "Requirement already satisfied: anyio<5.0,>=3.0 in c:\\users\\jude\\anaconda3\\lib\\site-packages (from httpcore<0.18.0,>=0.15.0->httpx->gradio) (3.5.0)\n",
      "Requirement already satisfied: pyrsistent!=0.17.0,!=0.17.1,!=0.17.2,>=0.14.0 in c:\\users\\jude\\anaconda3\\lib\\site-packages (from jsonschema>=3.0->altair>=4.2.0->gradio) (0.18.0)\n",
      "Requirement already satisfied: uc-micro-py in c:\\users\\jude\\anaconda3\\lib\\site-packages (from linkify-it-py<3,>=1->markdown-it-py[linkify]>=2.0.0->gradio) (1.0.2)\n",
      "Requirement already satisfied: six>=1.5 in c:\\users\\jude\\anaconda3\\lib\\site-packages (from python-dateutil>=2.8.1->pandas->gradio) (1.16.0)\n",
      "Note: you may need to restart the kernel to use updated packages.\n"
     ]
    }
   ],
   "source": [
    "pip install gradio"
   ]
  },
  {
   "cell_type": "code",
   "execution_count": null,
   "id": "4b584e65",
   "metadata": {},
   "outputs": [],
   "source": []
  }
 ],
 "metadata": {
  "kernelspec": {
   "display_name": "Python 3 (ipykernel)",
   "language": "python",
   "name": "python3"
  },
  "language_info": {
   "codemirror_mode": {
    "name": "ipython",
    "version": 3
   },
   "file_extension": ".py",
   "mimetype": "text/x-python",
   "name": "python",
   "nbconvert_exporter": "python",
   "pygments_lexer": "ipython3",
   "version": "3.10.9"
  }
 },
 "nbformat": 4,
 "nbformat_minor": 5
}
